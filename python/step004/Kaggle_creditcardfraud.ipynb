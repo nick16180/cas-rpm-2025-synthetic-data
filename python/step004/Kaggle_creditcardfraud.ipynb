{
 "cells": [
  {
   "cell_type": "code",
   "execution_count": 2,
   "metadata": {},
   "outputs": [],
   "source": [
    "from pathlib import Path\n",
    "\n",
    "import lightgbm as lgbm\n",
    "import numpy as np\n",
    "import pandas as pd\n",
    "from sklearn import metrics\n",
    "from sklearn.model_selection import train_test_split\n",
    "\n",
    "PROJECT_ROOT = Path(__name__).resolve().parent.parent.parent\n",
    "INPUT_FOLDER = PROJECT_ROOT / \"data/input\"\n",
    "OUTPUT_FOLDER = PROJECT_ROOT / \"data/output\"\n",
    "OUTPUT_FOLDER.mkdir(parents=True, exist_ok=True)"
   ]
  },
  {
   "cell_type": "code",
   "execution_count": 3,
   "metadata": {},
   "outputs": [],
   "source": [
    "ifolder = INPUT_FOLDER / \"Kaggle_creditcardfraud\"\n",
    "ofolder = OUTPUT_FOLDER / \"Kaggle_creditcardfraud\"\n",
    "\n",
    "mod_df = pd.read_pickle(ofolder / \"real_df_model.pkl\")\n",
    "syn1_df = pd.read_pickle(ofolder / \"syn_df_balanced1.pkl\")\n",
    "syn2_df = pd.read_pickle(ofolder / \"syn_df_balanced2.pkl\")\n",
    "synu_df = pd.read_pickle(ofolder / \"syn_df_unbalanced.pkl\")\n",
    "val_df = pd.read_pickle(ofolder / \"real_df_validation.pkl\")\n",
    "\n",
    "# Validation data\n",
    "x_val = val_df.drop([\"Class\", \"rand10\"], axis=1)\n",
    "y_val = val_df.Class"
   ]
  },
  {
   "cell_type": "code",
   "execution_count": 4,
   "metadata": {},
   "outputs": [
    {
     "name": "stdout",
     "output_type": "stream",
     "text": [
      "[LightGBM] [Info] Number of positive: 326, number of negative: 189510\n",
      "[LightGBM] [Info] Auto-choosing col-wise multi-threading, the overhead of testing was 0.011225 seconds.\n",
      "You can set `force_col_wise=true` to remove the overhead.\n",
      "[LightGBM] [Info] Total Bins 7650\n",
      "[LightGBM] [Info] Number of data points in the train set: 189836, number of used features: 30\n",
      "[LightGBM] [Info] [binary:BoostFromScore]: pavg=0.001717 -> initscore=-6.365300\n",
      "[LightGBM] [Info] Start training from score -6.365300\n"
     ]
    }
   ],
   "source": [
    "# Train gbm using real data set\n",
    "x = mod_df.drop([\"Class\", \"rand10\"], axis=1)\n",
    "y = mod_df.Class\n",
    "x_train, x_test, y_train, y_test = train_test_split(\n",
    "    x, y, test_size=0.25, random_state=100\n",
    ")\n",
    "model1 = lgbm.LGBMClassifier(learning_rate=0.005, max_depth=-1, n_estimators=300, random_state=100)\n",
    "model1.fit(\n",
    "    x_train,\n",
    "    y_train,\n",
    "    eval_set=[(x_test, y_test), (x_train, y_train)],\n",
    "    eval_metric=\"logloss\",\n",
    ")\n",
    "model1_report = {\n",
    "    \"test\": metrics.classification_report(\n",
    "        y_test, model1.predict(x_test), output_dict=True\n",
    "    ),\n",
    "    \"validation\": metrics.classification_report(\n",
    "        y_val, model1.predict(x_val), output_dict=True\n",
    "    ),\n",
    "    \"validation_cm\": metrics.confusion_matrix(y_val, model1.predict(x_val)),\n",
    "}"
   ]
  },
  {
   "cell_type": "code",
   "execution_count": 5,
   "metadata": {},
   "outputs": [
    {
     "name": "stdout",
     "output_type": "stream",
     "text": [
      "[LightGBM] [Info] Number of positive: 189401, number of negative: 189622\n",
      "[LightGBM] [Info] Auto-choosing col-wise multi-threading, the overhead of testing was 0.016253 seconds.\n",
      "You can set `force_col_wise=true` to remove the overhead.\n",
      "[LightGBM] [Info] Total Bins 7650\n",
      "[LightGBM] [Info] Number of data points in the train set: 379023, number of used features: 30\n",
      "[LightGBM] [Info] [binary:BoostFromScore]: pavg=0.499708 -> initscore=-0.001166\n",
      "[LightGBM] [Info] Start training from score -0.001166\n"
     ]
    }
   ],
   "source": [
    "# Train gbm using synthesized data set\n",
    "x = syn1_df.drop([\"Class\", \"rand10\"], axis=1)\n",
    "y = syn1_df.Class\n",
    "x_train, x_test, y_train, y_test = train_test_split(\n",
    "    x, y, test_size=0.25, random_state=100\n",
    ")\n",
    "model2 = lgbm.LGBMClassifier(learning_rate=0.005, max_depth=-1, n_estimators=300, random_state=100)\n",
    "model2.fit(\n",
    "    x_train,\n",
    "    y_train,\n",
    "    eval_set=[(x_test, y_test), (x_train, y_train)],\n",
    "    eval_metric=\"logloss\",\n",
    ")\n",
    "model2_report = {\n",
    "    \"test\": metrics.classification_report(\n",
    "        y_test, model2.predict(x_test), output_dict=True\n",
    "    ),\n",
    "    \"validation\": metrics.classification_report(\n",
    "        y_val, model2.predict(x_val), output_dict=True\n",
    "    ),\n",
    "    \"validation_cm\": metrics.confusion_matrix(y_val, model2.predict(x_val)),\n",
    "}"
   ]
  },
  {
   "cell_type": "code",
   "execution_count": 6,
   "metadata": {},
   "outputs": [
    {
     "name": "stdout",
     "output_type": "stream",
     "text": [
      "[LightGBM] [Info] Number of positive: 7999, number of negative: 7904\n",
      "[LightGBM] [Info] Auto-choosing col-wise multi-threading, the overhead of testing was 0.001204 seconds.\n",
      "You can set `force_col_wise=true` to remove the overhead.\n",
      "[LightGBM] [Info] Total Bins 7650\n",
      "[LightGBM] [Info] Number of data points in the train set: 15903, number of used features: 30\n",
      "[LightGBM] [Info] [binary:BoostFromScore]: pavg=0.502987 -> initscore=0.011948\n",
      "[LightGBM] [Info] Start training from score 0.011948\n"
     ]
    }
   ],
   "source": [
    "# Train gbm using synthesized data set\n",
    "x = syn2_df.drop([\"Class\", \"rand10\"], axis=1)\n",
    "y = syn2_df.Class\n",
    "x_train, x_test, y_train, y_test = train_test_split(\n",
    "    x, y, test_size=0.25, random_state=100\n",
    ")\n",
    "model3 = lgbm.LGBMClassifier(learning_rate=0.005, max_depth=-1, n_estimators=300, random_state=100)\n",
    "model3.fit(\n",
    "    x_train,\n",
    "    y_train,\n",
    "    eval_set=[(x_test, y_test), (x_train, y_train)],\n",
    "    eval_metric=\"logloss\",\n",
    ")\n",
    "model3_report = {\n",
    "    \"test\": metrics.classification_report(\n",
    "        y_test, model3.predict(x_test), output_dict=True\n",
    "    ),\n",
    "    \"validation\": metrics.classification_report(\n",
    "        y_val, model3.predict(x_val), output_dict=True\n",
    "    ),\n",
    "    \"validation_cm\": metrics.confusion_matrix(y_val, model3.predict(x_val)),\n",
    "}"
   ]
  },
  {
   "cell_type": "code",
   "execution_count": null,
   "metadata": {},
   "outputs": [
    {
     "name": "stdout",
     "output_type": "stream",
     "text": [
      "[LightGBM] [Info] Number of positive: 2630, number of negative: 7939\n",
      "[LightGBM] [Info] Auto-choosing col-wise multi-threading, the overhead of testing was 0.000943 seconds.\n",
      "You can set `force_col_wise=true` to remove the overhead.\n",
      "[LightGBM] [Info] Total Bins 7650\n",
      "[LightGBM] [Info] Number of data points in the train set: 10569, number of used features: 30\n",
      "[LightGBM] [Info] [binary:BoostFromScore]: pavg=0.248841 -> initscore=-1.104803\n",
      "[LightGBM] [Info] Start training from score -1.104803\n",
      "[LightGBM] [Warning] No further splits with positive gain, best gain: -inf\n",
      "[LightGBM] [Warning] No further splits with positive gain, best gain: -inf\n",
      "[LightGBM] [Warning] No further splits with positive gain, best gain: -inf\n",
      "[LightGBM] [Warning] No further splits with positive gain, best gain: -inf\n",
      "[LightGBM] [Warning] No further splits with positive gain, best gain: -inf\n",
      "[LightGBM] [Warning] No further splits with positive gain, best gain: -inf\n",
      "[LightGBM] [Warning] No further splits with positive gain, best gain: -inf\n"
     ]
    }
   ],
   "source": [
    "# Train gbm using synthesized data set\n",
    "x = synu_df.drop([\"Class\", \"rand10\"], axis=1)\n",
    "y = synu_df.Class\n",
    "x_train, x_test, y_train, y_test = train_test_split(\n",
    "    x, y, test_size=0.25, random_state=100\n",
    ")\n",
    "model4 = lgbm.LGBMClassifier(learning_rate=0.005, max_depth=-1, n_estimators=300, random_state=100)\n",
    "model4.fit(\n",
    "    x_train,\n",
    "    y_train,\n",
    "    eval_set=[(x_test, y_test), (x_train, y_train)],\n",
    "    eval_metric=\"logloss\",\n",
    ")\n",
    "model4_report = {\n",
    "    \"test\": metrics.classification_report(\n",
    "        y_test, model4.predict(x_test), output_dict=True\n",
    "    ),\n",
    "    \"validation\": metrics.classification_report(\n",
    "        y_val, model4.predict(x_val), output_dict=True\n",
    "    ),\n",
    "    # Rows are actual, columns are predicted\n",
    "    \"validation_cm\": metrics.confusion_matrix(y_val, model4.predict(x_val)),\n",
    "}"
   ]
  },
  {
   "cell_type": "code",
   "execution_count": null,
   "metadata": {},
   "outputs": [
    {
     "name": "stdout",
     "output_type": "stream",
     "text": [
      "0.9285\n",
      "0.9995\n",
      "[[31632     1]\n",
      " [   14    45]]\n"
     ]
    }
   ],
   "source": [
    "# real model\n",
    "print(round(model1_report.get(\"validation\").get(\"macro avg\").get(\"f1-score\"), 4))\n",
    "print(round(model1_report.get(\"validation\").get(\"accuracy\"), 4))\n",
    "print(model1_report.get(\"validation_cm\"))"
   ]
  },
  {
   "cell_type": "code",
   "execution_count": 9,
   "metadata": {},
   "outputs": [
    {
     "name": "stdout",
     "output_type": "stream",
     "text": [
      "0.8799\n",
      "0.9991\n",
      "[[31617    16]\n",
      " [   13    46]]\n"
     ]
    }
   ],
   "source": [
    "# large balanced data\n",
    "print(round(model2_report.get(\"validation\").get(\"macro avg\").get(\"f1-score\"), 4))\n",
    "print(round(model2_report.get(\"validation\").get(\"accuracy\"), 4))\n",
    "print(model2_report.get(\"validation_cm\"))"
   ]
  },
  {
   "cell_type": "code",
   "execution_count": 10,
   "metadata": {},
   "outputs": [
    {
     "name": "stdout",
     "output_type": "stream",
     "text": [
      "0.8157\n",
      "0.9982\n",
      "[[31586    47]\n",
      " [   10    49]]\n"
     ]
    }
   ],
   "source": [
    "# smaller balanced data\n",
    "print(round(model3_report.get(\"validation\").get(\"macro avg\").get(\"f1-score\"), 4))\n",
    "print(round(model3_report.get(\"validation\").get(\"accuracy\"), 4))\n",
    "print(model3_report.get(\"validation_cm\"))"
   ]
  },
  {
   "cell_type": "code",
   "execution_count": 11,
   "metadata": {},
   "outputs": [
    {
     "name": "stdout",
     "output_type": "stream",
     "text": [
      "0.8285\n",
      "0.9984\n",
      "[[31592    41]\n",
      " [   10    49]]\n"
     ]
    }
   ],
   "source": [
    "# smaller unbalanced data\n",
    "print(round(model4_report.get(\"validation\").get(\"macro avg\").get(\"f1-score\"), 4))\n",
    "print(round(model4_report.get(\"validation\").get(\"accuracy\"), 4))\n",
    "print(model4_report.get(\"validation_cm\"))"
   ]
  }
 ],
 "metadata": {
  "kernelspec": {
   "display_name": ".venv",
   "language": "python",
   "name": "python3"
  },
  "language_info": {
   "codemirror_mode": {
    "name": "ipython",
    "version": 3
   },
   "file_extension": ".py",
   "mimetype": "text/x-python",
   "name": "python",
   "nbconvert_exporter": "python",
   "pygments_lexer": "ipython3",
   "version": "3.12.3"
  }
 },
 "nbformat": 4,
 "nbformat_minor": 2
}
