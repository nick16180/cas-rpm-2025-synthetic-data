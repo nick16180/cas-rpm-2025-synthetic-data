{
 "cells": [
  {
   "cell_type": "code",
   "execution_count": 66,
   "metadata": {},
   "outputs": [],
   "source": [
    "from pathlib import Path\n",
    "\n",
    "import pandas as pd\n",
    "\n",
    "PROJECT_ROOT = Path(__name__).resolve().parent.parent.parent\n",
    "INPUT_FOLDER = PROJECT_ROOT / \"data/input\"\n",
    "OUTPUT_FOLDER = PROJECT_ROOT / \"data/output\"\n",
    "OUTPUT_FOLDER.mkdir(parents=True, exist_ok=True)"
   ]
  },
  {
   "cell_type": "code",
   "execution_count": null,
   "metadata": {},
   "outputs": [],
   "source": [
    "ifolder = INPUT_FOLDER / \"UCI_adult\"\n",
    "ofolder = OUTPUT_FOLDER / \"UCI_adult\"\n",
    "\n",
    "# read and resave data for use in R\n",
    "mod_df = pd.read_pickle(ofolder / \"real_df_model.pkl\")\n",
    "syn_df = pd.read_pickle(ofolder / \"syn_df.pkl\")\n",
    "val_df = pd.read_pickle(ofolder / \"real_df_validation.pkl\")\n",
    "\n",
    "mod_df.to_csv(ofolder / \"real_df_model.csv\", index=False)\n",
    "syn_df.to_csv(ofolder / \"syn_df.csv\", index=False)\n",
    "val_df.to_csv(ofolder / \"real_df_validation.csv\", index=False)\n",
    "\n",
    "# Go run the associated step003 R file now"
   ]
  },
  {
   "cell_type": "markdown",
   "metadata": {},
   "source": []
  }
 ],
 "metadata": {
  "kernelspec": {
   "display_name": ".venv",
   "language": "python",
   "name": "python3"
  },
  "language_info": {
   "codemirror_mode": {
    "name": "ipython",
    "version": 3
   },
   "file_extension": ".py",
   "mimetype": "text/x-python",
   "name": "python",
   "nbconvert_exporter": "python",
   "pygments_lexer": "ipython3",
   "version": "3.12.3"
  }
 },
 "nbformat": 4,
 "nbformat_minor": 2
}
