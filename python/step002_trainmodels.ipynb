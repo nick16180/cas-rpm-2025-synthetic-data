{
 "cells": [
  {
   "cell_type": "code",
   "execution_count": 14,
   "metadata": {},
   "outputs": [],
   "source": [
    "from sdv.single_table import CTGANSynthesizer\n",
    "from sdv.metadata import Metadata\n",
    "import logging\n",
    "from pathlib import Path\n",
    "import pandas as pd\n",
    "import time\n",
    "\n",
    "PROJECT_ROOT = Path(__name__).resolve().parent.parent\n",
    "INPUT_FOLDER = PROJECT_ROOT / \"data/input\"\n",
    "OUTPUT_FOLDER = PROJECT_ROOT / \"data/output\"\n",
    "OUTPUT_FOLDER.mkdir(parents=True, exist_ok=True)"
   ]
  },
  {
   "cell_type": "code",
   "execution_count": null,
   "metadata": {},
   "outputs": [
    {
     "data": {
      "text/plain": [
       "   39          State-gov   77516   Bachelors  ...   0  40   United-States   <=50K\n",
       "0  50   Self-emp-not-inc   83311   Bachelors  ...   0  13   United-States   <=50K\n",
       "1  38            Private  215646     HS-grad  ...   0  40   United-States   <=50K\n",
       "2  53            Private  234721        11th  ...   0  40   United-States   <=50K\n",
       "3  28            Private  338409   Bachelors  ...   0  40            Cuba   <=50K\n",
       "4  37            Private  284582     Masters  ...   0  40   United-States   <=50K\n",
       "\n",
       "[5 rows x 15 columns]\n",
       "(32560, 15)\n"
      ]
     },
     "metadata": {},
     "output_type": "display_data"
    }
   ],
   "source": [
    "# UCI Adult data\n",
    "# Read data and check\n",
    "data_path = Path(INPUT_FOLDER / \"UCI_adult/adult.data\")\n",
    "colnames = [\"Income_Category\", \"age\", \"workclass\", \"fnlwgt\", \"education\", \"education_num\", \"marital_status\", \"occupation\", \"relationship\", \"race\", \"sex\", \"capital_gain\", \"capital_loss\", \"hours_per_week\", \"native_country\"]\n",
    "df = pd.read_csv(data_path, names=colnames)\n",
    "print(df.head())\n",
    "print(df.shape)\n",
    "\n",
    "# set up metadata for GAN\n",
    "df_meta = Metadata.detect_from_dataframe(df)\n",
    "gen = CTGANSynthesizer(\n",
    "    metadata=df_meta,\n",
    "    epochs=500,\n",
    "    verbose=True,\n",
    ")\n"
   ]
  },
  {
   "cell_type": "code",
   "execution_count": null,
   "metadata": {},
   "outputs": [],
   "source": [
    "# Train the GAN - keep track of the time to execute\n",
    "tstart = time.time()\n",
    "gen.fit(df)\n",
    "tend = time.time()\n",
    "duration = tend - tstart"
   ]
  },
  {
   "cell_type": "code",
   "execution_count": null,
   "metadata": {},
   "outputs": [
    {
     "data": {
      "application/vnd.plotly.v1+json": {
       "config": {
        "plotlyServerURL": "https://plot.ly"
       },
       "data": [
        {
         "hovertemplate": "variable=Generator Loss<br>Epoch=%{x}<br>value=%{y}<extra></extra>",
         "legendgroup": "Generator Loss",
         "line": {
          "color": "#000036",
          "dash": "solid"
         },
         "marker": {
          "symbol": "circle"
         },
         "mode": "lines",
         "name": "Generator Loss",
         "orientation": "v",
         "showlegend": true,
         "type": "scatter",
         "x": {
          "bdata": "AAABAAIAAwAEAAUABgAHAAgACQAKAAsADAANAA4ADwAQABEAEgATABQAFQAWABcAGAAZABoAGwAcAB0AHgAfACAAIQAiACMAJAAlACYAJwAoACkAKgArACwALQAuAC8AMAAxADIAMwA0ADUANgA3ADgAOQA6ADsAPAA9AD4APwBAAEEAQgBDAEQARQBGAEcASABJAEoASwBMAE0ATgBPAFAAUQBSAFMAVABVAFYAVwBYAFkAWgBbAFwAXQBeAF8AYABhAGIAYwBkAGUAZgBnAGgAaQBqAGsAbABtAG4AbwBwAHEAcgBzAHQAdQB2AHcAeAB5AHoAewB8AH0AfgB/AIAAgQCCAIMAhACFAIYAhwCIAIkAigCLAIwAjQCOAI8AkACRAJIAkwCUAJUAlgCXAJgAmQCaAJsAnACdAJ4AnwCgAKEAogCjAKQApQCmAKcAqACpAKoAqwCsAK0ArgCvALAAsQCyALMAtAC1ALYAtwC4ALkAugC7ALwAvQC+AL8AwADBAMIAwwDEAMUAxgDHAMgAyQDKAMsAzADNAM4AzwDQANEA0gDTANQA1QDWANcA2ADZANoA2wDcAN0A3gDfAOAA4QDiAOMA5ADlAOYA5wDoAOkA6gDrAOwA7QDuAO8A8ADxAPIA8wD0APUA9gD3APgA+QD6APsA/AD9AP4A/wAAAQEBAgEDAQQBBQEGAQcBCAEJAQoBCwEMAQ0BDgEPARABEQESARMBFAEVARYBFwEYARkBGgEbARwBHQEeAR8BIAEhASIBIwEkASUBJgEnASgBKQEqASsBLAEtAS4BLwEwATEBMgEzATQBNQE2ATcBOAE5AToBOwE8AT0BPgE/AUABQQFCAUMBRAFFAUYBRwFIAUkBSgFLAUwBTQFOAU8BUAFRAVIBUwFUAVUBVgFXAVgBWQFaAVsBXAFdAV4BXwFgAWEBYgFjAWQBZQFmAWcBaAFpAWoBawFsAW0BbgFvAXABcQFyAXMBdAF1AXYBdwF4AXkBegF7AXwBfQF+AX8BgAGBAYIBgwGEAYUBhgGHAYgBiQGKAYsBjAGNAY4BjwGQAZEBkgGTAZQBlQGWAZcBmAGZAZoBmwGcAZ0BngGfAaABoQGiAaMBpAGlAaYBpwGoAakBqgGrAawBrQGuAa8BsAGxAbIBswG0AbUBtgG3AbgBuQG6AbsBvAG9Ab4BvwHAAcEBwgHDAcQBxQHGAccByAHJAcoBywHMAc0BzgHPAdAB0QHSAdMB1AHVAdYB1wHYAdkB2gHbAdwB3QHeAd8B4AHhAeIB4wHkAeUB5gHnAegB6QHqAesB7AHtAe4B7wHwAfEB8gHzAQ==",
          "dtype": "i2"
         },
         "xaxis": "x",
         "y": {
          "bdata": "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",
          "dtype": "f8"
         },
         "yaxis": "y"
        },
        {
         "hovertemplate": "variable=Discriminator Loss<br>Epoch=%{x}<br>value=%{y}<extra></extra>",
         "legendgroup": "Discriminator Loss",
         "line": {
          "color": "#01E0C9",
          "dash": "solid"
         },
         "marker": {
          "symbol": "circle"
         },
         "mode": "lines",
         "name": "Discriminator Loss",
         "orientation": "v",
         "showlegend": true,
         "type": "scatter",
         "x": {
          "bdata": "AAABAAIAAwAEAAUABgAHAAgACQAKAAsADAANAA4ADwAQABEAEgATABQAFQAWABcAGAAZABoAGwAcAB0AHgAfACAAIQAiACMAJAAlACYAJwAoACkAKgArACwALQAuAC8AMAAxADIAMwA0ADUANgA3ADgAOQA6ADsAPAA9AD4APwBAAEEAQgBDAEQARQBGAEcASABJAEoASwBMAE0ATgBPAFAAUQBSAFMAVABVAFYAVwBYAFkAWgBbAFwAXQBeAF8AYABhAGIAYwBkAGUAZgBnAGgAaQBqAGsAbABtAG4AbwBwAHEAcgBzAHQAdQB2AHcAeAB5AHoAewB8AH0AfgB/AIAAgQCCAIMAhACFAIYAhwCIAIkAigCLAIwAjQCOAI8AkACRAJIAkwCUAJUAlgCXAJgAmQCaAJsAnACdAJ4AnwCgAKEAogCjAKQApQCmAKcAqACpAKoAqwCsAK0ArgCvALAAsQCyALMAtAC1ALYAtwC4ALkAugC7ALwAvQC+AL8AwADBAMIAwwDEAMUAxgDHAMgAyQDKAMsAzADNAM4AzwDQANEA0gDTANQA1QDWANcA2ADZANoA2wDcAN0A3gDfAOAA4QDiAOMA5ADlAOYA5wDoAOkA6gDrAOwA7QDuAO8A8ADxAPIA8wD0APUA9gD3APgA+QD6APsA/AD9AP4A/wAAAQEBAgEDAQQBBQEGAQcBCAEJAQoBCwEMAQ0BDgEPARABEQESARMBFAEVARYBFwEYARkBGgEbARwBHQEeAR8BIAEhASIBIwEkASUBJgEnASgBKQEqASsBLAEtAS4BLwEwATEBMgEzATQBNQE2ATcBOAE5AToBOwE8AT0BPgE/AUABQQFCAUMBRAFFAUYBRwFIAUkBSgFLAUwBTQFOAU8BUAFRAVIBUwFUAVUBVgFXAVgBWQFaAVsBXAFdAV4BXwFgAWEBYgFjAWQBZQFmAWcBaAFpAWoBawFsAW0BbgFvAXABcQFyAXMBdAF1AXYBdwF4AXkBegF7AXwBfQF+AX8BgAGBAYIBgwGEAYUBhgGHAYgBiQGKAYsBjAGNAY4BjwGQAZEBkgGTAZQBlQGWAZcBmAGZAZoBmwGcAZ0BngGfAaABoQGiAaMBpAGlAaYBpwGoAakBqgGrAawBrQGuAa8BsAGxAbIBswG0AbUBtgG3AbgBuQG6AbsBvAG9Ab4BvwHAAcEBwgHDAcQBxQHGAccByAHJAcoBywHMAc0BzgHPAdAB0QHSAdMB1AHVAdYB1wHYAdkB2gHbAdwB3QHeAd8B4AHhAeIB4wHkAeUB5gHnAegB6QHqAesB7AHtAe4B7wHwAfEB8gHzAQ==",
          "dtype": "i2"
         },
         "xaxis": "x",
         "y": {
          "bdata": "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",
          "dtype": "f8"
         },
         "yaxis": "y"
        }
       ],
       "layout": {
        "font": {
         "size": 18
        },
        "legend": {
         "orientation": "v",
         "title": {
          "text": ""
         },
         "tracegroupgap": 0
        },
        "margin": {
         "t": 60
        },
        "plot_bgcolor": "#F5F5F8",
        "template": {
         "data": {
          "bar": [
           {
            "error_x": {
             "color": "#2a3f5f"
            },
            "error_y": {
             "color": "#2a3f5f"
            },
            "marker": {
             "line": {
              "color": "white",
              "width": 0.5
             },
             "pattern": {
              "fillmode": "overlay",
              "size": 10,
              "solidity": 0.2
             }
            },
            "type": "bar"
           }
          ],
          "barpolar": [
           {
            "marker": {
             "line": {
              "color": "white",
              "width": 0.5
             },
             "pattern": {
              "fillmode": "overlay",
              "size": 10,
              "solidity": 0.2
             }
            },
            "type": "barpolar"
           }
          ],
          "carpet": [
           {
            "aaxis": {
             "endlinecolor": "#2a3f5f",
             "gridcolor": "#C8D4E3",
             "linecolor": "#C8D4E3",
             "minorgridcolor": "#C8D4E3",
             "startlinecolor": "#2a3f5f"
            },
            "baxis": {
             "endlinecolor": "#2a3f5f",
             "gridcolor": "#C8D4E3",
             "linecolor": "#C8D4E3",
             "minorgridcolor": "#C8D4E3",
             "startlinecolor": "#2a3f5f"
            },
            "type": "carpet"
           }
          ],
          "choropleth": [
           {
            "colorbar": {
             "outlinewidth": 0,
             "ticks": ""
            },
            "type": "choropleth"
           }
          ],
          "contour": [
           {
            "colorbar": {
             "outlinewidth": 0,
             "ticks": ""
            },
            "colorscale": [
             [
              0,
              "#0d0887"
             ],
             [
              0.1111111111111111,
              "#46039f"
             ],
             [
              0.2222222222222222,
              "#7201a8"
             ],
             [
              0.3333333333333333,
              "#9c179e"
             ],
             [
              0.4444444444444444,
              "#bd3786"
             ],
             [
              0.5555555555555556,
              "#d8576b"
             ],
             [
              0.6666666666666666,
              "#ed7953"
             ],
             [
              0.7777777777777778,
              "#fb9f3a"
             ],
             [
              0.8888888888888888,
              "#fdca26"
             ],
             [
              1,
              "#f0f921"
             ]
            ],
            "type": "contour"
           }
          ],
          "contourcarpet": [
           {
            "colorbar": {
             "outlinewidth": 0,
             "ticks": ""
            },
            "type": "contourcarpet"
           }
          ],
          "heatmap": [
           {
            "colorbar": {
             "outlinewidth": 0,
             "ticks": ""
            },
            "colorscale": [
             [
              0,
              "#0d0887"
             ],
             [
              0.1111111111111111,
              "#46039f"
             ],
             [
              0.2222222222222222,
              "#7201a8"
             ],
             [
              0.3333333333333333,
              "#9c179e"
             ],
             [
              0.4444444444444444,
              "#bd3786"
             ],
             [
              0.5555555555555556,
              "#d8576b"
             ],
             [
              0.6666666666666666,
              "#ed7953"
             ],
             [
              0.7777777777777778,
              "#fb9f3a"
             ],
             [
              0.8888888888888888,
              "#fdca26"
             ],
             [
              1,
              "#f0f921"
             ]
            ],
            "type": "heatmap"
           }
          ],
          "histogram": [
           {
            "marker": {
             "pattern": {
              "fillmode": "overlay",
              "size": 10,
              "solidity": 0.2
             }
            },
            "type": "histogram"
           }
          ],
          "histogram2d": [
           {
            "colorbar": {
             "outlinewidth": 0,
             "ticks": ""
            },
            "colorscale": [
             [
              0,
              "#0d0887"
             ],
             [
              0.1111111111111111,
              "#46039f"
             ],
             [
              0.2222222222222222,
              "#7201a8"
             ],
             [
              0.3333333333333333,
              "#9c179e"
             ],
             [
              0.4444444444444444,
              "#bd3786"
             ],
             [
              0.5555555555555556,
              "#d8576b"
             ],
             [
              0.6666666666666666,
              "#ed7953"
             ],
             [
              0.7777777777777778,
              "#fb9f3a"
             ],
             [
              0.8888888888888888,
              "#fdca26"
             ],
             [
              1,
              "#f0f921"
             ]
            ],
            "type": "histogram2d"
           }
          ],
          "histogram2dcontour": [
           {
            "colorbar": {
             "outlinewidth": 0,
             "ticks": ""
            },
            "colorscale": [
             [
              0,
              "#0d0887"
             ],
             [
              0.1111111111111111,
              "#46039f"
             ],
             [
              0.2222222222222222,
              "#7201a8"
             ],
             [
              0.3333333333333333,
              "#9c179e"
             ],
             [
              0.4444444444444444,
              "#bd3786"
             ],
             [
              0.5555555555555556,
              "#d8576b"
             ],
             [
              0.6666666666666666,
              "#ed7953"
             ],
             [
              0.7777777777777778,
              "#fb9f3a"
             ],
             [
              0.8888888888888888,
              "#fdca26"
             ],
             [
              1,
              "#f0f921"
             ]
            ],
            "type": "histogram2dcontour"
           }
          ],
          "mesh3d": [
           {
            "colorbar": {
             "outlinewidth": 0,
             "ticks": ""
            },
            "type": "mesh3d"
           }
          ],
          "parcoords": [
           {
            "line": {
             "colorbar": {
              "outlinewidth": 0,
              "ticks": ""
             }
            },
            "type": "parcoords"
           }
          ],
          "pie": [
           {
            "automargin": true,
            "type": "pie"
           }
          ],
          "scatter": [
           {
            "fillpattern": {
             "fillmode": "overlay",
             "size": 10,
             "solidity": 0.2
            },
            "type": "scatter"
           }
          ],
          "scatter3d": [
           {
            "line": {
             "colorbar": {
              "outlinewidth": 0,
              "ticks": ""
             }
            },
            "marker": {
             "colorbar": {
              "outlinewidth": 0,
              "ticks": ""
             }
            },
            "type": "scatter3d"
           }
          ],
          "scattercarpet": [
           {
            "marker": {
             "colorbar": {
              "outlinewidth": 0,
              "ticks": ""
             }
            },
            "type": "scattercarpet"
           }
          ],
          "scattergeo": [
           {
            "marker": {
             "colorbar": {
              "outlinewidth": 0,
              "ticks": ""
             }
            },
            "type": "scattergeo"
           }
          ],
          "scattergl": [
           {
            "marker": {
             "colorbar": {
              "outlinewidth": 0,
              "ticks": ""
             }
            },
            "type": "scattergl"
           }
          ],
          "scattermap": [
           {
            "marker": {
             "colorbar": {
              "outlinewidth": 0,
              "ticks": ""
             }
            },
            "type": "scattermap"
           }
          ],
          "scattermapbox": [
           {
            "marker": {
             "colorbar": {
              "outlinewidth": 0,
              "ticks": ""
             }
            },
            "type": "scattermapbox"
           }
          ],
          "scatterpolar": [
           {
            "marker": {
             "colorbar": {
              "outlinewidth": 0,
              "ticks": ""
             }
            },
            "type": "scatterpolar"
           }
          ],
          "scatterpolargl": [
           {
            "marker": {
             "colorbar": {
              "outlinewidth": 0,
              "ticks": ""
             }
            },
            "type": "scatterpolargl"
           }
          ],
          "scatterternary": [
           {
            "marker": {
             "colorbar": {
              "outlinewidth": 0,
              "ticks": ""
             }
            },
            "type": "scatterternary"
           }
          ],
          "surface": [
           {
            "colorbar": {
             "outlinewidth": 0,
             "ticks": ""
            },
            "colorscale": [
             [
              0,
              "#0d0887"
             ],
             [
              0.1111111111111111,
              "#46039f"
             ],
             [
              0.2222222222222222,
              "#7201a8"
             ],
             [
              0.3333333333333333,
              "#9c179e"
             ],
             [
              0.4444444444444444,
              "#bd3786"
             ],
             [
              0.5555555555555556,
              "#d8576b"
             ],
             [
              0.6666666666666666,
              "#ed7953"
             ],
             [
              0.7777777777777778,
              "#fb9f3a"
             ],
             [
              0.8888888888888888,
              "#fdca26"
             ],
             [
              1,
              "#f0f921"
             ]
            ],
            "type": "surface"
           }
          ],
          "table": [
           {
            "cells": {
             "fill": {
              "color": "#EBF0F8"
             },
             "line": {
              "color": "white"
             }
            },
            "header": {
             "fill": {
              "color": "#C8D4E3"
             },
             "line": {
              "color": "white"
             }
            },
            "type": "table"
           }
          ]
         },
         "layout": {
          "annotationdefaults": {
           "arrowcolor": "#2a3f5f",
           "arrowhead": 0,
           "arrowwidth": 1
          },
          "autotypenumbers": "strict",
          "coloraxis": {
           "colorbar": {
            "outlinewidth": 0,
            "ticks": ""
           }
          },
          "colorscale": {
           "diverging": [
            [
             0,
             "#8e0152"
            ],
            [
             0.1,
             "#c51b7d"
            ],
            [
             0.2,
             "#de77ae"
            ],
            [
             0.3,
             "#f1b6da"
            ],
            [
             0.4,
             "#fde0ef"
            ],
            [
             0.5,
             "#f7f7f7"
            ],
            [
             0.6,
             "#e6f5d0"
            ],
            [
             0.7,
             "#b8e186"
            ],
            [
             0.8,
             "#7fbc41"
            ],
            [
             0.9,
             "#4d9221"
            ],
            [
             1,
             "#276419"
            ]
           ],
           "sequential": [
            [
             0,
             "#0d0887"
            ],
            [
             0.1111111111111111,
             "#46039f"
            ],
            [
             0.2222222222222222,
             "#7201a8"
            ],
            [
             0.3333333333333333,
             "#9c179e"
            ],
            [
             0.4444444444444444,
             "#bd3786"
            ],
            [
             0.5555555555555556,
             "#d8576b"
            ],
            [
             0.6666666666666666,
             "#ed7953"
            ],
            [
             0.7777777777777778,
             "#fb9f3a"
            ],
            [
             0.8888888888888888,
             "#fdca26"
            ],
            [
             1,
             "#f0f921"
            ]
           ],
           "sequentialminus": [
            [
             0,
             "#0d0887"
            ],
            [
             0.1111111111111111,
             "#46039f"
            ],
            [
             0.2222222222222222,
             "#7201a8"
            ],
            [
             0.3333333333333333,
             "#9c179e"
            ],
            [
             0.4444444444444444,
             "#bd3786"
            ],
            [
             0.5555555555555556,
             "#d8576b"
            ],
            [
             0.6666666666666666,
             "#ed7953"
            ],
            [
             0.7777777777777778,
             "#fb9f3a"
            ],
            [
             0.8888888888888888,
             "#fdca26"
            ],
            [
             1,
             "#f0f921"
            ]
           ]
          },
          "colorway": [
           "#636efa",
           "#EF553B",
           "#00cc96",
           "#ab63fa",
           "#FFA15A",
           "#19d3f3",
           "#FF6692",
           "#B6E880",
           "#FF97FF",
           "#FECB52"
          ],
          "font": {
           "color": "#2a3f5f"
          },
          "geo": {
           "bgcolor": "white",
           "lakecolor": "white",
           "landcolor": "white",
           "showlakes": true,
           "showland": true,
           "subunitcolor": "#C8D4E3"
          },
          "hoverlabel": {
           "align": "left"
          },
          "hovermode": "closest",
          "mapbox": {
           "style": "light"
          },
          "paper_bgcolor": "white",
          "plot_bgcolor": "white",
          "polar": {
           "angularaxis": {
            "gridcolor": "#EBF0F8",
            "linecolor": "#EBF0F8",
            "ticks": ""
           },
           "bgcolor": "white",
           "radialaxis": {
            "gridcolor": "#EBF0F8",
            "linecolor": "#EBF0F8",
            "ticks": ""
           }
          },
          "scene": {
           "xaxis": {
            "backgroundcolor": "white",
            "gridcolor": "#DFE8F3",
            "gridwidth": 2,
            "linecolor": "#EBF0F8",
            "showbackground": true,
            "ticks": "",
            "zerolinecolor": "#EBF0F8"
           },
           "yaxis": {
            "backgroundcolor": "white",
            "gridcolor": "#DFE8F3",
            "gridwidth": 2,
            "linecolor": "#EBF0F8",
            "showbackground": true,
            "ticks": "",
            "zerolinecolor": "#EBF0F8"
           },
           "zaxis": {
            "backgroundcolor": "white",
            "gridcolor": "#DFE8F3",
            "gridwidth": 2,
            "linecolor": "#EBF0F8",
            "showbackground": true,
            "ticks": "",
            "zerolinecolor": "#EBF0F8"
           }
          },
          "shapedefaults": {
           "line": {
            "color": "#2a3f5f"
           }
          },
          "ternary": {
           "aaxis": {
            "gridcolor": "#DFE8F3",
            "linecolor": "#A2B1C6",
            "ticks": ""
           },
           "baxis": {
            "gridcolor": "#DFE8F3",
            "linecolor": "#A2B1C6",
            "ticks": ""
           },
           "bgcolor": "white",
           "caxis": {
            "gridcolor": "#DFE8F3",
            "linecolor": "#A2B1C6",
            "ticks": ""
           }
          },
          "title": {
           "x": 0.05
          },
          "xaxis": {
           "automargin": true,
           "gridcolor": "#EBF0F8",
           "linecolor": "#EBF0F8",
           "ticks": "",
           "title": {
            "standoff": 15
           },
           "zerolinecolor": "#EBF0F8",
           "zerolinewidth": 2
          },
          "yaxis": {
           "automargin": true,
           "gridcolor": "#EBF0F8",
           "linecolor": "#EBF0F8",
           "ticks": "",
           "title": {
            "standoff": 15
           },
           "zerolinecolor": "#EBF0F8",
           "zerolinewidth": 2
          }
         }
        },
        "title": {
         "text": "CTGAN loss function"
        },
        "xaxis": {
         "anchor": "y",
         "domain": [
          0,
          1
         ],
         "title": {
          "text": "Epoch"
         }
        },
        "yaxis": {
         "anchor": "x",
         "domain": [
          0,
          1
         ],
         "title": {
          "text": "Loss"
         }
        }
       }
      }
     },
     "metadata": {},
     "output_type": "display_data"
    }
   ],
   "source": [
    "# save the results, plot the loss function, and print the time to train the GAN\n",
    "saveto = OUTPUT_FOLDER / \"UCI_adult\"\n",
    "saveto.mkdir(parents = True, exist_ok=True)\n",
    "gen.save(saveto / \"ctgan.pkl\")\n",
    "df_meta.save_to_json(saveto / \"ctgan_metdata.json\")\n",
    "df.to_pickle(saveto / \"real_df.pkl\")\n",
    "# units are seconds, so display hours\n",
    "print(f\"Time to fit: {(duration / 60):.2f} min.\")"
   ]
  },
  {
   "cell_type": "code",
   "execution_count": null,
   "metadata": {},
   "outputs": [
    {
     "data": {
      "text/plain": [
       "   fixed acidity  volatile acidity  citric acid  ...  sulphates  alcohol  quality\n",
       "0            7.4              0.70         0.00  ...       0.56      9.4        5\n",
       "1            7.8              0.88         0.00  ...       0.68      9.8        5\n",
       "2            7.8              0.76         0.04  ...       0.65      9.8        5\n",
       "3           11.2              0.28         0.56  ...       0.58      9.8        6\n",
       "4            7.4              0.70         0.00  ...       0.56      9.4        5\n",
       "\n",
       "[5 rows x 12 columns]\n",
       "(6497, 12)\n"
      ]
     },
     "metadata": {},
     "output_type": "display_data"
    }
   ],
   "source": [
    "# UCI wine quality data\n",
    "# Read data and check\n",
    "data_path = Path(INPUT_FOLDER / \"UCI_winequality/winequality-red.csv\")\n",
    "df1 = pd.read_csv(data_path, delimiter=\";\")\n",
    "data_path = Path(INPUT_FOLDER / \"UCI_winequality/winequality-white.csv\")\n",
    "df2 = pd.read_csv(data_path, delimiter=\";\")\n",
    "df = pd.concat([df1, df2])\n",
    "print(df.head())\n",
    "print(df.shape)\n",
    "\n",
    "# set up metadata for GAN\n",
    "df_meta = Metadata.detect_from_dataframe(df)\n",
    "gen = CTGANSynthesizer(\n",
    "    metadata=df_meta,\n",
    "    epochs=500,\n",
    "    verbose=True,\n",
    ")\n"
   ]
  },
  {
   "cell_type": "code",
   "execution_count": null,
   "metadata": {},
   "outputs": [],
   "source": [
    "# Train the GAN - keep track of the time to execute\n",
    "tstart = time.time()\n",
    "gen.fit(df)\n",
    "tend = time.time()\n",
    "duration = tend - tstart"
   ]
  },
  {
   "cell_type": "code",
   "execution_count": null,
   "metadata": {},
   "outputs": [
    {
     "data": {
      "text/plain": [
       "Traceback (most recent call last):\n",
       "  File \"/home/nick16180/.vscode/extensions/ms-python.python-2025.0.0-linux-x64/python_files/python_server.py\", line 133, in exec_user_input\n",
       "    retval = callable_(user_input, user_globals)\n",
       "             ^^^^^^^^^^^^^^^^^^^^^^^^^^^^^^^^^^^\n",
       "  File \"<string>\", line 5, in <module>\n",
       "  File \"/home/nick16180/workspace/cas rpm 2025 synthetic data/.venv/lib/python3.12/site-packages/sdv/single_table/ctgan.py\", line 73, in get_loss_values_plot\n",
       "    raise NotFittedError(err_msg)\n",
       "sdv.errors.NotFittedError: Loss values are not available yet. Please fit your synthesizer first.\n",
       "\n"
      ]
     },
     "metadata": {},
     "output_type": "display_data"
    }
   ],
   "source": [
    "# save the results, plot the loss function, and print the time to train the GAN\n",
    "saveto = OUTPUT_FOLDER / \"UCI_winequality\"\n",
    "saveto.mkdir(parents=True, exist_ok=True)\n",
    "gen.save(saveto / \"ctgan.pkl\")\n",
    "df_meta.save_to_json(saveto / \"ctgan_metdata.json\")\n",
    "df.to_pickle(saveto / \"real_df.pkl\")\n",
    "# units are seconds, so display hours\n",
    "print(f\"Time to fit: {(duration / 60):.2f} min.\")"
   ]
  },
  {
   "cell_type": "code",
   "execution_count": 16,
   "metadata": {},
   "outputs": [
    {
     "name": "stdout",
     "output_type": "stream",
     "text": [
      "   Time        V1        V2        V3        V4        V5        V6        V7  \\\n",
      "0   0.0 -1.359807 -0.072781  2.536347  1.378155 -0.338321  0.462388  0.239599   \n",
      "1   0.0  1.191857  0.266151  0.166480  0.448154  0.060018 -0.082361 -0.078803   \n",
      "2   1.0 -1.358354 -1.340163  1.773209  0.379780 -0.503198  1.800499  0.791461   \n",
      "3   1.0 -0.966272 -0.185226  1.792993 -0.863291 -0.010309  1.247203  0.237609   \n",
      "4   2.0 -1.158233  0.877737  1.548718  0.403034 -0.407193  0.095921  0.592941   \n",
      "\n",
      "         V8        V9  ...       V21       V22       V23       V24       V25  \\\n",
      "0  0.098698  0.363787  ... -0.018307  0.277838 -0.110474  0.066928  0.128539   \n",
      "1  0.085102 -0.255425  ... -0.225775 -0.638672  0.101288 -0.339846  0.167170   \n",
      "2  0.247676 -1.514654  ...  0.247998  0.771679  0.909412 -0.689281 -0.327642   \n",
      "3  0.377436 -1.387024  ... -0.108300  0.005274 -0.190321 -1.175575  0.647376   \n",
      "4 -0.270533  0.817739  ... -0.009431  0.798278 -0.137458  0.141267 -0.206010   \n",
      "\n",
      "        V26       V27       V28  Amount  Class  \n",
      "0 -0.189115  0.133558 -0.021053  149.62      0  \n",
      "1  0.125895 -0.008983  0.014724    2.69      0  \n",
      "2 -0.139097 -0.055353 -0.059752  378.66      0  \n",
      "3 -0.221929  0.062723  0.061458  123.50      0  \n",
      "4  0.502292  0.219422  0.215153   69.99      0  \n",
      "\n",
      "[5 rows x 31 columns]\n",
      "(284807, 31)\n"
     ]
    },
    {
     "name": "stderr",
     "output_type": "stream",
     "text": [
      "/home/nick16180/workspace/cas rpm 2025 synthetic data/.venv/lib/python3.12/site-packages/sdv/single_table/base.py:104: UserWarning:\n",
      "\n",
      "We strongly recommend saving the metadata using 'save_to_json' for replicability in future SDV versions.\n",
      "\n"
     ]
    }
   ],
   "source": [
    "# Kaggle credit card fraud data\n",
    "# Read data and check\n",
    "data_path = Path(INPUT_FOLDER / \"Kaggle_creditcardfraud/creditcard.csv\")\n",
    "df = pd.read_csv(data_path)\n",
    "print(df.head())\n",
    "print(df.shape)\n",
    "\n",
    "# set up metadata for GAN\n",
    "df_meta = Metadata.detect_from_dataframe(df)\n",
    "gen = CTGANSynthesizer(\n",
    "    metadata=df_meta,\n",
    "    epochs=500,\n",
    "    verbose=True,\n",
    ")"
   ]
  },
  {
   "cell_type": "code",
   "execution_count": null,
   "metadata": {},
   "outputs": [],
   "source": [
    "# Train the GAN - keep track of the time to execute\n",
    "tstart = time.time()\n",
    "gen.fit(df)\n",
    "tend = time.time()\n",
    "duration = tend - tstart"
   ]
  },
  {
   "cell_type": "code",
   "execution_count": null,
   "metadata": {},
   "outputs": [],
   "source": [
    "# save the results, plot the loss function, and print the time to train the GAN\n",
    "saveto = OUTPUT_FOLDER / \"Kaggle_creditcardfraud\"\n",
    "saveto.mkdir(parents=True, exist_ok=True)\n",
    "gen.save(saveto / \"ctgan.pkl\")\n",
    "df_meta.save_to_json(saveto / \"ctgan_metdata.json\")\n",
    "df.to_pickle(saveto / \"real_df.pkl\")\n",
    "# units are seconds, so display hours\n",
    "print(f\"Time to fit: {(duration / 60):.2f} min.\")"
   ]
  }
 ],
 "metadata": {
  "kernelspec": {
   "display_name": ".venv",
   "language": "python",
   "name": "python3"
  },
  "language_info": {
   "codemirror_mode": {
    "name": "ipython",
    "version": 3
   },
   "file_extension": ".py",
   "mimetype": "text/x-python",
   "name": "python",
   "nbconvert_exporter": "python",
   "pygments_lexer": "ipython3",
   "version": "3.12.3"
  }
 },
 "nbformat": 4,
 "nbformat_minor": 2
}
