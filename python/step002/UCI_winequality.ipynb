{
 "cells": [
  {
   "cell_type": "code",
   "execution_count": null,
   "metadata": {},
   "outputs": [],
   "source": [
    "import datetime\n",
    "import json\n",
    "import time\n",
    "from pathlib import Path\n",
    "\n",
    "import numpy as np\n",
    "import pandas as pd\n",
    "from sdv.metadata import Metadata\n",
    "from sdv.single_table import CTGANSynthesizer\n",
    "\n",
    "PROJECT_ROOT = Path(__name__).resolve().parent.parent.parent\n",
    "INPUT_FOLDER = PROJECT_ROOT / \"data/input\"\n",
    "OUTPUT_FOLDER = PROJECT_ROOT / \"data/output\"\n",
    "OUTPUT_FOLDER.mkdir(parents=True, exist_ok=True)"
   ]
  },
  {
   "cell_type": "code",
   "execution_count": null,
   "metadata": {},
   "outputs": [],
   "source": [
    "# UCI wine quality data\n",
    "# Read data and check\n",
    "ifolder = INPUT_FOLDER / \"UCI_winequality\"\n",
    "ofolder = OUTPUT_FOLDER / \"UCI_winequality\"\n",
    "ofolder.mkdir(parents=True, exist_ok=True)\n",
    "data_path = ifolder / \"winequality-red.csv\"\n",
    "df1 = pd.read_csv(data_path, delimiter=\";\")\n",
    "df1[\"winetype\"] = \"red\"\n",
    "data_path = ifolder / \"winequality-white.csv\"\n",
    "df2 = pd.read_csv(data_path, delimiter=\";\")\n",
    "df1[\"winetype\"] = \"white\"\n",
    "df = pd.concat([df1, df2])\n",
    "print(df.head())\n",
    "print(df.shape)\n",
    "\n",
    "# set up metadata for GAN\n",
    "df_meta = Metadata.detect_from_dataframe(df)\n",
    "gen = CTGANSynthesizer(\n",
    "    metadata=df_meta,\n",
    "    epochs=500,\n",
    "    verbose=True,\n",
    ")"
   ]
  },
  {
   "cell_type": "code",
   "execution_count": null,
   "metadata": {},
   "outputs": [],
   "source": [
    "# Train the GAN - keep track of the time to execute\n",
    "# Check if GAN exists - these take a while to fit, so only refit if necessary\n",
    "duration = None\n",
    "pkl = ofolder / \"ctgan.pkl\"\n",
    "pkl_exists = Path(pkl).is_file()\n",
    "if pkl_exists:\n",
    "    gen.load(pkl)\n",
    "else:\n",
    "    # Fit a new model if it doesn't exist\n",
    "    tstart = time.time()\n",
    "    gen.fit(df)\n",
    "    tend = time.time()\n",
    "    duration = tend - tstart"
   ]
  },
  {
   "cell_type": "code",
   "execution_count": null,
   "metadata": {},
   "outputs": [],
   "source": [
    "# Save the results, plot the loss function, and print the time to train the GAN\n",
    "if not pkl_exists:\n",
    "    gen.save(pkl)\n",
    "md = ofolder / \"ctgan_metadata.json\"\n",
    "if not md.is_file():\n",
    "    df_meta.save_to_json(md)\n",
    "df.to_pickle(ofolder / \"real_df.pkl\")\n",
    "\n",
    "# Units are seconds, so display minutes\n",
    "print(f\"Time to fit: {(duration / 60):.2f} min.\")"
   ]
  },
  {
   "cell_type": "code",
   "execution_count": null,
   "metadata": {},
   "outputs": [],
   "source": [
    "# do again, but train for different epochs/batches and save to evaluate later\n",
    "epochs = [1, 5, 10, 25, 50, 100, 250, 500, 1000]\n",
    "batches = [20, 50, 100, 500, 1000] # need to be in increments of 10\n",
    "for epoch in epochs:\n",
    "    for batch in batches:\n",
    "        print(f\"Currently fitting: epoch {epoch} batch {batch}.\")\n",
    "        grid_saveto = ofolder / f\"grid/epoch {epoch} batch {batch}\"\n",
    "        grid_saveto.mkdir(parents=True, exist_ok=True)\n",
    "        grid_gen = CTGANSynthesizer(\n",
    "            metadata=df_meta,\n",
    "            epochs=epoch,\n",
    "            batch_size=batch,\n",
    "            verbose=True,\n",
    "        )\n",
    "        tstart = time.time()\n",
    "        grid_gen.fit(df)\n",
    "        tend = time.time()\n",
    "        duration = tend - tstart\n",
    "        grid_gen.save(grid_saveto / \"ctgan.pkl\")\n",
    "        # units are seconds, so display minutes\n",
    "        print(f\"Time to fit: {(duration / 60):.2f} min.\")"
   ]
  }
 ],
 "metadata": {
  "kernelspec": {
   "display_name": ".venv",
   "language": "python",
   "name": "python3"
  },
  "language_info": {
   "codemirror_mode": {
    "name": "ipython",
    "version": 3
   },
   "file_extension": ".py",
   "mimetype": "text/x-python",
   "name": "python",
   "nbconvert_exporter": "python",
   "pygments_lexer": "ipython3",
   "version": "3.12.3"
  }
 },
 "nbformat": 4,
 "nbformat_minor": 2
}
