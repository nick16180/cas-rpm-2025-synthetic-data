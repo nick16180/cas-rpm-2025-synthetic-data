{
 "cells": [
  {
   "cell_type": "code",
   "execution_count": null,
   "metadata": {},
   "outputs": [],
   "source": [
    "import datetime\n",
    "import json\n",
    "import time\n",
    "from pathlib import Path\n",
    "\n",
    "import numpy as np\n",
    "import pandas as pd\n",
    "from sdv.metadata import Metadata\n",
    "from sdv.single_table import CTGANSynthesizer\n",
    "\n",
    "PROJECT_ROOT = Path(__name__).resolve().parent.parent.parent\n",
    "INPUT_FOLDER = PROJECT_ROOT / \"data/input\"\n",
    "OUTPUT_FOLDER = PROJECT_ROOT / \"data/output\"\n",
    "OUTPUT_FOLDER.mkdir(parents=True, exist_ok=True)"
   ]
  },
  {
   "cell_type": "code",
   "execution_count": null,
   "metadata": {},
   "outputs": [],
   "source": [
    "# UCI Adult data\n",
    "# Read data and check\n",
    "ifolder = INPUT_FOLDER / \"UCI_adult\"\n",
    "ofolder = OUTPUT_FOLDER / \"UCI_adult\"\n",
    "ofolder.mkdir(parents=True, exist_ok=True)\n",
    "data_path = ifolder / \"adult.data\"\n",
    "colnames = [\n",
    "    \"age\",\n",
    "    \"workclass\",\n",
    "    \"fnlwgt\",\n",
    "    \"education\",\n",
    "    \"education_num\",\n",
    "    \"marital_status\",\n",
    "    \"occupation\",\n",
    "    \"relationship\",\n",
    "    \"race\",\n",
    "    \"sex\",\n",
    "    \"capital_gain\",\n",
    "    \"capital_loss\",\n",
    "    \"minutes_per_week\",\n",
    "    \"native_country\",\n",
    "    \"Income_Category\",\n",
    "]\n",
    "df = pd.read_csv(data_path, names=colnames)\n",
    "print(df.head())\n",
    "print(df.shape)\n",
    "\n",
    "# Split into modeling and validation\n",
    "np.random.seed(100)\n",
    "df[\"rand10\"] = np.random.randint(1, 10, len(df))\n",
    "df_model = df[df[\"rand10\"] <= 8]\n",
    "df_valid = df[df[\"rand10\"] >= 9]\n",
    "\n",
    "# Set up metadata for GAN\n",
    "df_meta = Metadata.detect_from_dataframe(df)\n",
    "gen = CTGANSynthesizer(\n",
    "    metadata=df_meta,\n",
    "    epochs=500,\n",
    "    verbose=True,\n",
    ")"
   ]
  },
  {
   "cell_type": "code",
   "execution_count": null,
   "metadata": {},
   "outputs": [],
   "source": [
    "# Train the GAN - keep track of the time to execute\n",
    "# Check if GAN exists - these take a while to fit, so only refit if necessary\n",
    "duration = None\n",
    "pkl = ofolder / \"ctgan.pkl\"\n",
    "pkl_exists = Path(pkl).is_file()\n",
    "if pkl_exists:\n",
    "    gen.load(pkl)\n",
    "else:\n",
    "    # Fit a new model if it doesn't exist\n",
    "    tstart = time.time()\n",
    "    gen.fit(df_model)\n",
    "    tend = time.time()\n",
    "    duration = tend - tstart"
   ]
  },
  {
   "cell_type": "code",
   "execution_count": null,
   "metadata": {},
   "outputs": [],
   "source": [
    "# Save the results, plot the loss function, and print the time to train the GAN\n",
    "if True: #not pkl_exists:\n",
    "    gen.save(pkl)\n",
    "md = ofolder / \"ctgan_metadata.json\"\n",
    "if not md.is_file():\n",
    "    df_meta.save_to_json(md)\n",
    "df.to_pickle(ofolder / \"real_df.pkl\")\n",
    "df_model.to_pickle(ofolder / \"real_df_model.pkl\")\n",
    "df_valid.to_pickle(ofolder / \"real_df_validation.pkl\")\n",
    "\n",
    "# Units are seconds, so display minutes\n",
    "print(f\"Time to fit: {(duration / 60):.2f} min.\")"
   ]
  }
 ],
 "metadata": {
  "kernelspec": {
   "display_name": ".venv",
   "language": "python",
   "name": "python3"
  },
  "language_info": {
   "codemirror_mode": {
    "name": "ipython",
    "version": 3
   },
   "file_extension": ".py",
   "mimetype": "text/x-python",
   "name": "python",
   "nbconvert_exporter": "python",
   "pygments_lexer": "ipython3",
   "version": "3.12.3"
  }
 },
 "nbformat": 4,
 "nbformat_minor": 2
}
