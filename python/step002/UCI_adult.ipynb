{
 "cells": [
  {
   "cell_type": "code",
   "execution_count": 7,
   "metadata": {},
   "outputs": [],
   "source": [
    "import datetime\n",
    "import json\n",
    "import time\n",
    "from pathlib import Path\n",
    "\n",
    "import numpy as np\n",
    "import pandas as pd\n",
    "from sdv.metadata import Metadata\n",
    "from sdv.single_table import CTGANSynthesizer\n",
    "\n",
    "PROJECT_ROOT = Path(__name__).resolve().parent.parent.parent\n",
    "INPUT_FOLDER = PROJECT_ROOT / \"data/input\"\n",
    "OUTPUT_FOLDER = PROJECT_ROOT / \"data/output\"\n",
    "OUTPUT_FOLDER.mkdir(parents=True, exist_ok=True)"
   ]
  },
  {
   "cell_type": "code",
   "execution_count": 8,
   "metadata": {},
   "outputs": [
    {
     "name": "stdout",
     "output_type": "stream",
     "text": [
      "   age          workclass  fnlwgt   education  education_num  \\\n",
      "0   39          State-gov   77516   Bachelors             13   \n",
      "1   50   Self-emp-not-inc   83311   Bachelors             13   \n",
      "2   38            Private  215646     HS-grad              9   \n",
      "3   53            Private  234721        11th              7   \n",
      "4   28            Private  338409   Bachelors             13   \n",
      "\n",
      "        marital_status          occupation    relationship    race      sex  \\\n",
      "0        Never-married        Adm-clerical   Not-in-family   White     Male   \n",
      "1   Married-civ-spouse     Exec-managerial         Husband   White     Male   \n",
      "2             Divorced   Handlers-cleaners   Not-in-family   White     Male   \n",
      "3   Married-civ-spouse   Handlers-cleaners         Husband   Black     Male   \n",
      "4   Married-civ-spouse      Prof-specialty            Wife   Black   Female   \n",
      "\n",
      "   capital_gain  capital_loss  minutes_per_week  native_country  \\\n",
      "0          2174             0                40   United-States   \n",
      "1             0             0                13   United-States   \n",
      "2             0             0                40   United-States   \n",
      "3             0             0                40   United-States   \n",
      "4             0             0                40            Cuba   \n",
      "\n",
      "  Income_Category  \n",
      "0           <=50K  \n",
      "1           <=50K  \n",
      "2           <=50K  \n",
      "3           <=50K  \n",
      "4           <=50K  \n",
      "(32561, 15)\n"
     ]
    },
    {
     "name": "stderr",
     "output_type": "stream",
     "text": [
      "/home/nick16180/workspace/cas-rpm-2025-synthetic-data/.venv/lib/python3.12/site-packages/sdv/single_table/base.py:104: UserWarning:\n",
      "\n",
      "We strongly recommend saving the metadata using 'save_to_json' for replicability in future SDV versions.\n",
      "\n"
     ]
    }
   ],
   "source": [
    "# UCI Adult data\n",
    "# Read data and check\n",
    "ifolder = INPUT_FOLDER / \"UCI_adult\"\n",
    "ofolder = OUTPUT_FOLDER / \"UCI_adult\"\n",
    "ofolder.mkdir(parents=True, exist_ok=True)\n",
    "data_path = ifolder / \"adult.data\"\n",
    "colnames = [\n",
    "    \"age\",\n",
    "    \"workclass\",\n",
    "    \"fnlwgt\",\n",
    "    \"education\",\n",
    "    \"education_num\",\n",
    "    \"marital_status\",\n",
    "    \"occupation\",\n",
    "    \"relationship\",\n",
    "    \"race\",\n",
    "    \"sex\",\n",
    "    \"capital_gain\",\n",
    "    \"capital_loss\",\n",
    "    \"minutes_per_week\",\n",
    "    \"native_country\",\n",
    "    \"Income_Category\",\n",
    "]\n",
    "df = pd.read_csv(data_path, names=colnames)\n",
    "print(df.head())\n",
    "print(df.shape)\n",
    "\n",
    "# Split into modeling and validation\n",
    "np.random.seed(100)\n",
    "df[\"rand10\"] = np.random.randint(1, 10, len(df))\n",
    "df_model = df[df[\"rand10\"] <= 8]\n",
    "df_valid = df[df[\"rand10\"] >= 9]\n",
    "\n",
    "# Set up metadata for GAN\n",
    "df_meta = Metadata.detect_from_dataframe(df)\n",
    "gen = CTGANSynthesizer(\n",
    "    metadata=df_meta,\n",
    "    epochs=500,\n",
    "    verbose=True,\n",
    ")"
   ]
  },
  {
   "cell_type": "code",
   "execution_count": null,
   "metadata": {},
   "outputs": [],
   "source": [
    "# Train the GAN - keep track of the time to execute\n",
    "# Check if GAN exists - these take a while to fit, so only refit if necessary\n",
    "duration = None\n",
    "pkl_exists = Path(ofolder / \"ctgan.pkl\").is_file()\n",
    "if pkl_exists:\n",
    "    gen.load(ofolder / \"ctgan.pkl\")\n",
    "else:\n",
    "    # Fit a new model if it doesn't exist\n",
    "    tstart = time.time()\n",
    "    gen.fit(df_model)\n",
    "    tend = time.time()\n",
    "    duration = tend - tstart"
   ]
  },
  {
   "cell_type": "code",
   "execution_count": null,
   "metadata": {},
   "outputs": [
    {
     "ename": "TypeError",
     "evalue": "unsupported operand type(s) for /: 'NoneType' and 'int'",
     "output_type": "error",
     "traceback": [
      "\u001b[0;31m---------------------------------------------------------------------------\u001b[0m",
      "\u001b[0;31mTypeError\u001b[0m                                 Traceback (most recent call last)",
      "Cell \u001b[0;32mIn[6], line 8\u001b[0m\n\u001b[1;32m      5\u001b[0m df\u001b[38;5;241m.\u001b[39mto_pickle(ofolder \u001b[38;5;241m/\u001b[39m \u001b[38;5;124m\"\u001b[39m\u001b[38;5;124mreal_df.pkl\u001b[39m\u001b[38;5;124m\"\u001b[39m)\n\u001b[1;32m      7\u001b[0m \u001b[38;5;66;03m# Units are seconds, so display minutes\u001b[39;00m\n\u001b[0;32m----> 8\u001b[0m \u001b[38;5;28mprint\u001b[39m(\u001b[38;5;124mf\u001b[39m\u001b[38;5;124m\"\u001b[39m\u001b[38;5;124mTime to fit: \u001b[39m\u001b[38;5;132;01m{\u001b[39;00m(\u001b[43mduration\u001b[49m\u001b[38;5;250;43m \u001b[39;49m\u001b[38;5;241;43m/\u001b[39;49m\u001b[38;5;250;43m \u001b[39;49m\u001b[38;5;241;43m60\u001b[39;49m)\u001b[38;5;132;01m:\u001b[39;00m\u001b[38;5;124m.2f\u001b[39m\u001b[38;5;132;01m}\u001b[39;00m\u001b[38;5;124m min.\u001b[39m\u001b[38;5;124m\"\u001b[39m)\n",
      "\u001b[0;31mTypeError\u001b[0m: unsupported operand type(s) for /: 'NoneType' and 'int'"
     ]
    }
   ],
   "source": [
    "# Save the results, plot the loss function, and print the time to train the GAN\n",
    "if not pkl_exists:\n",
    "    gen.save(ofolder / \"ctgan.pkl\")\n",
    "df_meta.save_to_json(ofolder / \"ctgan_metadata.json\")\n",
    "df.to_pickle(ofolder / \"real_df.pkl\")\n",
    "\n",
    "# Units are seconds, so display minutes\n",
    "print(f\"Time to fit: {(duration / 60):.2f} min.\")"
   ]
  }
 ],
 "metadata": {
  "kernelspec": {
   "display_name": ".venv",
   "language": "python",
   "name": "python3"
  },
  "language_info": {
   "codemirror_mode": {
    "name": "ipython",
    "version": 3
   },
   "file_extension": ".py",
   "mimetype": "text/x-python",
   "name": "python",
   "nbconvert_exporter": "python",
   "pygments_lexer": "ipython3",
   "version": "3.12.3"
  }
 },
 "nbformat": 4,
 "nbformat_minor": 2
}
