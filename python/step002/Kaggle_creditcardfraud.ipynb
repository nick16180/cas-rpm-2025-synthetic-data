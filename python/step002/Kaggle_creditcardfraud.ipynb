{
 "cells": [
  {
   "cell_type": "code",
   "execution_count": null,
   "metadata": {},
   "outputs": [],
   "source": [
    "import datetime\n",
    "import json\n",
    "import time\n",
    "from pathlib import Path\n",
    "\n",
    "import numpy as np\n",
    "import pandas as pd\n",
    "from sdv.metadata import Metadata\n",
    "from sdv.single_table import CTGANSynthesizer\n",
    "\n",
    "PROJECT_ROOT = Path(__name__).resolve().parent.parent.parent\n",
    "INPUT_FOLDER = PROJECT_ROOT / \"data/input\"\n",
    "OUTPUT_FOLDER = PROJECT_ROOT / \"data/output\"\n",
    "OUTPUT_FOLDER.mkdir(parents=True, exist_ok=True)"
   ]
  },
  {
   "cell_type": "code",
   "execution_count": null,
   "metadata": {},
   "outputs": [],
   "source": [
    "# Kaggle credit card fraud data\n",
    "# Read data and check\n",
    "ifolder = INPUT_FOLDER / \"Kaggle_creditcardfraud\"\n",
    "ofolder = OUTPUT_FOLDER / \"Kaggle_creditcardfraud\"\n",
    "ofolder.mkdir(parents=True, exist_ok=True)\n",
    "df = pd.read_csv(ifolder / \"creditcard.csv\")\n",
    "print(df.head())\n",
    "print(df.shape)\n",
    "\n",
    "# Set up metadata for GAN\n",
    "df_meta = Metadata.detect_from_dataframe(df)\n",
    "gen = CTGANSynthesizer(\n",
    "    metadata=df_meta,\n",
    "    epochs=250, # 500 takes a while to train, so half it\n",
    "    verbose=True,\n",
    ")"
   ]
  },
  {
   "cell_type": "code",
   "execution_count": null,
   "metadata": {},
   "outputs": [],
   "source": [
    "# Train the GAN - keep track of the time to execute\n",
    "# Check if GAN exists - these take a while to fit, so only refit if necessary\n",
    "duration = None\n",
    "pkl_exists = Path(ofolder / \"ctgan.pkl\").is_file()\n",
    "if pkl_exists:\n",
    "    gen.load(ofolder / \"ctgan.pkl\")\n",
    "else:\n",
    "    # Fit a new model if it doesn't exist\n",
    "    tstart = time.time()\n",
    "    gen.fit(df)\n",
    "    tend = time.time()\n",
    "    duration = tend - tstart"
   ]
  },
  {
   "cell_type": "code",
   "execution_count": null,
   "metadata": {},
   "outputs": [],
   "source": [
    "# Save the results, plot the loss function, and print the time to train the GAN\n",
    "if not pkl_exists:\n",
    "    gen.save(ofolder / \"ctgan.pkl\")\n",
    "md = ofolder / \"ctgan_metadata.json\"\n",
    "if not md.is_file():\n",
    "    df_meta.save_to_json(md)\n",
    "df.to_pickle(ofolder / \"real_df.pkl\")\n",
    "\n",
    "# Units are seconds, so display minutes\n",
    "print(f\"Time to fit: {(duration / 60):.2f} min.\")"
   ]
  },
  {
   "cell_type": "code",
   "execution_count": null,
   "metadata": {},
   "outputs": [],
   "source": [
    "# Due to the imbalanced data, change the modeling procedure\n",
    "# Highly imbalanced\n",
    "print(df.Class.value_counts())\n",
    "print(df.Class.value_counts() / df.Class.count())"
   ]
  },
  {
   "cell_type": "code",
   "execution_count": null,
   "metadata": {},
   "outputs": [],
   "source": [
    "# Create two GANs, and create a holdout for testing later\n",
    "np.random.seed(100)\n",
    "df[\"rand10\"] = np.random.randint(1, 10, len(df))\n",
    "df_model = df[df[\"rand10\"] <= 8]\n",
    "df_valid = df[df[\"rand10\"] >= 9]\n",
    "\n",
    "# Resave\n",
    "df.to_pickle(ofolder / \"real_df.pkl\")\n",
    "df_model.to_pickle(ofolder / \"real_df_model.pkl\")\n",
    "df_valid.to_pickle(ofolder / \"real_df_validation.pkl\")\n",
    "\n",
    "# Check imbalance - about the same\n",
    "print(df_model.Class.value_counts())\n",
    "print(df_model.Class.value_counts() / df_model.Class.count())\n",
    "\n",
    "print(df_valid.Class.value_counts())\n",
    "print(df_valid.Class.value_counts() / df_valid.Class.count())"
   ]
  },
  {
   "cell_type": "code",
   "execution_count": null,
   "metadata": {},
   "outputs": [],
   "source": [
    "# Split up the data\n",
    "df_model_Class1 = df_model[df_model[\"Class\"] == 1]\n",
    "df_model_Class0 = df_model[df_model[\"Class\"] == 0]\n",
    "\n",
    "print(f\"Class = 1 df shape: {df_model_Class1.shape}\")\n",
    "print(f\"Class = 0 df shape: {df_model_Class0.shape}\")"
   ]
  },
  {
   "cell_type": "code",
   "execution_count": null,
   "metadata": {},
   "outputs": [],
   "source": [
    "# Now create the GANs\n",
    "\n",
    "# Class = 1\n",
    "\n",
    "# Set up metadata for GAN\n",
    "df_meta = Metadata.detect_from_dataframe(df_model_Class1)\n",
    "gen_Class1 = CTGANSynthesizer(\n",
    "    metadata=df_meta,\n",
    "    epochs=250,\n",
    "    verbose=True,\n",
    ")\n",
    "\n",
    "# Train the GAN - keep track of the time to execute\n",
    "# Check if GAN exists - these take a while to fit, so only refit if necessary\n",
    "duration = None\n",
    "pkl_exists = False\n",
    "try:\n",
    "    gen_Class1.load(ofolder / \"ctgan_Class1.pkl\")\n",
    "    pkl_exists = True\n",
    "except FileNotFoundError:\n",
    "    # fit a new model if it doesn't exist\n",
    "    tstart = time.time()\n",
    "    gen_Class1.fit(df_model_Class1)\n",
    "    tend = time.time()\n",
    "    duration = tend - tstart\n",
    "\n",
    "# Save the results, plot the loss function, and print the time to train the GAN\n",
    "if not pkl_exists:\n",
    "    gen_Class1.save(ofolder / \"ctgan_Class1.pkl\")\n",
    "md = ofolder / \"ctgan_Class1_metadata.json\"\n",
    "if not md.is_file():\n",
    "    df_meta.save_to_json(md)\n",
    "\n",
    "# Units are seconds, so display minutes\n",
    "print(f\"Time to fit: {(duration / 60):.2f} min.\")"
   ]
  },
  {
   "cell_type": "code",
   "execution_count": null,
   "metadata": {},
   "outputs": [],
   "source": [
    "# Now create the GANs\n",
    "\n",
    "# Class = 0\n",
    "\n",
    "# Set up metadata for GAN\n",
    "df_meta = Metadata.detect_from_dataframe(df_model_Class0)\n",
    "gen_Class0 = CTGANSynthesizer(\n",
    "    metadata=df_meta,\n",
    "    epochs=250,\n",
    "    verbose=True,\n",
    ")\n",
    "\n",
    "# Train the GAN - keep track of the time to execute\n",
    "# Check if GAN exists - these take a while to fit, so only refit if necessary\n",
    "duration = None\n",
    "pkl_exists = False\n",
    "try:\n",
    "    gen_Class0.load(ofolder / \"ctgan_Class0.pkl\")\n",
    "    pkl_exists = True\n",
    "except FileNotFoundError:\n",
    "    # fit a new model if it doesn't exist\n",
    "    tstart = time.time()\n",
    "    gen_Class0.fit(df_model_Class0)\n",
    "    tend = time.time()\n",
    "    duration = tend - tstart\n",
    "\n",
    "# Save the results, plot the loss function, and print the time to train the GAN\n",
    "if not pkl_exists:\n",
    "    gen_Class0.save(ofolder / \"ctgan_Class0.pkl\")\n",
    "md = ofolder / \"ctgan_Class0_metadata.json\"\n",
    "if not md.is_file():\n",
    "    df_meta.save_to_json(md)\n",
    "\n",
    "# Units are seconds, so display minutes\n",
    "print(f\"Time to fit: {(duration / 60):.2f} min.\")"
   ]
  }
 ],
 "metadata": {
  "kernelspec": {
   "display_name": ".venv",
   "language": "python",
   "name": "python3"
  },
  "language_info": {
   "codemirror_mode": {
    "name": "ipython",
    "version": 3
   },
   "file_extension": ".py",
   "mimetype": "text/x-python",
   "name": "python",
   "nbconvert_exporter": "python",
   "pygments_lexer": "ipython3",
   "version": "3.12.3"
  }
 },
 "nbformat": 4,
 "nbformat_minor": 2
}
