{
 "cells": [
  {
   "cell_type": "code",
   "execution_count": 1,
   "metadata": {},
   "outputs": [],
   "source": [
    "import datetime\n",
    "import json\n",
    "import time\n",
    "from pathlib import Path\n",
    "\n",
    "import numpy as np\n",
    "import pandas as pd\n",
    "from sdv.metadata import Metadata\n",
    "from sdv.single_table import CTGANSynthesizer\n",
    "\n",
    "PROJECT_ROOT = Path(__name__).resolve().parent.parent.parent\n",
    "INPUT_FOLDER = PROJECT_ROOT / \"data/input\"\n",
    "OUTPUT_FOLDER = PROJECT_ROOT / \"data/output\"\n",
    "OUTPUT_FOLDER.mkdir(parents=True, exist_ok=True)"
   ]
  },
  {
   "cell_type": "code",
   "execution_count": 2,
   "metadata": {},
   "outputs": [
    {
     "name": "stdout",
     "output_type": "stream",
     "text": [
      "   Time        V1        V2        V3        V4        V5        V6        V7  \\\n",
      "0   0.0 -1.359807 -0.072781  2.536347  1.378155 -0.338321  0.462388  0.239599   \n",
      "1   0.0  1.191857  0.266151  0.166480  0.448154  0.060018 -0.082361 -0.078803   \n",
      "2   1.0 -1.358354 -1.340163  1.773209  0.379780 -0.503198  1.800499  0.791461   \n",
      "3   1.0 -0.966272 -0.185226  1.792993 -0.863291 -0.010309  1.247203  0.237609   \n",
      "4   2.0 -1.158233  0.877737  1.548718  0.403034 -0.407193  0.095921  0.592941   \n",
      "\n",
      "         V8        V9  ...       V21       V22       V23       V24       V25  \\\n",
      "0  0.098698  0.363787  ... -0.018307  0.277838 -0.110474  0.066928  0.128539   \n",
      "1  0.085102 -0.255425  ... -0.225775 -0.638672  0.101288 -0.339846  0.167170   \n",
      "2  0.247676 -1.514654  ...  0.247998  0.771679  0.909412 -0.689281 -0.327642   \n",
      "3  0.377436 -1.387024  ... -0.108300  0.005274 -0.190321 -1.175575  0.647376   \n",
      "4 -0.270533  0.817739  ... -0.009431  0.798278 -0.137458  0.141267 -0.206010   \n",
      "\n",
      "        V26       V27       V28  Amount  Class  \n",
      "0 -0.189115  0.133558 -0.021053  149.62      0  \n",
      "1  0.125895 -0.008983  0.014724    2.69      0  \n",
      "2 -0.139097 -0.055353 -0.059752  378.66      0  \n",
      "3 -0.221929  0.062723  0.061458  123.50      0  \n",
      "4  0.502292  0.219422  0.215153   69.99      0  \n",
      "\n",
      "[5 rows x 31 columns]\n",
      "(284807, 31)\n"
     ]
    },
    {
     "name": "stderr",
     "output_type": "stream",
     "text": [
      "/home/nick16180/workspace/cas-rpm-2025-synthetic-data/.venv/lib/python3.12/site-packages/sdv/single_table/base.py:104: UserWarning:\n",
      "\n",
      "We strongly recommend saving the metadata using 'save_to_json' for replicability in future SDV versions.\n",
      "\n"
     ]
    }
   ],
   "source": [
    "# Kaggle credit card fraud data\n",
    "# Read data and check\n",
    "ifolder = INPUT_FOLDER / \"Kaggle_creditcardfraud\"\n",
    "ofolder = OUTPUT_FOLDER / \"Kaggle_creditcardfraud\"\n",
    "ofolder.mkdir(parents=True, exist_ok=True)\n",
    "df = pd.read_csv(ifolder / \"creditcard.csv\")\n",
    "print(df.head())\n",
    "print(df.shape)\n",
    "\n",
    "# Set up metadata for GAN\n",
    "df_meta = Metadata.detect_from_dataframe(df)\n",
    "gen = CTGANSynthesizer(\n",
    "    metadata=df_meta,\n",
    "    epochs=250, # 500 takes a while to train, so half it\n",
    "    verbose=True,\n",
    ")"
   ]
  },
  {
   "cell_type": "code",
   "execution_count": null,
   "metadata": {},
   "outputs": [
    {
     "name": "stderr",
     "output_type": "stream",
     "text": [
      "/home/nick16180/workspace/cas-rpm-2025-synthetic-data/.venv/lib/python3.12/site-packages/torch/cuda/__init__.py:129: UserWarning:\n",
      "\n",
      "CUDA initialization: The NVIDIA driver on your system is too old (found version 11040). Please update your GPU driver by downloading and installing a new version from the URL: http://www.nvidia.com/Download/index.aspx Alternatively, go to: https://pytorch.org to install a PyTorch version that has been compiled with your version of the CUDA driver. (Triggered internally at /pytorch/c10/cuda/CUDAFunctions.cpp:109.)\n",
      "\n",
      "Gen. (0.14) | Discrim. (-0.30): 100%|██████████| 250/250 [2:18:36<00:00, 33.26s/it]   \n"
     ]
    }
   ],
   "source": [
    "# Train the GAN - keep track of the time to execute\n",
    "# Check if GAN exists - these take a while to fit, so only refit if necessary\n",
    "duration = None\n",
    "pkl_exists = Path(ofolder / \"ctgan.pkl\").is_file()\n",
    "if pkl_exists:\n",
    "    gen.load(ofolder / \"ctgan.pkl\")\n",
    "else:\n",
    "    # Fit a new model if it doesn't exist\n",
    "    tstart = time.time()\n",
    "    gen.fit(df)\n",
    "    tend = time.time()\n",
    "    duration = tend - tstart"
   ]
  },
  {
   "cell_type": "code",
   "execution_count": null,
   "metadata": {},
   "outputs": [
    {
     "name": "stdout",
     "output_type": "stream",
     "text": [
      "Time to fit: 151.14 min.\n"
     ]
    }
   ],
   "source": [
    "# Save the results, plot the loss function, and print the time to train the GAN\n",
    "if not pkl_exists:\n",
    "    gen.save(ofolder / \"ctgan.pkl\")\n",
    "md = ofolder / \"ctgan_metadata.json\"\n",
    "if not md.is_file():\n",
    "    df_meta.save_to_json(md)\n",
    "df.to_pickle(ofolder / \"real_df.pkl\")\n",
    "\n",
    "# Units are seconds, so display minutes\n",
    "print(f\"Time to fit: {(duration / 60):.2f} min.\")"
   ]
  },
  {
   "cell_type": "code",
   "execution_count": 5,
   "metadata": {},
   "outputs": [
    {
     "name": "stdout",
     "output_type": "stream",
     "text": [
      "Class\n",
      "0    284315\n",
      "1       492\n",
      "Name: count, dtype: int64\n",
      "Class\n",
      "0    0.998273\n",
      "1    0.001727\n",
      "Name: count, dtype: float64\n"
     ]
    }
   ],
   "source": [
    "# Due to the imbalanced data, change the modeling procedure\n",
    "# Highly imbalanced\n",
    "print(df.Class.value_counts())\n",
    "print(df.Class.value_counts() / df.Class.count())"
   ]
  },
  {
   "cell_type": "code",
   "execution_count": 6,
   "metadata": {},
   "outputs": [
    {
     "name": "stdout",
     "output_type": "stream",
     "text": [
      "Class\n",
      "0    252682\n",
      "1       433\n",
      "Name: count, dtype: int64\n",
      "Class\n",
      "0    0.998289\n",
      "1    0.001711\n",
      "Name: count, dtype: float64\n",
      "Class\n",
      "0    31633\n",
      "1       59\n",
      "Name: count, dtype: int64\n",
      "Class\n",
      "0    0.998138\n",
      "1    0.001862\n",
      "Name: count, dtype: float64\n"
     ]
    }
   ],
   "source": [
    "# Create two GANs, and create a holdout for testing later\n",
    "np.random.seed(100)\n",
    "df[\"rand10\"] = np.random.randint(1, 10, len(df))\n",
    "df_model = df[df[\"rand10\"] <= 8]\n",
    "df_valid = df[df[\"rand10\"] >= 9]\n",
    "\n",
    "# Resave\n",
    "df.to_pickle(ofolder / \"real_df.pkl\")\n",
    "df_model.to_pickle(ofolder / \"real_df_model.pkl\")\n",
    "df_valid.to_pickle(ofolder / \"real_df_validation.pkl\")\n",
    "\n",
    "# Check imbalance - about the same\n",
    "print(df_model.Class.value_counts())\n",
    "print(df_model.Class.value_counts() / df_model.Class.count())\n",
    "\n",
    "print(df_valid.Class.value_counts())\n",
    "print(df_valid.Class.value_counts() / df_valid.Class.count())"
   ]
  },
  {
   "cell_type": "code",
   "execution_count": 7,
   "metadata": {},
   "outputs": [
    {
     "name": "stdout",
     "output_type": "stream",
     "text": [
      "Class = 1 df shape: (433, 32)\n",
      "Class = 0 df shape: (252682, 32)\n"
     ]
    }
   ],
   "source": [
    "# Split up the data\n",
    "df_model_Class1 = df_model[df_model[\"Class\"] == 1]\n",
    "df_model_Class0 = df_model[df_model[\"Class\"] == 0]\n",
    "\n",
    "print(f\"Class = 1 df shape: {df_model_Class1.shape}\")\n",
    "print(f\"Class = 0 df shape: {df_model_Class0.shape}\")"
   ]
  },
  {
   "cell_type": "code",
   "execution_count": null,
   "metadata": {},
   "outputs": [
    {
     "name": "stderr",
     "output_type": "stream",
     "text": [
      "/home/nick16180/workspace/cas-rpm-2025-synthetic-data/.venv/lib/python3.12/site-packages/sdv/single_table/base.py:104: UserWarning:\n",
      "\n",
      "We strongly recommend saving the metadata using 'save_to_json' for replicability in future SDV versions.\n",
      "\n",
      "Gen. (-2.62) | Discrim. (0.22): 100%|██████████| 250/250 [00:13<00:00, 18.55it/s] "
     ]
    },
    {
     "name": "stdout",
     "output_type": "stream",
     "text": [
      "Time to fit: 0.28 min.\n"
     ]
    },
    {
     "name": "stderr",
     "output_type": "stream",
     "text": [
      "\n"
     ]
    }
   ],
   "source": [
    "# Now create the GANs\n",
    "\n",
    "# Class = 1\n",
    "\n",
    "# Set up metadata for GAN\n",
    "df_meta = Metadata.detect_from_dataframe(df_model_Class1)\n",
    "gen_Class1 = CTGANSynthesizer(\n",
    "    metadata=df_meta,\n",
    "    epochs=250,\n",
    "    verbose=True,\n",
    ")\n",
    "\n",
    "# Train the GAN - keep track of the time to execute\n",
    "# Check if GAN exists - these take a while to fit, so only refit if necessary\n",
    "duration = None\n",
    "pkl_exists = False\n",
    "try:\n",
    "    gen_Class1.load(ofolder / \"ctgan_Class1.pkl\")\n",
    "    pkl_exists = True\n",
    "except FileNotFoundError:\n",
    "    # fit a new model if it doesn't exist\n",
    "    tstart = time.time()\n",
    "    gen_Class1.fit(df_model_Class1)\n",
    "    tend = time.time()\n",
    "    duration = tend - tstart\n",
    "\n",
    "# Save the results, plot the loss function, and print the time to train the GAN\n",
    "if not pkl_exists:\n",
    "    gen_Class1.save(ofolder / \"ctgan_Class1.pkl\")\n",
    "md = ofolder / \"ctgan_Class1_metadata.json\"\n",
    "if not md.is_file():\n",
    "    df_meta.save_to_json(md)\n",
    "\n",
    "# Units are seconds, so display minutes\n",
    "print(f\"Time to fit: {(duration / 60):.2f} min.\")"
   ]
  },
  {
   "cell_type": "code",
   "execution_count": null,
   "metadata": {},
   "outputs": [
    {
     "name": "stderr",
     "output_type": "stream",
     "text": [
      "/home/nick16180/workspace/cas-rpm-2025-synthetic-data/.venv/lib/python3.12/site-packages/sdv/single_table/base.py:104: UserWarning:\n",
      "\n",
      "We strongly recommend saving the metadata using 'save_to_json' for replicability in future SDV versions.\n",
      "\n",
      "Gen. (-0.95) | Discrim. (-0.35): 100%|██████████| 250/250 [2:11:01<00:00, 31.44s/it]  "
     ]
    },
    {
     "name": "stdout",
     "output_type": "stream",
     "text": [
      "Time to fit: 142.17 min.\n"
     ]
    },
    {
     "name": "stderr",
     "output_type": "stream",
     "text": [
      "\n"
     ]
    }
   ],
   "source": [
    "# Now create the GANs\n",
    "\n",
    "# Class = 0\n",
    "\n",
    "# Set up metadata for GAN\n",
    "df_meta = Metadata.detect_from_dataframe(df_model_Class0)\n",
    "gen_Class0 = CTGANSynthesizer(\n",
    "    metadata=df_meta,\n",
    "    epochs=250,\n",
    "    verbose=True,\n",
    ")\n",
    "\n",
    "# Train the GAN - keep track of the time to execute\n",
    "# Check if GAN exists - these take a while to fit, so only refit if necessary\n",
    "duration = None\n",
    "pkl_exists = False\n",
    "try:\n",
    "    gen_Class0.load(ofolder / \"ctgan_Class0.pkl\")\n",
    "    pkl_exists = True\n",
    "except FileNotFoundError:\n",
    "    # fit a new model if it doesn't exist\n",
    "    tstart = time.time()\n",
    "    gen_Class0.fit(df_model_Class0)\n",
    "    tend = time.time()\n",
    "    duration = tend - tstart\n",
    "\n",
    "# Save the results, plot the loss function, and print the time to train the GAN\n",
    "if not pkl_exists:\n",
    "    gen_Class0.save(ofolder / \"ctgan_Class0.pkl\")\n",
    "md = ofolder / \"ctgan_Class0_metadata.json\"\n",
    "if not md.is_file():\n",
    "    df_meta.save_to_json(md)\n",
    "\n",
    "# Units are seconds, so display minutes\n",
    "print(f\"Time to fit: {(duration / 60):.2f} min.\")"
   ]
  }
 ],
 "metadata": {
  "kernelspec": {
   "display_name": ".venv",
   "language": "python",
   "name": "python3"
  },
  "language_info": {
   "codemirror_mode": {
    "name": "ipython",
    "version": 3
   },
   "file_extension": ".py",
   "mimetype": "text/x-python",
   "name": "python",
   "nbconvert_exporter": "python",
   "pygments_lexer": "ipython3",
   "version": "3.12.3"
  }
 },
 "nbformat": 4,
 "nbformat_minor": 2
}
