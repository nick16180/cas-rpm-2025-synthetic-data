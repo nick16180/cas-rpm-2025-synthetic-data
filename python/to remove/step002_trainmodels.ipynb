{
 "cells": [
  {
   "cell_type": "code",
   "execution_count": 2,
   "metadata": {},
   "outputs": [],
   "source": [
    "import datetime\n",
    "import json\n",
    "import time\n",
    "from pathlib import Path\n",
    "\n",
    "import pandas as pd\n",
    "from sdv.metadata import Metadata\n",
    "from sdv.single_table import CTGANSynthesizer\n",
    "\n",
    "PROJECT_ROOT = Path(__name__).resolve().parent.parent\n",
    "INPUT_FOLDER = PROJECT_ROOT / \"data/input\"\n",
    "OUTPUT_FOLDER = PROJECT_ROOT / \"data/output\"\n",
    "OUTPUT_FOLDER.mkdir(parents=True, exist_ok=True)"
   ]
  },
  {
   "cell_type": "code",
   "execution_count": null,
   "metadata": {},
   "outputs": [
    {
     "name": "stdout",
     "output_type": "stream",
     "text": [
      "   age          workclass  fnlwgt   education  education_num  \\\n",
      "0   39          State-gov   77516   Bachelors             13   \n",
      "1   50   Self-emp-not-inc   83311   Bachelors             13   \n",
      "2   38            Private  215646     HS-grad              9   \n",
      "3   53            Private  234721        11th              7   \n",
      "4   28            Private  338409   Bachelors             13   \n",
      "\n",
      "        marital_status          occupation    relationship    race      sex  \\\n",
      "0        Never-married        Adm-clerical   Not-in-family   White     Male   \n",
      "1   Married-civ-spouse     Exec-managerial         Husband   White     Male   \n",
      "2             Divorced   Handlers-cleaners   Not-in-family   White     Male   \n",
      "3   Married-civ-spouse   Handlers-cleaners         Husband   Black     Male   \n",
      "4   Married-civ-spouse      Prof-specialty            Wife   Black   Female   \n",
      "\n",
      "   capital_gain  capital_loss  minutes_per_week  native_country  \\\n",
      "0          2174             0                40   United-States   \n",
      "1             0             0                13   United-States   \n",
      "2             0             0                40   United-States   \n",
      "3             0             0                40   United-States   \n",
      "4             0             0                40            Cuba   \n",
      "\n",
      "  Income_Category  \n",
      "0           <=50K  \n",
      "1           <=50K  \n",
      "2           <=50K  \n",
      "3           <=50K  \n",
      "4           <=50K  \n",
      "(32561, 15)\n"
     ]
    },
    {
     "name": "stderr",
     "output_type": "stream",
     "text": [
      "/home/nick16180/workspace/cas-rpm-2025-synthetic-data/.venv/lib/python3.12/site-packages/sdv/single_table/base.py:104: UserWarning:\n",
      "\n",
      "We strongly recommend saving the metadata using 'save_to_json' for replicability in future SDV versions.\n",
      "\n"
     ]
    }
   ],
   "source": [
    "# UCI Adult data\n",
    "# Read data and check\n",
    "ifolder = INPUT_FOLDER / \"UCI_adult\"\n",
    "ofolder = OUTPUT_FOLDER / \"UCI_adult\"\n",
    "ofolder.mkdir(parents=True, exist_ok=True)\n",
    "data_path = ifolder / \"adult.data\"\n",
    "colnames = [\n",
    "    \"age\",\n",
    "    \"workclass\",\n",
    "    \"fnlwgt\",\n",
    "    \"education\",\n",
    "    \"education_num\",\n",
    "    \"marital_status\",\n",
    "    \"occupation\",\n",
    "    \"relationship\",\n",
    "    \"race\",\n",
    "    \"sex\",\n",
    "    \"capital_gain\",\n",
    "    \"capital_loss\",\n",
    "    \"minutes_per_week\",\n",
    "    \"native_country\",\n",
    "    \"Income_Category\",\n",
    "]\n",
    "df = pd.read_csv(data_path, names=colnames)\n",
    "print(df.head())\n",
    "print(df.shape)\n",
    "\n",
    "# set up metadata for GAN\n",
    "df_meta = Metadata.detect_from_dataframe(df)\n",
    "gen = CTGANSynthesizer(\n",
    "    metadata=df_meta,\n",
    "    epochs=500,\n",
    "    verbose=True,\n",
    ")\n"
   ]
  },
  {
   "cell_type": "code",
   "execution_count": 4,
   "metadata": {},
   "outputs": [
    {
     "name": "stderr",
     "output_type": "stream",
     "text": [
      "/home/nick16180/workspace/cas-rpm-2025-synthetic-data/.venv/lib/python3.12/site-packages/torch/cuda/__init__.py:129: UserWarning:\n",
      "\n",
      "CUDA initialization: The NVIDIA driver on your system is too old (found version 11040). Please update your GPU driver by downloading and installing a new version from the URL: http://www.nvidia.com/Download/index.aspx Alternatively, go to: https://pytorch.org to install a PyTorch version that has been compiled with your version of the CUDA driver. (Triggered internally at /pytorch/c10/cuda/CUDAFunctions.cpp:109.)\n",
      "\n",
      "Gen. (-0.65) | Discrim. (-0.08): 100%|██████████| 500/500 [26:02<00:00,  3.13s/it]\n"
     ]
    }
   ],
   "source": [
    "# Train the GAN - keep track of the time to execute\n",
    "tstart = time.time()\n",
    "gen.fit(df)\n",
    "tend = time.time()\n",
    "duration = tend - tstart"
   ]
  },
  {
   "cell_type": "code",
   "execution_count": null,
   "metadata": {},
   "outputs": [
    {
     "name": "stdout",
     "output_type": "stream",
     "text": [
      "Time to fit: 26.56 min.\n"
     ]
    }
   ],
   "source": [
    "# save the results, plot the loss function, and print the time to train the GAN\n",
    "gen.save(ofolder / \"ctgan.pkl\")\n",
    "df_meta.save_to_json(ofolder / \"ctgan_metdata.json\")\n",
    "df.to_pickle(ofolder / \"real_df.pkl\")\n",
    "# units are seconds, so display minutes\n",
    "print(f\"Time to fit: {(duration / 60):.2f} min.\")"
   ]
  },
  {
   "cell_type": "code",
   "execution_count": null,
   "metadata": {},
   "outputs": [
    {
     "name": "stdout",
     "output_type": "stream",
     "text": [
      "   fixed acidity  volatile acidity  citric acid  residual sugar  chlorides  \\\n",
      "0            7.4              0.70         0.00             1.9      0.076   \n",
      "1            7.8              0.88         0.00             2.6      0.098   \n",
      "2            7.8              0.76         0.04             2.3      0.092   \n",
      "3           11.2              0.28         0.56             1.9      0.075   \n",
      "4            7.4              0.70         0.00             1.9      0.076   \n",
      "\n",
      "   free sulfur dioxide  total sulfur dioxide  density    pH  sulphates  \\\n",
      "0                 11.0                  34.0   0.9978  3.51       0.56   \n",
      "1                 25.0                  67.0   0.9968  3.20       0.68   \n",
      "2                 15.0                  54.0   0.9970  3.26       0.65   \n",
      "3                 17.0                  60.0   0.9980  3.16       0.58   \n",
      "4                 11.0                  34.0   0.9978  3.51       0.56   \n",
      "\n",
      "   alcohol  quality  \n",
      "0      9.4        5  \n",
      "1      9.8        5  \n",
      "2      9.8        5  \n",
      "3      9.8        6  \n",
      "4      9.4        5  \n",
      "(6497, 12)\n"
     ]
    },
    {
     "name": "stderr",
     "output_type": "stream",
     "text": [
      "/home/nick16180/workspace/cas-rpm-2025-synthetic-data/.venv/lib/python3.12/site-packages/sdv/single_table/base.py:104: UserWarning:\n",
      "\n",
      "We strongly recommend saving the metadata using 'save_to_json' for replicability in future SDV versions.\n",
      "\n"
     ]
    }
   ],
   "source": [
    "# UCI wine quality data\n",
    "# Read data and check\n",
    "ifolder = INPUT_FOLDER / \"UCI_winequality\"\n",
    "ofolder = OUTPUT_FOLDER / \"UCI_winequality\"\n",
    "ofolder.mkdir(parents=True, exist_ok=True)\n",
    "data_path = ifolder / \"winequality-red.csv\"\n",
    "df1 = pd.read_csv(data_path, delimiter=\";\")\n",
    "df1[\"winetype\"] = \"red\"\n",
    "data_path = ifolder / \"winequality-white.csv\"\n",
    "df2 = pd.read_csv(data_path, delimiter=\";\")\n",
    "df1[\"winetype\"] = \"white\"\n",
    "df = pd.concat([df1, df2])\n",
    "print(df.head())\n",
    "print(df.shape)\n",
    "\n",
    "# set up metadata for GAN\n",
    "df_meta = Metadata.detect_from_dataframe(df)\n",
    "gen = CTGANSynthesizer(\n",
    "    metadata=df_meta,\n",
    "    epochs=500,\n",
    "    verbose=True,\n",
    ")"
   ]
  },
  {
   "cell_type": "code",
   "execution_count": 7,
   "metadata": {},
   "outputs": [
    {
     "name": "stderr",
     "output_type": "stream",
     "text": [
      "Gen. (-2.65) | Discrim. (-0.09): 100%|██████████| 500/500 [03:27<00:00,  2.41it/s]\n"
     ]
    }
   ],
   "source": [
    "# Train the GAN - keep track of the time to execute\n",
    "tstart = time.time()\n",
    "gen.fit(df)\n",
    "tend = time.time()\n",
    "duration = tend - tstart"
   ]
  },
  {
   "cell_type": "code",
   "execution_count": null,
   "metadata": {},
   "outputs": [
    {
     "name": "stdout",
     "output_type": "stream",
     "text": [
      "Time to fit: 3.60 min.\n"
     ]
    }
   ],
   "source": [
    "# save the results, plot the loss function, and print the time to train the GAN\n",
    "gen.save(ofolder / \"ctgan.pkl\")\n",
    "df_meta.save_to_json(ofolder / \"ctgan_metdata.json\")\n",
    "df.to_pickle(ofolder / \"real_df.pkl\")\n",
    "# units are seconds, so display minutes\n",
    "print(f\"Time to fit: {(duration / 60):.2f} min.\")"
   ]
  },
  {
   "cell_type": "code",
   "execution_count": null,
   "metadata": {},
   "outputs": [
    {
     "name": "stdout",
     "output_type": "stream",
     "text": [
      "Currently fitting: epoch 1 batch 20.\n"
     ]
    },
    {
     "name": "stderr",
     "output_type": "stream",
     "text": [
      "Gen. (1.23) | Discrim. (0.39): 100%|██████████| 1/1 [00:05<00:00,  5.22s/it]\n"
     ]
    },
    {
     "name": "stdout",
     "output_type": "stream",
     "text": [
      "Time to fit: 0.23 min.\n",
      "Currently fitting: epoch 1 batch 50.\n"
     ]
    },
    {
     "name": "stderr",
     "output_type": "stream",
     "text": [
      "Gen. (1.62) | Discrim. (-0.06): 100%|██████████| 1/1 [00:02<00:00,  2.25s/it]\n"
     ]
    },
    {
     "name": "stdout",
     "output_type": "stream",
     "text": [
      "Time to fit: 0.11 min.\n",
      "Currently fitting: epoch 1 batch 100.\n"
     ]
    },
    {
     "name": "stderr",
     "output_type": "stream",
     "text": [
      "Gen. (0.94) | Discrim. (0.22): 100%|██████████| 1/1 [00:01<00:00,  1.28s/it]\n"
     ]
    },
    {
     "name": "stdout",
     "output_type": "stream",
     "text": [
      "Time to fit: 0.09 min.\n",
      "Currently fitting: epoch 1 batch 500.\n"
     ]
    },
    {
     "name": "stderr",
     "output_type": "stream",
     "text": [
      "Gen. (1.93) | Discrim. (-0.03): 100%|██████████| 1/1 [00:00<00:00,  2.25it/s]\n"
     ]
    },
    {
     "name": "stdout",
     "output_type": "stream",
     "text": [
      "Time to fit: 0.08 min.\n",
      "Currently fitting: epoch 1 batch 1000.\n"
     ]
    },
    {
     "name": "stderr",
     "output_type": "stream",
     "text": [
      "Gen. (2.03) | Discrim. (0.00): 100%|██████████| 1/1 [00:00<00:00,  2.96it/s]\n"
     ]
    },
    {
     "name": "stdout",
     "output_type": "stream",
     "text": [
      "Time to fit: 0.08 min.\n",
      "Currently fitting: epoch 5 batch 20.\n"
     ]
    },
    {
     "name": "stderr",
     "output_type": "stream",
     "text": [
      "Gen. (-1.02) | Discrim. (0.18): 100%|██████████| 5/5 [00:25<00:00,  5.17s/it]\n"
     ]
    },
    {
     "name": "stdout",
     "output_type": "stream",
     "text": [
      "Time to fit: 0.50 min.\n",
      "Currently fitting: epoch 5 batch 50.\n"
     ]
    },
    {
     "name": "stderr",
     "output_type": "stream",
     "text": [
      "Gen. (-1.23) | Discrim. (-0.10): 100%|██████████| 5/5 [00:11<00:00,  2.22s/it]\n"
     ]
    },
    {
     "name": "stdout",
     "output_type": "stream",
     "text": [
      "Time to fit: 0.26 min.\n",
      "Currently fitting: epoch 5 batch 100.\n"
     ]
    },
    {
     "name": "stderr",
     "output_type": "stream",
     "text": [
      "Gen. (-1.02) | Discrim. (-0.18): 100%|██████████| 5/5 [00:06<00:00,  1.26s/it]\n"
     ]
    },
    {
     "name": "stdout",
     "output_type": "stream",
     "text": [
      "Time to fit: 0.18 min.\n",
      "Currently fitting: epoch 5 batch 500.\n"
     ]
    },
    {
     "name": "stderr",
     "output_type": "stream",
     "text": [
      "Gen. (0.95) | Discrim. (0.02): 100%|██████████| 5/5 [00:02<00:00,  2.35it/s] \n"
     ]
    },
    {
     "name": "stdout",
     "output_type": "stream",
     "text": [
      "Time to fit: 0.11 min.\n",
      "Currently fitting: epoch 5 batch 1000.\n"
     ]
    },
    {
     "name": "stderr",
     "output_type": "stream",
     "text": [
      "Gen. (1.09) | Discrim. (0.12): 100%|██████████| 5/5 [00:01<00:00,  3.06it/s] \n"
     ]
    },
    {
     "name": "stdout",
     "output_type": "stream",
     "text": [
      "Time to fit: 0.10 min.\n",
      "Currently fitting: epoch 10 batch 20.\n"
     ]
    },
    {
     "name": "stderr",
     "output_type": "stream",
     "text": [
      "Gen. (-1.00) | Discrim. (-0.21): 100%|██████████| 10/10 [00:51<00:00,  5.18s/it]\n"
     ]
    },
    {
     "name": "stdout",
     "output_type": "stream",
     "text": [
      "Time to fit: 0.94 min.\n",
      "Currently fitting: epoch 10 batch 50.\n"
     ]
    },
    {
     "name": "stderr",
     "output_type": "stream",
     "text": [
      "Gen. (-1.90) | Discrim. (-0.27): 100%|██████████| 10/10 [00:23<00:00,  2.31s/it]\n"
     ]
    },
    {
     "name": "stdout",
     "output_type": "stream",
     "text": [
      "Time to fit: 0.46 min.\n",
      "Currently fitting: epoch 10 batch 100.\n"
     ]
    },
    {
     "name": "stderr",
     "output_type": "stream",
     "text": [
      "Gen. (-1.70) | Discrim. (0.13): 100%|██████████| 10/10 [00:12<00:00,  1.29s/it]\n"
     ]
    },
    {
     "name": "stdout",
     "output_type": "stream",
     "text": [
      "Time to fit: 0.29 min.\n",
      "Currently fitting: epoch 10 batch 500.\n"
     ]
    },
    {
     "name": "stderr",
     "output_type": "stream",
     "text": [
      "Gen. (0.35) | Discrim. (0.03): 100%|██████████| 10/10 [00:04<00:00,  2.29it/s]\n"
     ]
    },
    {
     "name": "stdout",
     "output_type": "stream",
     "text": [
      "Time to fit: 0.15 min.\n",
      "Currently fitting: epoch 10 batch 1000.\n"
     ]
    },
    {
     "name": "stderr",
     "output_type": "stream",
     "text": [
      "Gen. (0.97) | Discrim. (-0.07): 100%|██████████| 10/10 [00:03<00:00,  2.99it/s]\n"
     ]
    },
    {
     "name": "stdout",
     "output_type": "stream",
     "text": [
      "Time to fit: 0.13 min.\n",
      "Currently fitting: epoch 25 batch 20.\n"
     ]
    },
    {
     "name": "stderr",
     "output_type": "stream",
     "text": [
      "Gen. (-0.90) | Discrim. (-2.62): 100%|██████████| 25/25 [02:06<00:00,  5.04s/it]\n"
     ]
    },
    {
     "name": "stdout",
     "output_type": "stream",
     "text": [
      "Time to fit: 2.17 min.\n",
      "Currently fitting: epoch 25 batch 50.\n"
     ]
    },
    {
     "name": "stderr",
     "output_type": "stream",
     "text": [
      "Gen. (-2.27) | Discrim. (-0.37): 100%|██████████| 25/25 [00:55<00:00,  2.22s/it]\n"
     ]
    },
    {
     "name": "stdout",
     "output_type": "stream",
     "text": [
      "Time to fit: 1.00 min.\n",
      "Currently fitting: epoch 25 batch 100.\n"
     ]
    },
    {
     "name": "stderr",
     "output_type": "stream",
     "text": [
      "Gen. (-2.77) | Discrim. (0.27): 100%|██████████| 25/25 [00:31<00:00,  1.24s/it] \n"
     ]
    },
    {
     "name": "stdout",
     "output_type": "stream",
     "text": [
      "Time to fit: 0.59 min.\n",
      "Currently fitting: epoch 25 batch 500.\n"
     ]
    },
    {
     "name": "stderr",
     "output_type": "stream",
     "text": [
      "Gen. (-1.31) | Discrim. (-0.15): 100%|██████████| 25/25 [00:10<00:00,  2.29it/s]\n"
     ]
    },
    {
     "name": "stdout",
     "output_type": "stream",
     "text": [
      "Time to fit: 0.25 min.\n",
      "Currently fitting: epoch 25 batch 1000.\n"
     ]
    },
    {
     "name": "stderr",
     "output_type": "stream",
     "text": [
      "Gen. (-0.39) | Discrim. (0.02): 100%|██████████| 25/25 [00:08<00:00,  3.10it/s] \n"
     ]
    },
    {
     "name": "stdout",
     "output_type": "stream",
     "text": [
      "Time to fit: 0.21 min.\n",
      "Currently fitting: epoch 50 batch 20.\n"
     ]
    },
    {
     "name": "stderr",
     "output_type": "stream",
     "text": [
      "Gen. (0.05) | Discrim. (0.10): 100%|██████████| 50/50 [04:09<00:00,  4.99s/it]  \n"
     ]
    },
    {
     "name": "stdout",
     "output_type": "stream",
     "text": [
      "Time to fit: 4.23 min.\n",
      "Currently fitting: epoch 50 batch 50.\n"
     ]
    },
    {
     "name": "stderr",
     "output_type": "stream",
     "text": [
      "Gen. (-1.39) | Discrim. (0.16): 100%|██████████| 50/50 [01:50<00:00,  2.22s/it] \n"
     ]
    },
    {
     "name": "stdout",
     "output_type": "stream",
     "text": [
      "Time to fit: 1.92 min.\n",
      "Currently fitting: epoch 50 batch 100.\n"
     ]
    },
    {
     "name": "stderr",
     "output_type": "stream",
     "text": [
      "Gen. (-3.05) | Discrim. (0.09): 100%|██████████| 50/50 [01:06<00:00,  1.33s/it] \n"
     ]
    },
    {
     "name": "stdout",
     "output_type": "stream",
     "text": [
      "Time to fit: 1.18 min.\n",
      "Currently fitting: epoch 50 batch 500.\n"
     ]
    },
    {
     "name": "stderr",
     "output_type": "stream",
     "text": [
      "Gen. (-1.87) | Discrim. (-0.08): 100%|██████████| 50/50 [00:22<00:00,  2.24it/s]\n"
     ]
    },
    {
     "name": "stdout",
     "output_type": "stream",
     "text": [
      "Time to fit: 0.44 min.\n",
      "Currently fitting: epoch 50 batch 1000.\n"
     ]
    },
    {
     "name": "stderr",
     "output_type": "stream",
     "text": [
      "Gen. (-1.49) | Discrim. (0.01): 100%|██████████| 50/50 [00:17<00:00,  2.81it/s] \n"
     ]
    },
    {
     "name": "stdout",
     "output_type": "stream",
     "text": [
      "Time to fit: 0.37 min.\n",
      "Currently fitting: epoch 100 batch 20.\n"
     ]
    },
    {
     "name": "stderr",
     "output_type": "stream",
     "text": [
      "Gen. (-1.15) | Discrim. (-0.72): 100%|██████████| 100/100 [09:01<00:00,  5.42s/it]\n"
     ]
    },
    {
     "name": "stdout",
     "output_type": "stream",
     "text": [
      "Time to fit: 9.10 min.\n",
      "Currently fitting: epoch 100 batch 50.\n"
     ]
    },
    {
     "name": "stderr",
     "output_type": "stream",
     "text": [
      "Gen. (-1.25) | Discrim. (0.90): 100%|██████████| 100/100 [04:04<00:00,  2.45s/it]\n"
     ]
    },
    {
     "name": "stdout",
     "output_type": "stream",
     "text": [
      "Time to fit: 4.23 min.\n",
      "Currently fitting: epoch 100 batch 100.\n"
     ]
    },
    {
     "name": "stderr",
     "output_type": "stream",
     "text": [
      "Gen. (-3.30) | Discrim. (-0.07): 100%|██████████| 100/100 [02:07<00:00,  1.28s/it]\n"
     ]
    },
    {
     "name": "stdout",
     "output_type": "stream",
     "text": [
      "Time to fit: 2.20 min.\n",
      "Currently fitting: epoch 100 batch 500.\n"
     ]
    },
    {
     "name": "stderr",
     "output_type": "stream",
     "text": [
      "Gen. (-2.76) | Discrim. (0.18): 100%|██████████| 100/100 [00:45<00:00,  2.21it/s]\n"
     ]
    },
    {
     "name": "stdout",
     "output_type": "stream",
     "text": [
      "Time to fit: 0.82 min.\n",
      "Currently fitting: epoch 100 batch 1000.\n"
     ]
    },
    {
     "name": "stderr",
     "output_type": "stream",
     "text": [
      "Gen. (-2.11) | Discrim. (0.02): 100%|██████████| 100/100 [00:34<00:00,  2.91it/s]\n"
     ]
    },
    {
     "name": "stdout",
     "output_type": "stream",
     "text": [
      "Time to fit: 0.65 min.\n",
      "Currently fitting: epoch 250 batch 20.\n"
     ]
    },
    {
     "name": "stderr",
     "output_type": "stream",
     "text": [
      "Gen. (0.04) | Discrim. (-0.33): 100%|██████████| 250/250 [22:32<00:00,  5.41s/it] \n"
     ]
    },
    {
     "name": "stdout",
     "output_type": "stream",
     "text": [
      "Time to fit: 22.62 min.\n",
      "Currently fitting: epoch 250 batch 50.\n"
     ]
    },
    {
     "name": "stderr",
     "output_type": "stream",
     "text": [
      "Gen. (-0.11) | Discrim. (-0.07): 100%|██████████| 250/250 [09:48<00:00,  2.35s/it]\n"
     ]
    },
    {
     "name": "stdout",
     "output_type": "stream",
     "text": [
      "Time to fit: 9.95 min.\n",
      "Currently fitting: epoch 250 batch 100.\n"
     ]
    },
    {
     "name": "stderr",
     "output_type": "stream",
     "text": [
      "Gen. (-3.29) | Discrim. (-0.22): 100%|██████████| 250/250 [05:27<00:00,  1.31s/it]\n"
     ]
    },
    {
     "name": "stdout",
     "output_type": "stream",
     "text": [
      "Time to fit: 5.61 min.\n",
      "Currently fitting: epoch 250 batch 500.\n"
     ]
    },
    {
     "name": "stderr",
     "output_type": "stream",
     "text": [
      "Gen. (-2.98) | Discrim. (0.05): 100%|██████████| 250/250 [01:53<00:00,  2.20it/s] \n"
     ]
    },
    {
     "name": "stdout",
     "output_type": "stream",
     "text": [
      "Time to fit: 2.04 min.\n",
      "Currently fitting: epoch 250 batch 1000.\n"
     ]
    },
    {
     "name": "stderr",
     "output_type": "stream",
     "text": [
      "Gen. (-2.40) | Discrim. (-0.07): 100%|██████████| 250/250 [01:26<00:00,  2.88it/s]\n"
     ]
    },
    {
     "name": "stdout",
     "output_type": "stream",
     "text": [
      "Time to fit: 1.52 min.\n",
      "Currently fitting: epoch 500 batch 20.\n"
     ]
    },
    {
     "name": "stderr",
     "output_type": "stream",
     "text": [
      "Gen. (-0.83) | Discrim. (0.83): 100%|██████████| 500/500 [46:24<00:00,  5.57s/it] \n"
     ]
    },
    {
     "name": "stdout",
     "output_type": "stream",
     "text": [
      "Time to fit: 46.50 min.\n",
      "Currently fitting: epoch 500 batch 50.\n"
     ]
    },
    {
     "name": "stderr",
     "output_type": "stream",
     "text": [
      "Gen. (-1.05) | Discrim. (-0.48): 100%|██████████| 500/500 [19:39<00:00,  2.36s/it]\n"
     ]
    },
    {
     "name": "stdout",
     "output_type": "stream",
     "text": [
      "Time to fit: 19.81 min.\n",
      "Currently fitting: epoch 500 batch 100.\n"
     ]
    },
    {
     "name": "stderr",
     "output_type": "stream",
     "text": [
      "Gen. (-3.00) | Discrim. (-0.23): 100%|██████████| 500/500 [10:56<00:00,  1.31s/it]\n"
     ]
    },
    {
     "name": "stdout",
     "output_type": "stream",
     "text": [
      "Time to fit: 11.10 min.\n",
      "Currently fitting: epoch 500 batch 500.\n"
     ]
    },
    {
     "name": "stderr",
     "output_type": "stream",
     "text": [
      "Gen. (-2.93) | Discrim. (0.01): 100%|██████████| 500/500 [03:43<00:00,  2.24it/s] \n"
     ]
    },
    {
     "name": "stdout",
     "output_type": "stream",
     "text": [
      "Time to fit: 3.87 min.\n",
      "Currently fitting: epoch 500 batch 1000.\n"
     ]
    },
    {
     "name": "stderr",
     "output_type": "stream",
     "text": [
      "Gen. (-2.03) | Discrim. (-0.02): 100%|██████████| 500/500 [02:56<00:00,  2.83it/s]\n"
     ]
    },
    {
     "name": "stdout",
     "output_type": "stream",
     "text": [
      "Time to fit: 3.01 min.\n",
      "Currently fitting: epoch 1000 batch 20.\n"
     ]
    },
    {
     "name": "stderr",
     "output_type": "stream",
     "text": [
      "Gen. (0.44) | Discrim. (-1.28): 100%|██████████| 1000/1000 [1:27:29<00:00,  5.25s/it]\n"
     ]
    },
    {
     "name": "stdout",
     "output_type": "stream",
     "text": [
      "Time to fit: 87.57 min.\n",
      "Currently fitting: epoch 1000 batch 50.\n"
     ]
    },
    {
     "name": "stderr",
     "output_type": "stream",
     "text": [
      "Gen. (-0.25) | Discrim. (-0.44): 100%|██████████| 1000/1000 [38:28<00:00,  2.31s/it]\n"
     ]
    },
    {
     "name": "stdout",
     "output_type": "stream",
     "text": [
      "Time to fit: 38.61 min.\n",
      "Currently fitting: epoch 1000 batch 100.\n"
     ]
    },
    {
     "name": "stderr",
     "output_type": "stream",
     "text": [
      "Gen. (-0.86) | Discrim. (-0.01): 100%|██████████| 1000/1000 [20:07<00:00,  1.21s/it]\n"
     ]
    },
    {
     "name": "stdout",
     "output_type": "stream",
     "text": [
      "Time to fit: 20.26 min.\n",
      "Currently fitting: epoch 1000 batch 500.\n"
     ]
    },
    {
     "name": "stderr",
     "output_type": "stream",
     "text": [
      "Gen. (-3.17) | Discrim. (-0.01): 100%|██████████| 1000/1000 [07:16<00:00,  2.29it/s]\n"
     ]
    },
    {
     "name": "stdout",
     "output_type": "stream",
     "text": [
      "Time to fit: 7.42 min.\n",
      "Currently fitting: epoch 1000 batch 1000.\n"
     ]
    },
    {
     "name": "stderr",
     "output_type": "stream",
     "text": [
      "Gen. (-0.88) | Discrim. (-0.22): 100%|██████████| 1000/1000 [05:22<00:00,  3.10it/s]"
     ]
    },
    {
     "name": "stdout",
     "output_type": "stream",
     "text": [
      "Time to fit: 5.51 min.\n"
     ]
    },
    {
     "name": "stderr",
     "output_type": "stream",
     "text": [
      "\n"
     ]
    }
   ],
   "source": [
    "# do again, but train for different epochs/batches and save to evaluate later\n",
    "epochs = [1, 5, 10, 25, 50, 100, 250, 500, 1000]\n",
    "batches = [20, 50, 100, 500, 1000] # need to be in increments of 10\n",
    "for epoch in epochs:\n",
    "    for batch in batches:\n",
    "        print(f\"Currently fitting: epoch {epoch} batch {batch}.\")\n",
    "        grid_saveto = ofolder / f\"grid/epoch {epoch} batch {batch}\"\n",
    "        grid_saveto.mkdir(parents=True, exist_ok=True)\n",
    "        grid_gen = CTGANSynthesizer(\n",
    "            metadata=df_meta,\n",
    "            epochs=epoch,\n",
    "            batch_size=batch,\n",
    "            verbose=True,\n",
    "        )\n",
    "        tstart = time.time()\n",
    "        grid_gen.fit(df)\n",
    "        tend = time.time()\n",
    "        duration = tend - tstart\n",
    "        grid_gen.save(grid_saveto / \"ctgan.pkl\")\n",
    "        # units are seconds, so display minutes\n",
    "        print(f\"Time to fit: {(duration / 60):.2f} min.\")"
   ]
  },
  {
   "cell_type": "code",
   "execution_count": null,
   "metadata": {},
   "outputs": [
    {
     "name": "stdout",
     "output_type": "stream",
     "text": [
      "   Time        V1        V2        V3        V4        V5        V6        V7  \\\n",
      "0   0.0 -1.359807 -0.072781  2.536347  1.378155 -0.338321  0.462388  0.239599   \n",
      "1   0.0  1.191857  0.266151  0.166480  0.448154  0.060018 -0.082361 -0.078803   \n",
      "2   1.0 -1.358354 -1.340163  1.773209  0.379780 -0.503198  1.800499  0.791461   \n",
      "3   1.0 -0.966272 -0.185226  1.792993 -0.863291 -0.010309  1.247203  0.237609   \n",
      "4   2.0 -1.158233  0.877737  1.548718  0.403034 -0.407193  0.095921  0.592941   \n",
      "\n",
      "         V8        V9  ...       V21       V22       V23       V24       V25  \\\n",
      "0  0.098698  0.363787  ... -0.018307  0.277838 -0.110474  0.066928  0.128539   \n",
      "1  0.085102 -0.255425  ... -0.225775 -0.638672  0.101288 -0.339846  0.167170   \n",
      "2  0.247676 -1.514654  ...  0.247998  0.771679  0.909412 -0.689281 -0.327642   \n",
      "3  0.377436 -1.387024  ... -0.108300  0.005274 -0.190321 -1.175575  0.647376   \n",
      "4 -0.270533  0.817739  ... -0.009431  0.798278 -0.137458  0.141267 -0.206010   \n",
      "\n",
      "        V26       V27       V28  Amount  Class  \n",
      "0 -0.189115  0.133558 -0.021053  149.62      0  \n",
      "1  0.125895 -0.008983  0.014724    2.69      0  \n",
      "2 -0.139097 -0.055353 -0.059752  378.66      0  \n",
      "3 -0.221929  0.062723  0.061458  123.50      0  \n",
      "4  0.502292  0.219422  0.215153   69.99      0  \n",
      "\n",
      "[5 rows x 31 columns]\n",
      "(284807, 31)\n"
     ]
    },
    {
     "name": "stderr",
     "output_type": "stream",
     "text": [
      "/home/nick16180/workspace/cas-rpm-2025-synthetic-data/.venv/lib/python3.12/site-packages/sdv/single_table/base.py:104: UserWarning:\n",
      "\n",
      "We strongly recommend saving the metadata using 'save_to_json' for replicability in future SDV versions.\n",
      "\n"
     ]
    }
   ],
   "source": [
    "# Kaggle credit card fraud data\n",
    "# Read data and check\n",
    "ifolder = INPUT_FOLDER / \"Kaggle_creditcardfraud\"\n",
    "ofolder = OUTPUT_FOLDER / \"Kaggle_creditcardfraud\"\n",
    "ofolder.mkdir(parents=True, exist_ok=True)\n",
    "data_path = INPUT_FOLDER / \"creditcard.csv\"\n",
    "df = pd.read_csv(data_path)\n",
    "print(df.head())\n",
    "print(df.shape)\n",
    "\n",
    "# set up metadata for GAN\n",
    "df_meta = Metadata.detect_from_dataframe(df)\n",
    "gen = CTGANSynthesizer(\n",
    "    metadata=df_meta,\n",
    "    epochs=500,\n",
    "    verbose=True,\n",
    ")"
   ]
  },
  {
   "cell_type": "code",
   "execution_count": 14,
   "metadata": {},
   "outputs": [
    {
     "name": "stderr",
     "output_type": "stream",
     "text": [
      "Gen. (0.30) | Discrim. (-0.22): 100%|██████████| 500/500 [4:36:08<00:00, 33.14s/it]   \n"
     ]
    }
   ],
   "source": [
    "# Train the GAN - keep track of the time to execute\n",
    "tstart = time.time()\n",
    "gen.fit(df)\n",
    "tend = time.time()\n",
    "duration = tend - tstart"
   ]
  },
  {
   "cell_type": "code",
   "execution_count": null,
   "metadata": {},
   "outputs": [
    {
     "name": "stdout",
     "output_type": "stream",
     "text": [
      "Time to fit: 288.82 min.\n"
     ]
    }
   ],
   "source": [
    "# save the results, plot the loss function, and print the time to train the GAN\n",
    "gen.save(ofolder / \"ctgan.pkl\")\n",
    "df_meta.save_to_json(ofolder / \"ctgan_metdata.json\")\n",
    "df.to_pickle(ofolder / \"real_df.pkl\")\n",
    "# units are seconds, so display minutes\n",
    "print(f\"Time to fit: {(duration / 60):.2f} min.\")"
   ]
  },
  {
   "cell_type": "code",
   "execution_count": null,
   "metadata": {},
   "outputs": [
    {
     "name": "stdout",
     "output_type": "stream",
     "text": [
      "  state fipsCountyCode incidentType  ihProgramDeclared  iaProgramDeclared  \\\n",
      "0    OR            067         Fire              False              False   \n",
      "1    OR            031         Fire              False              False   \n",
      "2    OR            017         Fire              False              False   \n",
      "3    WA            077         Fire              False              False   \n",
      "4    ID            000         Fire              False              False   \n",
      "\n",
      "   paProgramDeclared  hmProgramDeclared         incidentBeginDate  \\\n",
      "0               True               True  2024-08-08T00:00:00.000Z   \n",
      "1               True               True  2024-08-04T00:00:00.000Z   \n",
      "2               True               True  2024-08-02T00:00:00.000Z   \n",
      "3               True               True  2024-07-23T00:00:00.000Z   \n",
      "4               True               True  2024-07-25T00:00:00.000Z   \n",
      "\n",
      "  incidentEndDate  \n",
      "0            None  \n",
      "1            None  \n",
      "2            None  \n",
      "3            None  \n",
      "4            None  \n",
      "(67375, 9)\n"
     ]
    }
   ],
   "source": [
    "# FEMA disasters\n",
    "# Read data and check\n",
    "# Requires a little more data transformation\n",
    "ifolder = INPUT_FOLDER\n",
    "ofolder = OUTPUT_FOLDER / \"FEMA_DisasterDeclarationsSummaries\"\n",
    "ofolder.mkdir(parents=True, exist_ok=True)\n",
    "data_path = ifolder / \"FEMA_DisasterDeclarationsSummaries.json\"\n",
    "temp = None\n",
    "with open(data_path, \"r\") as io:\n",
    "    temp = json.load(io)\n",
    "# has a lot of columns not needed\n",
    "orig_df = pd.DataFrame(temp.get(\"DisasterDeclarationsSummaries\"))\n",
    "\n",
    "# read about the columns here: https://www.fema.gov/openfema-data-page/disaster-declarations-summaries-v2\n",
    "df = orig_df[\n",
    "    [\n",
    "        \"state\",\n",
    "        \"fipsCountyCode\",\n",
    "        \"incidentType\",\n",
    "        \"ihProgramDeclared\",\n",
    "        \"iaProgramDeclared\",\n",
    "        \"paProgramDeclared\",\n",
    "        \"hmProgramDeclared\",\n",
    "        \"incidentBeginDate\",\n",
    "        \"incidentEndDate\",\n",
    "    ]\n",
    "]\n",
    "print(df.head())\n",
    "print(df.shape)"
   ]
  },
  {
   "cell_type": "code",
   "execution_count": 32,
   "metadata": {},
   "outputs": [
    {
     "data": {
      "text/html": [
       "<div>\n",
       "<style scoped>\n",
       "    .dataframe tbody tr th:only-of-type {\n",
       "        vertical-align: middle;\n",
       "    }\n",
       "\n",
       "    .dataframe tbody tr th {\n",
       "        vertical-align: top;\n",
       "    }\n",
       "\n",
       "    .dataframe thead th {\n",
       "        text-align: right;\n",
       "    }\n",
       "</style>\n",
       "<table border=\"1\" class=\"dataframe\">\n",
       "  <thead>\n",
       "    <tr style=\"text-align: right;\">\n",
       "      <th></th>\n",
       "      <th>state</th>\n",
       "      <th>fipsCountyCode</th>\n",
       "      <th>incidentType</th>\n",
       "      <th>ihProgramDeclared</th>\n",
       "      <th>iaProgramDeclared</th>\n",
       "      <th>paProgramDeclared</th>\n",
       "      <th>hmProgramDeclared</th>\n",
       "      <th>incidentYear</th>\n",
       "      <th>incidentMonth</th>\n",
       "      <th>incidentDurationDays</th>\n",
       "    </tr>\n",
       "  </thead>\n",
       "  <tbody>\n",
       "    <tr>\n",
       "      <th>count</th>\n",
       "      <td>67375</td>\n",
       "      <td>67375</td>\n",
       "      <td>67375</td>\n",
       "      <td>67375</td>\n",
       "      <td>67375</td>\n",
       "      <td>67375</td>\n",
       "      <td>67375</td>\n",
       "      <td>67375</td>\n",
       "      <td>67375</td>\n",
       "      <td>66873.0</td>\n",
       "    </tr>\n",
       "    <tr>\n",
       "      <th>unique</th>\n",
       "      <td>59</td>\n",
       "      <td>347</td>\n",
       "      <td>26</td>\n",
       "      <td>2</td>\n",
       "      <td>2</td>\n",
       "      <td>2</td>\n",
       "      <td>2</td>\n",
       "      <td>73</td>\n",
       "      <td>12</td>\n",
       "      <td>152.0</td>\n",
       "    </tr>\n",
       "    <tr>\n",
       "      <th>top</th>\n",
       "      <td>TX</td>\n",
       "      <td>000</td>\n",
       "      <td>Severe Storm</td>\n",
       "      <td>False</td>\n",
       "      <td>False</td>\n",
       "      <td>True</td>\n",
       "      <td>False</td>\n",
       "      <td>2020</td>\n",
       "      <td>01</td>\n",
       "      <td>0.0</td>\n",
       "    </tr>\n",
       "    <tr>\n",
       "      <th>freq</th>\n",
       "      <td>5350</td>\n",
       "      <td>1544</td>\n",
       "      <td>18402</td>\n",
       "      <td>55933</td>\n",
       "      <td>50188</td>\n",
       "      <td>62927</td>\n",
       "      <td>37502</td>\n",
       "      <td>9706</td>\n",
       "      <td>12945</td>\n",
       "      <td>9356.0</td>\n",
       "    </tr>\n",
       "  </tbody>\n",
       "</table>\n",
       "</div>"
      ],
      "text/plain": [
       "        state fipsCountyCode  incidentType ihProgramDeclared  \\\n",
       "count   67375          67375         67375             67375   \n",
       "unique     59            347            26                 2   \n",
       "top        TX            000  Severe Storm             False   \n",
       "freq     5350           1544         18402             55933   \n",
       "\n",
       "       iaProgramDeclared paProgramDeclared hmProgramDeclared incidentYear  \\\n",
       "count              67375             67375             67375        67375   \n",
       "unique                 2                 2                 2           73   \n",
       "top                False              True             False         2020   \n",
       "freq               50188             62927             37502         9706   \n",
       "\n",
       "       incidentMonth  incidentDurationDays  \n",
       "count          67375               66873.0  \n",
       "unique            12                 152.0  \n",
       "top               01                   0.0  \n",
       "freq           12945                9356.0  "
      ]
     },
     "execution_count": 32,
     "metadata": {},
     "output_type": "execute_result"
    }
   ],
   "source": [
    "# do various transformations\n",
    "def f(row: pd.Series) -> str:\n",
    "    x = row[\"incidentBeginDate\"]\n",
    "    try:\n",
    "        x = datetime.datetime.strptime(x[:10], \"%Y-%m-%d\")\n",
    "        return x.strftime(\"%Y\")\n",
    "    except Exception as ex:\n",
    "        print(str(ex))\n",
    "        return None\n",
    "\n",
    "\n",
    "df[\"incidentYear\"] = df.apply(f, axis=1)\n",
    "\n",
    "\n",
    "def f(row: pd.Series) -> str:\n",
    "    x = row[\"incidentBeginDate\"]\n",
    "    try:\n",
    "        x = datetime.datetime.strptime(x[:10], \"%Y-%m-%d\")\n",
    "        return x.strftime(\"%m\")\n",
    "    except Exception as ex:\n",
    "        print(str(ex))\n",
    "        return None\n",
    "\n",
    "\n",
    "df[\"incidentMonth\"] = df.apply(f, axis=1)\n",
    "\n",
    "\n",
    "def f(row: pd.Series) -> str:\n",
    "    x = row[\"incidentBeginDate\"]\n",
    "    y = row[\"incidentEndDate\"]\n",
    "    if y is None:\n",
    "        return None\n",
    "    try:\n",
    "        x = datetime.datetime.strptime(x[:10], \"%Y-%m-%d\")\n",
    "        y = datetime.datetime.strptime(y[:10], \"%Y-%m-%d\")\n",
    "        d = y - x\n",
    "        return d.days\n",
    "    except Exception as ex:\n",
    "        print(str(ex))\n",
    "        return None\n",
    "\n",
    "\n",
    "df[\"incidentDurationDays\"] = df.apply(f, axis=1)\n",
    "\n",
    "df.drop([\"incidentBeginDate\"], axis=1, inplace=True)\n",
    "df.drop([\"incidentEndDate\"], axis=1, inplace=True)\n",
    "df = df.replace({float(\"nan\"): None})\n",
    "df.head()\n",
    "df.describe()"
   ]
  },
  {
   "cell_type": "code",
   "execution_count": 33,
   "metadata": {},
   "outputs": [
    {
     "name": "stderr",
     "output_type": "stream",
     "text": [
      "/home/nick16180/workspace/cas-rpm-2025-synthetic-data/.venv/lib/python3.12/site-packages/sdv/single_table/base.py:104: UserWarning:\n",
      "\n",
      "We strongly recommend saving the metadata using 'save_to_json' for replicability in future SDV versions.\n",
      "\n"
     ]
    }
   ],
   "source": [
    "# set up metadata for GAN\n",
    "df_meta = Metadata.detect_from_dataframe(df)\n",
    "gen = CTGANSynthesizer(\n",
    "    metadata=df_meta,\n",
    "    epochs=500,\n",
    "    verbose=True,\n",
    ")"
   ]
  },
  {
   "cell_type": "code",
   "execution_count": 34,
   "metadata": {},
   "outputs": [
    {
     "name": "stderr",
     "output_type": "stream",
     "text": [
      "Gen. (-0.31) | Discrim. (0.36):  56%|█████▌    | 278/500 [1:00:59<48:42, 13.16s/it] \n"
     ]
    },
    {
     "ename": "KeyboardInterrupt",
     "evalue": "",
     "output_type": "error",
     "traceback": [
      "\u001b[0;31m---------------------------------------------------------------------------\u001b[0m",
      "\u001b[0;31mKeyboardInterrupt\u001b[0m                         Traceback (most recent call last)",
      "Cell \u001b[0;32mIn[34], line 3\u001b[0m\n\u001b[1;32m      1\u001b[0m \u001b[38;5;66;03m# Train the GAN - keep track of the time to execute\u001b[39;00m\n\u001b[1;32m      2\u001b[0m tstart \u001b[38;5;241m=\u001b[39m time\u001b[38;5;241m.\u001b[39mtime()\n\u001b[0;32m----> 3\u001b[0m \u001b[43mgen\u001b[49m\u001b[38;5;241;43m.\u001b[39;49m\u001b[43mfit\u001b[49m\u001b[43m(\u001b[49m\u001b[43mdf\u001b[49m\u001b[43m)\u001b[49m\n\u001b[1;32m      4\u001b[0m tend \u001b[38;5;241m=\u001b[39m time\u001b[38;5;241m.\u001b[39mtime()\n\u001b[1;32m      5\u001b[0m duration \u001b[38;5;241m=\u001b[39m tend \u001b[38;5;241m-\u001b[39m tstart\n",
      "File \u001b[0;32m~/workspace/cas-rpm-2025-synthetic-data/.venv/lib/python3.12/site-packages/sdv/single_table/base.py:524\u001b[0m, in \u001b[0;36mBaseSynthesizer.fit\u001b[0;34m(self, data)\u001b[0m\n\u001b[1;32m    522\u001b[0m \u001b[38;5;28mself\u001b[39m\u001b[38;5;241m.\u001b[39m_random_state_set \u001b[38;5;241m=\u001b[39m \u001b[38;5;28;01mFalse\u001b[39;00m\n\u001b[1;32m    523\u001b[0m processed_data \u001b[38;5;241m=\u001b[39m \u001b[38;5;28mself\u001b[39m\u001b[38;5;241m.\u001b[39mpreprocess(data)\n\u001b[0;32m--> 524\u001b[0m \u001b[38;5;28;43mself\u001b[39;49m\u001b[38;5;241;43m.\u001b[39;49m\u001b[43mfit_processed_data\u001b[49m\u001b[43m(\u001b[49m\u001b[43mprocessed_data\u001b[49m\u001b[43m)\u001b[49m\n",
      "File \u001b[0;32m~/workspace/cas-rpm-2025-synthetic-data/.venv/lib/python3.12/site-packages/sdv/single_table/base.py:494\u001b[0m, in \u001b[0;36mBaseSynthesizer.fit_processed_data\u001b[0;34m(self, processed_data)\u001b[0m\n\u001b[1;32m    492\u001b[0m check_synthesizer_version(\u001b[38;5;28mself\u001b[39m, is_fit_method\u001b[38;5;241m=\u001b[39m\u001b[38;5;28;01mTrue\u001b[39;00m, compare_operator\u001b[38;5;241m=\u001b[39moperator\u001b[38;5;241m.\u001b[39mlt)\n\u001b[1;32m    493\u001b[0m \u001b[38;5;28;01mif\u001b[39;00m \u001b[38;5;129;01mnot\u001b[39;00m processed_data\u001b[38;5;241m.\u001b[39mempty:\n\u001b[0;32m--> 494\u001b[0m     \u001b[38;5;28;43mself\u001b[39;49m\u001b[38;5;241;43m.\u001b[39;49m\u001b[43m_fit\u001b[49m\u001b[43m(\u001b[49m\u001b[43mprocessed_data\u001b[49m\u001b[43m)\u001b[49m\n\u001b[1;32m    496\u001b[0m \u001b[38;5;28mself\u001b[39m\u001b[38;5;241m.\u001b[39m_fitted \u001b[38;5;241m=\u001b[39m \u001b[38;5;28;01mTrue\u001b[39;00m\n\u001b[1;32m    497\u001b[0m \u001b[38;5;28mself\u001b[39m\u001b[38;5;241m.\u001b[39m_fitted_date \u001b[38;5;241m=\u001b[39m datetime\u001b[38;5;241m.\u001b[39mdatetime\u001b[38;5;241m.\u001b[39mtoday()\u001b[38;5;241m.\u001b[39mstrftime(\u001b[38;5;124m'\u001b[39m\u001b[38;5;124m%\u001b[39m\u001b[38;5;124mY-\u001b[39m\u001b[38;5;124m%\u001b[39m\u001b[38;5;124mm-\u001b[39m\u001b[38;5;132;01m%d\u001b[39;00m\u001b[38;5;124m'\u001b[39m)\n",
      "File \u001b[0;32m~/workspace/cas-rpm-2025-synthetic-data/.venv/lib/python3.12/site-packages/sdv/single_table/ctgan.py:293\u001b[0m, in \u001b[0;36mCTGANSynthesizer._fit\u001b[0;34m(self, processed_data)\u001b[0m\n\u001b[1;32m    291\u001b[0m \u001b[38;5;28;01mwith\u001b[39;00m warnings\u001b[38;5;241m.\u001b[39mcatch_warnings():\n\u001b[1;32m    292\u001b[0m     warnings\u001b[38;5;241m.\u001b[39mfilterwarnings(\u001b[38;5;124m'\u001b[39m\u001b[38;5;124mignore\u001b[39m\u001b[38;5;124m'\u001b[39m, message\u001b[38;5;241m=\u001b[39m\u001b[38;5;124m'\u001b[39m\u001b[38;5;124m.*Attempting to run cuBLAS.*\u001b[39m\u001b[38;5;124m'\u001b[39m)\n\u001b[0;32m--> 293\u001b[0m     \u001b[38;5;28;43mself\u001b[39;49m\u001b[38;5;241;43m.\u001b[39;49m\u001b[43m_model\u001b[49m\u001b[38;5;241;43m.\u001b[39;49m\u001b[43mfit\u001b[49m\u001b[43m(\u001b[49m\u001b[43mprocessed_data\u001b[49m\u001b[43m,\u001b[49m\u001b[43m \u001b[49m\u001b[43mdiscrete_columns\u001b[49m\u001b[38;5;241;43m=\u001b[39;49m\u001b[43mdiscrete_columns\u001b[49m\u001b[43m)\u001b[49m\n",
      "File \u001b[0;32m~/workspace/cas-rpm-2025-synthetic-data/.venv/lib/python3.12/site-packages/ctgan/synthesizers/base.py:50\u001b[0m, in \u001b[0;36mrandom_state.<locals>.wrapper\u001b[0;34m(self, *args, **kwargs)\u001b[0m\n\u001b[1;32m     48\u001b[0m \u001b[38;5;28;01mdef\u001b[39;00m\u001b[38;5;250m \u001b[39m\u001b[38;5;21mwrapper\u001b[39m(\u001b[38;5;28mself\u001b[39m, \u001b[38;5;241m*\u001b[39margs, \u001b[38;5;241m*\u001b[39m\u001b[38;5;241m*\u001b[39mkwargs):\n\u001b[1;32m     49\u001b[0m     \u001b[38;5;28;01mif\u001b[39;00m \u001b[38;5;28mself\u001b[39m\u001b[38;5;241m.\u001b[39mrandom_states \u001b[38;5;129;01mis\u001b[39;00m \u001b[38;5;28;01mNone\u001b[39;00m:\n\u001b[0;32m---> 50\u001b[0m         \u001b[38;5;28;01mreturn\u001b[39;00m \u001b[43mfunction\u001b[49m\u001b[43m(\u001b[49m\u001b[38;5;28;43mself\u001b[39;49m\u001b[43m,\u001b[49m\u001b[43m \u001b[49m\u001b[38;5;241;43m*\u001b[39;49m\u001b[43margs\u001b[49m\u001b[43m,\u001b[49m\u001b[43m \u001b[49m\u001b[38;5;241;43m*\u001b[39;49m\u001b[38;5;241;43m*\u001b[39;49m\u001b[43mkwargs\u001b[49m\u001b[43m)\u001b[49m\n\u001b[1;32m     52\u001b[0m     \u001b[38;5;28;01melse\u001b[39;00m:\n\u001b[1;32m     53\u001b[0m         \u001b[38;5;28;01mwith\u001b[39;00m set_random_states(\u001b[38;5;28mself\u001b[39m\u001b[38;5;241m.\u001b[39mrandom_states, \u001b[38;5;28mself\u001b[39m\u001b[38;5;241m.\u001b[39mset_random_state):\n",
      "File \u001b[0;32m~/workspace/cas-rpm-2025-synthetic-data/.venv/lib/python3.12/site-packages/ctgan/synthesizers/ctgan.py:407\u001b[0m, in \u001b[0;36mCTGAN.fit\u001b[0;34m(self, train_data, discrete_columns, epochs)\u001b[0m\n\u001b[1;32m    404\u001b[0m loss_d \u001b[38;5;241m=\u001b[39m \u001b[38;5;241m-\u001b[39m(torch\u001b[38;5;241m.\u001b[39mmean(y_real) \u001b[38;5;241m-\u001b[39m torch\u001b[38;5;241m.\u001b[39mmean(y_fake))\n\u001b[1;32m    406\u001b[0m optimizerD\u001b[38;5;241m.\u001b[39mzero_grad(set_to_none\u001b[38;5;241m=\u001b[39m\u001b[38;5;28;01mFalse\u001b[39;00m)\n\u001b[0;32m--> 407\u001b[0m \u001b[43mpen\u001b[49m\u001b[38;5;241;43m.\u001b[39;49m\u001b[43mbackward\u001b[49m\u001b[43m(\u001b[49m\u001b[43mretain_graph\u001b[49m\u001b[38;5;241;43m=\u001b[39;49m\u001b[38;5;28;43;01mTrue\u001b[39;49;00m\u001b[43m)\u001b[49m\n\u001b[1;32m    408\u001b[0m loss_d\u001b[38;5;241m.\u001b[39mbackward()\n\u001b[1;32m    409\u001b[0m optimizerD\u001b[38;5;241m.\u001b[39mstep()\n",
      "File \u001b[0;32m~/workspace/cas-rpm-2025-synthetic-data/.venv/lib/python3.12/site-packages/torch/_tensor.py:626\u001b[0m, in \u001b[0;36mTensor.backward\u001b[0;34m(self, gradient, retain_graph, create_graph, inputs)\u001b[0m\n\u001b[1;32m    616\u001b[0m \u001b[38;5;28;01mif\u001b[39;00m has_torch_function_unary(\u001b[38;5;28mself\u001b[39m):\n\u001b[1;32m    617\u001b[0m     \u001b[38;5;28;01mreturn\u001b[39;00m handle_torch_function(\n\u001b[1;32m    618\u001b[0m         Tensor\u001b[38;5;241m.\u001b[39mbackward,\n\u001b[1;32m    619\u001b[0m         (\u001b[38;5;28mself\u001b[39m,),\n\u001b[0;32m   (...)\u001b[0m\n\u001b[1;32m    624\u001b[0m         inputs\u001b[38;5;241m=\u001b[39minputs,\n\u001b[1;32m    625\u001b[0m     )\n\u001b[0;32m--> 626\u001b[0m \u001b[43mtorch\u001b[49m\u001b[38;5;241;43m.\u001b[39;49m\u001b[43mautograd\u001b[49m\u001b[38;5;241;43m.\u001b[39;49m\u001b[43mbackward\u001b[49m\u001b[43m(\u001b[49m\n\u001b[1;32m    627\u001b[0m \u001b[43m    \u001b[49m\u001b[38;5;28;43mself\u001b[39;49m\u001b[43m,\u001b[49m\u001b[43m \u001b[49m\u001b[43mgradient\u001b[49m\u001b[43m,\u001b[49m\u001b[43m \u001b[49m\u001b[43mretain_graph\u001b[49m\u001b[43m,\u001b[49m\u001b[43m \u001b[49m\u001b[43mcreate_graph\u001b[49m\u001b[43m,\u001b[49m\u001b[43m \u001b[49m\u001b[43minputs\u001b[49m\u001b[38;5;241;43m=\u001b[39;49m\u001b[43minputs\u001b[49m\n\u001b[1;32m    628\u001b[0m \u001b[43m\u001b[49m\u001b[43m)\u001b[49m\n",
      "File \u001b[0;32m~/workspace/cas-rpm-2025-synthetic-data/.venv/lib/python3.12/site-packages/torch/autograd/__init__.py:347\u001b[0m, in \u001b[0;36mbackward\u001b[0;34m(tensors, grad_tensors, retain_graph, create_graph, grad_variables, inputs)\u001b[0m\n\u001b[1;32m    342\u001b[0m     retain_graph \u001b[38;5;241m=\u001b[39m create_graph\n\u001b[1;32m    344\u001b[0m \u001b[38;5;66;03m# The reason we repeat the same comment below is that\u001b[39;00m\n\u001b[1;32m    345\u001b[0m \u001b[38;5;66;03m# some Python versions print out the first line of a multi-line function\u001b[39;00m\n\u001b[1;32m    346\u001b[0m \u001b[38;5;66;03m# calls in the traceback and some print out the last line\u001b[39;00m\n\u001b[0;32m--> 347\u001b[0m \u001b[43m_engine_run_backward\u001b[49m\u001b[43m(\u001b[49m\n\u001b[1;32m    348\u001b[0m \u001b[43m    \u001b[49m\u001b[43mtensors\u001b[49m\u001b[43m,\u001b[49m\n\u001b[1;32m    349\u001b[0m \u001b[43m    \u001b[49m\u001b[43mgrad_tensors_\u001b[49m\u001b[43m,\u001b[49m\n\u001b[1;32m    350\u001b[0m \u001b[43m    \u001b[49m\u001b[43mretain_graph\u001b[49m\u001b[43m,\u001b[49m\n\u001b[1;32m    351\u001b[0m \u001b[43m    \u001b[49m\u001b[43mcreate_graph\u001b[49m\u001b[43m,\u001b[49m\n\u001b[1;32m    352\u001b[0m \u001b[43m    \u001b[49m\u001b[43minputs\u001b[49m\u001b[43m,\u001b[49m\n\u001b[1;32m    353\u001b[0m \u001b[43m    \u001b[49m\u001b[43mallow_unreachable\u001b[49m\u001b[38;5;241;43m=\u001b[39;49m\u001b[38;5;28;43;01mTrue\u001b[39;49;00m\u001b[43m,\u001b[49m\n\u001b[1;32m    354\u001b[0m \u001b[43m    \u001b[49m\u001b[43maccumulate_grad\u001b[49m\u001b[38;5;241;43m=\u001b[39;49m\u001b[38;5;28;43;01mTrue\u001b[39;49;00m\u001b[43m,\u001b[49m\n\u001b[1;32m    355\u001b[0m \u001b[43m\u001b[49m\u001b[43m)\u001b[49m\n",
      "File \u001b[0;32m~/workspace/cas-rpm-2025-synthetic-data/.venv/lib/python3.12/site-packages/torch/autograd/graph.py:823\u001b[0m, in \u001b[0;36m_engine_run_backward\u001b[0;34m(t_outputs, *args, **kwargs)\u001b[0m\n\u001b[1;32m    821\u001b[0m     unregister_hooks \u001b[38;5;241m=\u001b[39m _register_logging_hooks_on_whole_graph(t_outputs)\n\u001b[1;32m    822\u001b[0m \u001b[38;5;28;01mtry\u001b[39;00m:\n\u001b[0;32m--> 823\u001b[0m     \u001b[38;5;28;01mreturn\u001b[39;00m \u001b[43mVariable\u001b[49m\u001b[38;5;241;43m.\u001b[39;49m\u001b[43m_execution_engine\u001b[49m\u001b[38;5;241;43m.\u001b[39;49m\u001b[43mrun_backward\u001b[49m\u001b[43m(\u001b[49m\u001b[43m  \u001b[49m\u001b[38;5;66;43;03m# Calls into the C++ engine to run the backward pass\u001b[39;49;00m\n\u001b[1;32m    824\u001b[0m \u001b[43m        \u001b[49m\u001b[43mt_outputs\u001b[49m\u001b[43m,\u001b[49m\u001b[43m \u001b[49m\u001b[38;5;241;43m*\u001b[39;49m\u001b[43margs\u001b[49m\u001b[43m,\u001b[49m\u001b[43m \u001b[49m\u001b[38;5;241;43m*\u001b[39;49m\u001b[38;5;241;43m*\u001b[39;49m\u001b[43mkwargs\u001b[49m\n\u001b[1;32m    825\u001b[0m \u001b[43m    \u001b[49m\u001b[43m)\u001b[49m  \u001b[38;5;66;03m# Calls into the C++ engine to run the backward pass\u001b[39;00m\n\u001b[1;32m    826\u001b[0m \u001b[38;5;28;01mfinally\u001b[39;00m:\n\u001b[1;32m    827\u001b[0m     \u001b[38;5;28;01mif\u001b[39;00m attach_logging_hooks:\n",
      "\u001b[0;31mKeyboardInterrupt\u001b[0m: "
     ]
    }
   ],
   "source": [
    "# Train the GAN - keep track of the time to execute\n",
    "tstart = time.time()\n",
    "gen.fit(df)\n",
    "tend = time.time()\n",
    "duration = tend - tstart"
   ]
  },
  {
   "cell_type": "code",
   "execution_count": null,
   "metadata": {},
   "outputs": [
    {
     "name": "stderr",
     "output_type": "stream",
     "text": [
      "/home/nick16180/workspace/cas-rpm-2025-synthetic-data/.venv/lib/python3.12/site-packages/sdv/single_table/base.py:529: UserWarning:\n",
      "\n",
      "You are saving a synthesizer that has not yet been fitted. You will not be able to sample synthetic data without fitting. We recommend fitting the synthesizer first and then saving.\n",
      "\n"
     ]
    },
    {
     "name": "stdout",
     "output_type": "stream",
     "text": [
      "Time to fit: 288.82 min.\n"
     ]
    }
   ],
   "source": [
    "# save the results, plot the loss function, and print the time to train the GAN\n",
    "gen.save(ofolder / \"ctgan.pkl\")\n",
    "df_meta.save_to_json(ofolder / \"ctgan_metdata.json\")\n",
    "df.to_pickle(ofolder / \"real_df.pkl\")\n",
    "orig_df.to_pickle(ofolder / \"orig_df.pkl\")\n",
    "# units are seconds, so display minutes\n",
    "print(f\"Time to fit: {(duration / 60):.2f} min.\")"
   ]
  }
 ],
 "metadata": {
  "kernelspec": {
   "display_name": ".venv",
   "language": "python",
   "name": "python3"
  },
  "language_info": {
   "codemirror_mode": {
    "name": "ipython",
    "version": 3
   },
   "file_extension": ".py",
   "mimetype": "text/x-python",
   "name": "python",
   "nbconvert_exporter": "python",
   "pygments_lexer": "ipython3",
   "version": "3.12.3"
  }
 },
 "nbformat": 4,
 "nbformat_minor": 2
}
