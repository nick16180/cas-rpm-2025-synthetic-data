{
 "cells": [
  {
   "cell_type": "code",
   "execution_count": 18,
   "metadata": {},
   "outputs": [],
   "source": [
    "from sdv.evaluation.single_table import run_diagnostic, evaluate_quality\n",
    "from pathlib import Path\n",
    "import pandas as pd\n",
    "import pickle\n",
    "\n",
    "import plotly.io as pio\n",
    "\n",
    "pio.renderers.default = \"vscode\"\n",
    "\n",
    "PROJECT_ROOT = Path(__name__).resolve().parent.parent\n",
    "INPUT_FOLDER = PROJECT_ROOT / \"data/input\"\n",
    "OUTPUT_FOLDER = PROJECT_ROOT / \"data/output\"\n",
    "OUTPUT_FOLDER.mkdir(parents=True, exist_ok=True)\n"
   ]
  },
  {
   "cell_type": "code",
   "execution_count": 7,
   "metadata": {},
   "outputs": [],
   "source": [
    "# UCI Adult data\n",
    "# read the model, look at diagnostics, create some data\n",
    "ifolder = INPUT_FOLDER / \"UCI_adult\"\n",
    "ofolder = OUTPUT_FOLDER / \"UCI_adult\"\n",
    "gen = None\n",
    "with open(ofolder / \"ctgan.pkl\", \"rb\") as io:\n",
    "    gen = pickle.load(io)\n",
    "\n",
    "# get original data\n",
    "real_df = pd.read_csv(ifolder / \"adult.data\")\n",
    "# generate some fake data - as many rows as original\n",
    "fake_df = gen.sample(num_rows=real_df.shape[0])\n"
   ]
  },
  {
   "cell_type": "code",
   "execution_count": null,
   "metadata": {},
   "outputs": [],
   "source": [
    "# check loss function\n",
    "fig = gen.get_loss_values_plot()\n",
    "fig.show()"
   ]
  },
  {
   "cell_type": "code",
   "execution_count": null,
   "metadata": {},
   "outputs": [],
   "source": [
    "# check built in diagnostics\n",
    "gen_diagnostics = run_diagnostic(\n",
    "    real_data=real_df, synthetic_data=fake_df, metadata=gen.metadata\n",
    ")"
   ]
  },
  {
   "cell_type": "code",
   "execution_count": null,
   "metadata": {},
   "outputs": [],
   "source": [
    "print(gen_diagnostics.get_details(property_name=\"Data Validity\"))\n",
    "gen_diagnostics.get_visualization(property_name=\"Data Validity\")"
   ]
  },
  {
   "cell_type": "code",
   "execution_count": null,
   "metadata": {},
   "outputs": [],
   "source": [
    "# check built in quality\n",
    "gen_quality = evaluate_quality(\n",
    "    real_data=real_df, synthetic_data=fake_df, metadata=gen.metadata\n",
    ")"
   ]
  },
  {
   "cell_type": "code",
   "execution_count": null,
   "metadata": {},
   "outputs": [],
   "source": [
    "print(gen_quality.get_details(property_name=\"Column Shapes\"))\n",
    "print(gen_quality.get_details(property_name=\"Column Pair Trends\"))\n",
    "gen_quality.get_visualization(property_name=\"Column Shapes\")\n",
    "gen_quality.get_visualization(property_name=\"Column Pair Trends\")"
   ]
  },
  {
   "cell_type": "code",
   "execution_count": 30,
   "metadata": {},
   "outputs": [
    {
     "ename": "SamplingError",
     "evalue": "This synthesizer has not been fitted. Please fit your synthesizer first before sampling synthetic data.",
     "output_type": "error",
     "traceback": [
      "\u001b[0;31m---------------------------------------------------------------------------\u001b[0m",
      "\u001b[0;31mSamplingError\u001b[0m                             Traceback (most recent call last)",
      "Cell \u001b[0;32mIn[30], line 16\u001b[0m\n\u001b[1;32m     14\u001b[0m real_df \u001b[38;5;241m=\u001b[39m pd\u001b[38;5;241m.\u001b[39mconcat([df1, df2])\n\u001b[1;32m     15\u001b[0m \u001b[38;5;66;03m# generate some fake data - as many rows as original\u001b[39;00m\n\u001b[0;32m---> 16\u001b[0m fake_df \u001b[38;5;241m=\u001b[39m \u001b[43mgen\u001b[49m\u001b[38;5;241;43m.\u001b[39;49m\u001b[43msample\u001b[49m\u001b[43m(\u001b[49m\u001b[43mnum_rows\u001b[49m\u001b[38;5;241;43m=\u001b[39;49m\u001b[43mreal_df\u001b[49m\u001b[38;5;241;43m.\u001b[39;49m\u001b[43mshape\u001b[49m\u001b[43m[\u001b[49m\u001b[38;5;241;43m0\u001b[39;49m\u001b[43m]\u001b[49m\u001b[43m)\u001b[49m\n",
      "File \u001b[0;32m~/workspace/cas rpm 2025 synthetic data/.venv/lib/python3.12/site-packages/sdv/single_table/base.py:990\u001b[0m, in \u001b[0;36mBaseSingleTableSynthesizer.sample\u001b[0;34m(self, num_rows, max_tries_per_batch, batch_size, output_file_path)\u001b[0m\n\u001b[1;32m    972\u001b[0m \u001b[38;5;250m\u001b[39m\u001b[38;5;124;03m\"\"\"Sample rows from this table.\u001b[39;00m\n\u001b[1;32m    973\u001b[0m \n\u001b[1;32m    974\u001b[0m \u001b[38;5;124;03mArgs:\u001b[39;00m\n\u001b[0;32m   (...)\u001b[0m\n\u001b[1;32m    987\u001b[0m \u001b[38;5;124;03m        Sampled data.\u001b[39;00m\n\u001b[1;32m    988\u001b[0m \u001b[38;5;124;03m\"\"\"\u001b[39;00m\n\u001b[1;32m    989\u001b[0m \u001b[38;5;28;01mif\u001b[39;00m \u001b[38;5;129;01mnot\u001b[39;00m \u001b[38;5;28mself\u001b[39m\u001b[38;5;241m.\u001b[39m_fitted:\n\u001b[0;32m--> 990\u001b[0m     \u001b[38;5;28;01mraise\u001b[39;00m SamplingError(\n\u001b[1;32m    991\u001b[0m         \u001b[38;5;124m'\u001b[39m\u001b[38;5;124mThis synthesizer has not been fitted. Please fit your synthesizer first before\u001b[39m\u001b[38;5;124m'\u001b[39m\n\u001b[1;32m    992\u001b[0m         \u001b[38;5;124m'\u001b[39m\u001b[38;5;124m sampling synthetic data.\u001b[39m\u001b[38;5;124m'\u001b[39m\n\u001b[1;32m    993\u001b[0m     )\n\u001b[1;32m    995\u001b[0m sample_timestamp \u001b[38;5;241m=\u001b[39m datetime\u001b[38;5;241m.\u001b[39mdatetime\u001b[38;5;241m.\u001b[39mnow()\n\u001b[1;32m    996\u001b[0m has_constraints \u001b[38;5;241m=\u001b[39m \u001b[38;5;28mbool\u001b[39m(\u001b[38;5;28mself\u001b[39m\u001b[38;5;241m.\u001b[39m_data_processor\u001b[38;5;241m.\u001b[39m_constraints)\n",
      "\u001b[0;31mSamplingError\u001b[0m: This synthesizer has not been fitted. Please fit your synthesizer first before sampling synthetic data."
     ]
    }
   ],
   "source": [
    "# UCI winqeuality data\n",
    "# read the model, look at diagnostics, create some data\n",
    "ifolder = INPUT_FOLDER / \"UCI_winequality\"\n",
    "ofolder = OUTPUT_FOLDER / \"UCI_winequality\"\n",
    "gen = None\n",
    "with open(ofolder / \"ctgan.pkl\", \"rb\") as io:\n",
    "    gen = pickle.load(io)\n",
    "\n",
    "# get original data\n",
    "data_path = Path(ifolder / \"winequality-red.csv\")\n",
    "df1 = pd.read_csv(data_path, delimiter=\";\")\n",
    "data_path = Path(ifolder / \"winequality-white.csv\")\n",
    "df2 = pd.read_csv(data_path, delimiter=\";\")\n",
    "real_df = pd.concat([df1, df2])\n",
    "# generate some fake data - as many rows as original\n",
    "fake_df = gen.sample(num_rows=real_df.shape[0])\n"
   ]
  }
 ],
 "metadata": {
  "kernelspec": {
   "display_name": ".venv",
   "language": "python",
   "name": "python3"
  },
  "language_info": {
   "codemirror_mode": {
    "name": "ipython",
    "version": 3
   },
   "file_extension": ".py",
   "mimetype": "text/x-python",
   "name": "python",
   "nbconvert_exporter": "python",
   "pygments_lexer": "ipython3",
   "version": "3.12.3"
  }
 },
 "nbformat": 4,
 "nbformat_minor": 2
}
