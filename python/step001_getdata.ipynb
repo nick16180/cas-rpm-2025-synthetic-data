{
 "cells": [
  {
   "cell_type": "code",
   "execution_count": null,
   "metadata": {},
   "outputs": [],
   "source": [
    "import json\n",
    "import zipfile\n",
    "from pathlib import Path\n",
    "\n",
    "import requests\n",
    "\n",
    "PROJECT_ROOT = Path(__name__).resolve().parent.parent\n",
    "DATA_FOLDER = PROJECT_ROOT / \"data/input\"\n",
    "DATA_FOLDER.mkdir(parents=True, exist_ok=True)"
   ]
  },
  {
   "cell_type": "code",
   "execution_count": null,
   "metadata": {},
   "outputs": [],
   "source": [
    "url = \"https://www.fema.gov/api/open/v2/DisasterDeclarationsSummaries.json\"\n",
    "file = DATA_FOLDER / \"FEMA_DisasterDeclarationsSummaries.json\"\n",
    "\n",
    "resp = requests.get(url)\n",
    "with open(file, \"w+\") as io:\n",
    "    json.dump(resp.json(), io, indent=2)"
   ]
  },
  {
   "cell_type": "code",
   "execution_count": null,
   "metadata": {},
   "outputs": [],
   "source": [
    "url = \"https://www.kaggle.com/api/v1/datasets/download/mlg-ulb/creditcardfraud\"\n",
    "file = DATA_FOLDER / \"Kaggle_creditcardfraud.zip\"\n",
    "\n",
    "resp = requests.get(url)\n",
    "with open(file, \"wb\") as io:\n",
    "    for chunk in resp.iter_content(chunk_size=1024):\n",
    "        io.write(chunk)\n",
    "\n",
    "folder = DATA_FOLDER / file.stem\n",
    "z = zipfile.ZipFile(file)\n",
    "z.extractall(folder)\n",
    "z.close()"
   ]
  },
  {
   "cell_type": "code",
   "execution_count": null,
   "metadata": {},
   "outputs": [],
   "source": [
    "url = \"https://archive.ics.uci.edu/static/public/2/adult.zip\"\n",
    "file = DATA_FOLDER / \"UCI_adult.zip\"\n",
    "\n",
    "resp = requests.get(url)\n",
    "with open(file, \"wb\") as io:\n",
    "    for chunk in resp.iter_content(chunk_size=1024):\n",
    "        io.write(chunk)\n",
    "\n",
    "folder = DATA_FOLDER / file.stem\n",
    "z = zipfile.ZipFile(file)\n",
    "z.extractall(folder)\n",
    "z.close()"
   ]
  },
  {
   "cell_type": "code",
   "execution_count": null,
   "metadata": {},
   "outputs": [],
   "source": [
    "url = \"https://archive.ics.uci.edu/static/public/186/wine+quality.zip\"\n",
    "file = DATA_FOLDER / \"UCI_winequality.zip\"\n",
    "\n",
    "resp = requests.get(url)\n",
    "with open(file, \"wb\") as io:\n",
    "    for chunk in resp.iter_content(chunk_size=1024):\n",
    "        io.write(chunk)\n",
    "\n",
    "folder = DATA_FOLDER / file.stem\n",
    "z = zipfile.ZipFile(file)\n",
    "z.extractall(folder)\n",
    "z.close()"
   ]
  }
 ],
 "metadata": {
  "kernelspec": {
   "display_name": ".venv",
   "language": "python",
   "name": "python3"
  },
  "language_info": {
   "name": "python",
   "version": "3.12.3"
  }
 },
 "nbformat": 4,
 "nbformat_minor": 2
}
