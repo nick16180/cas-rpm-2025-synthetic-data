{
 "cells": [
  {
   "cell_type": "code",
   "execution_count": 12,
   "metadata": {},
   "outputs": [],
   "source": [
    "import pickle\n",
    "from pathlib import Path\n",
    "\n",
    "import numpy as np\n",
    "import pandas as pd\n",
    "import plotly.io as pio\n",
    "from sdv.evaluation.single_table import (\n",
    "    evaluate_quality,\n",
    "    get_column_plot,\n",
    "    run_diagnostic,\n",
    ")\n",
    "\n",
    "pio.renderers.default = \"vscode\"\n",
    "\n",
    "PROJECT_ROOT = Path(__name__).resolve().parent.parent.parent\n",
    "INPUT_FOLDER = PROJECT_ROOT / \"data/input\"\n",
    "OUTPUT_FOLDER = PROJECT_ROOT / \"data/output\"\n",
    "OUTPUT_FOLDER.mkdir(parents=True, exist_ok=True)"
   ]
  },
  {
   "cell_type": "code",
   "execution_count": 13,
   "metadata": {},
   "outputs": [],
   "source": [
    "# Kaggle credit card fraud data\n",
    "# Read the model, look at diagnostics, create some data\n",
    "ifolder = INPUT_FOLDER / \"UCI_adult\"\n",
    "ofolder = OUTPUT_FOLDER / \"UCI_adult\"\n",
    "gen = None\n",
    "with open(ofolder / \"ctgan.pkl\", \"rb\") as io:\n",
    "    gen = pickle.load(io)\n",
    "\n",
    "# Get original data\n",
    "real_df = pd.read_pickle(ofolder / \"real_df.pkl\")\n",
    "# Generate some fake data\n",
    "fake_df = gen.sample(num_rows=real_df.shape[0])"
   ]
  },
  {
   "cell_type": "code",
   "execution_count": 14,
   "metadata": {},
   "outputs": [
    {
     "data": {
      "application/vnd.plotly.v1+json": {
       "config": {
        "plotlyServerURL": "https://plot.ly"
       },
       "data": [
        {
         "hovertemplate": "variable=Generator Loss<br>Epoch=%{x}<br>value=%{y}<extra></extra>",
         "legendgroup": "Generator Loss",
         "line": {
          "color": "#000036",
          "dash": "solid"
         },
         "marker": {
          "symbol": "circle"
         },
         "mode": "lines",
         "name": "Generator Loss",
         "orientation": "v",
         "showlegend": true,
         "type": "scatter",
         "x": {
          "bdata": "AAABAAIAAwAEAAUABgAHAAgACQAKAAsADAANAA4ADwAQABEAEgATABQAFQAWABcAGAAZABoAGwAcAB0AHgAfACAAIQAiACMAJAAlACYAJwAoACkAKgArACwALQAuAC8AMAAxADIAMwA0ADUANgA3ADgAOQA6ADsAPAA9AD4APwBAAEEAQgBDAEQARQBGAEcASABJAEoASwBMAE0ATgBPAFAAUQBSAFMAVABVAFYAVwBYAFkAWgBbAFwAXQBeAF8AYABhAGIAYwBkAGUAZgBnAGgAaQBqAGsAbABtAG4AbwBwAHEAcgBzAHQAdQB2AHcAeAB5AHoAewB8AH0AfgB/AIAAgQCCAIMAhACFAIYAhwCIAIkAigCLAIwAjQCOAI8AkACRAJIAkwCUAJUAlgCXAJgAmQCaAJsAnACdAJ4AnwCgAKEAogCjAKQApQCmAKcAqACpAKoAqwCsAK0ArgCvALAAsQCyALMAtAC1ALYAtwC4ALkAugC7ALwAvQC+AL8AwADBAMIAwwDEAMUAxgDHAMgAyQDKAMsAzADNAM4AzwDQANEA0gDTANQA1QDWANcA2ADZANoA2wDcAN0A3gDfAOAA4QDiAOMA5ADlAOYA5wDoAOkA6gDrAOwA7QDuAO8A8ADxAPIA8wD0APUA9gD3APgA+QD6APsA/AD9AP4A/wAAAQEBAgEDAQQBBQEGAQcBCAEJAQoBCwEMAQ0BDgEPARABEQESARMBFAEVARYBFwEYARkBGgEbARwBHQEeAR8BIAEhASIBIwEkASUBJgEnASgBKQEqASsBLAEtAS4BLwEwATEBMgEzATQBNQE2ATcBOAE5AToBOwE8AT0BPgE/AUABQQFCAUMBRAFFAUYBRwFIAUkBSgFLAUwBTQFOAU8BUAFRAVIBUwFUAVUBVgFXAVgBWQFaAVsBXAFdAV4BXwFgAWEBYgFjAWQBZQFmAWcBaAFpAWoBawFsAW0BbgFvAXABcQFyAXMBdAF1AXYBdwF4AXkBegF7AXwBfQF+AX8BgAGBAYIBgwGEAYUBhgGHAYgBiQGKAYsBjAGNAY4BjwGQAZEBkgGTAZQBlQGWAZcBmAGZAZoBmwGcAZ0BngGfAaABoQGiAaMBpAGlAaYBpwGoAakBqgGrAawBrQGuAa8BsAGxAbIBswG0AbUBtgG3AbgBuQG6AbsBvAG9Ab4BvwHAAcEBwgHDAcQBxQHGAccByAHJAcoBywHMAc0BzgHPAdAB0QHSAdMB1AHVAdYB1wHYAdkB2gHbAdwB3QHeAd8B4AHhAeIB4wHkAeUB5gHnAegB6QHqAesB7AHtAe4B7wHwAfEB8gHzAQ==",
          "dtype": "i2"
         },
         "xaxis": "x",
         "y": {
          "bdata": "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",
          "dtype": "f8"
         },
         "yaxis": "y"
        },
        {
         "hovertemplate": "variable=Discriminator Loss<br>Epoch=%{x}<br>value=%{y}<extra></extra>",
         "legendgroup": "Discriminator Loss",
         "line": {
          "color": "#01E0C9",
          "dash": "solid"
         },
         "marker": {
          "symbol": "circle"
         },
         "mode": "lines",
         "name": "Discriminator Loss",
         "orientation": "v",
         "showlegend": true,
         "type": "scatter",
         "x": {
          "bdata": "AAABAAIAAwAEAAUABgAHAAgACQAKAAsADAANAA4ADwAQABEAEgATABQAFQAWABcAGAAZABoAGwAcAB0AHgAfACAAIQAiACMAJAAlACYAJwAoACkAKgArACwALQAuAC8AMAAxADIAMwA0ADUANgA3ADgAOQA6ADsAPAA9AD4APwBAAEEAQgBDAEQARQBGAEcASABJAEoASwBMAE0ATgBPAFAAUQBSAFMAVABVAFYAVwBYAFkAWgBbAFwAXQBeAF8AYABhAGIAYwBkAGUAZgBnAGgAaQBqAGsAbABtAG4AbwBwAHEAcgBzAHQAdQB2AHcAeAB5AHoAewB8AH0AfgB/AIAAgQCCAIMAhACFAIYAhwCIAIkAigCLAIwAjQCOAI8AkACRAJIAkwCUAJUAlgCXAJgAmQCaAJsAnACdAJ4AnwCgAKEAogCjAKQApQCmAKcAqACpAKoAqwCsAK0ArgCvALAAsQCyALMAtAC1ALYAtwC4ALkAugC7ALwAvQC+AL8AwADBAMIAwwDEAMUAxgDHAMgAyQDKAMsAzADNAM4AzwDQANEA0gDTANQA1QDWANcA2ADZANoA2wDcAN0A3gDfAOAA4QDiAOMA5ADlAOYA5wDoAOkA6gDrAOwA7QDuAO8A8ADxAPIA8wD0APUA9gD3APgA+QD6APsA/AD9AP4A/wAAAQEBAgEDAQQBBQEGAQcBCAEJAQoBCwEMAQ0BDgEPARABEQESARMBFAEVARYBFwEYARkBGgEbARwBHQEeAR8BIAEhASIBIwEkASUBJgEnASgBKQEqASsBLAEtAS4BLwEwATEBMgEzATQBNQE2ATcBOAE5AToBOwE8AT0BPgE/AUABQQFCAUMBRAFFAUYBRwFIAUkBSgFLAUwBTQFOAU8BUAFRAVIBUwFUAVUBVgFXAVgBWQFaAVsBXAFdAV4BXwFgAWEBYgFjAWQBZQFmAWcBaAFpAWoBawFsAW0BbgFvAXABcQFyAXMBdAF1AXYBdwF4AXkBegF7AXwBfQF+AX8BgAGBAYIBgwGEAYUBhgGHAYgBiQGKAYsBjAGNAY4BjwGQAZEBkgGTAZQBlQGWAZcBmAGZAZoBmwGcAZ0BngGfAaABoQGiAaMBpAGlAaYBpwGoAakBqgGrAawBrQGuAa8BsAGxAbIBswG0AbUBtgG3AbgBuQG6AbsBvAG9Ab4BvwHAAcEBwgHDAcQBxQHGAccByAHJAcoBywHMAc0BzgHPAdAB0QHSAdMB1AHVAdYB1wHYAdkB2gHbAdwB3QHeAd8B4AHhAeIB4wHkAeUB5gHnAegB6QHqAesB7AHtAe4B7wHwAfEB8gHzAQ==",
          "dtype": "i2"
         },
         "xaxis": "x",
         "y": {
          "bdata": "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",
          "dtype": "f8"
         },
         "yaxis": "y"
        }
       ],
       "layout": {
        "font": {
         "size": 18
        },
        "legend": {
         "orientation": "v",
         "title": {
          "text": ""
         },
         "tracegroupgap": 0
        },
        "margin": {
         "t": 60
        },
        "plot_bgcolor": "#F5F5F8",
        "template": {
         "data": {
          "bar": [
           {
            "error_x": {
             "color": "#2a3f5f"
            },
            "error_y": {
             "color": "#2a3f5f"
            },
            "marker": {
             "line": {
              "color": "white",
              "width": 0.5
             },
             "pattern": {
              "fillmode": "overlay",
              "size": 10,
              "solidity": 0.2
             }
            },
            "type": "bar"
           }
          ],
          "barpolar": [
           {
            "marker": {
             "line": {
              "color": "white",
              "width": 0.5
             },
             "pattern": {
              "fillmode": "overlay",
              "size": 10,
              "solidity": 0.2
             }
            },
            "type": "barpolar"
           }
          ],
          "carpet": [
           {
            "aaxis": {
             "endlinecolor": "#2a3f5f",
             "gridcolor": "#C8D4E3",
             "linecolor": "#C8D4E3",
             "minorgridcolor": "#C8D4E3",
             "startlinecolor": "#2a3f5f"
            },
            "baxis": {
             "endlinecolor": "#2a3f5f",
             "gridcolor": "#C8D4E3",
             "linecolor": "#C8D4E3",
             "minorgridcolor": "#C8D4E3",
             "startlinecolor": "#2a3f5f"
            },
            "type": "carpet"
           }
          ],
          "choropleth": [
           {
            "colorbar": {
             "outlinewidth": 0,
             "ticks": ""
            },
            "type": "choropleth"
           }
          ],
          "contour": [
           {
            "colorbar": {
             "outlinewidth": 0,
             "ticks": ""
            },
            "colorscale": [
             [
              0,
              "#0d0887"
             ],
             [
              0.1111111111111111,
              "#46039f"
             ],
             [
              0.2222222222222222,
              "#7201a8"
             ],
             [
              0.3333333333333333,
              "#9c179e"
             ],
             [
              0.4444444444444444,
              "#bd3786"
             ],
             [
              0.5555555555555556,
              "#d8576b"
             ],
             [
              0.6666666666666666,
              "#ed7953"
             ],
             [
              0.7777777777777778,
              "#fb9f3a"
             ],
             [
              0.8888888888888888,
              "#fdca26"
             ],
             [
              1,
              "#f0f921"
             ]
            ],
            "type": "contour"
           }
          ],
          "contourcarpet": [
           {
            "colorbar": {
             "outlinewidth": 0,
             "ticks": ""
            },
            "type": "contourcarpet"
           }
          ],
          "heatmap": [
           {
            "colorbar": {
             "outlinewidth": 0,
             "ticks": ""
            },
            "colorscale": [
             [
              0,
              "#0d0887"
             ],
             [
              0.1111111111111111,
              "#46039f"
             ],
             [
              0.2222222222222222,
              "#7201a8"
             ],
             [
              0.3333333333333333,
              "#9c179e"
             ],
             [
              0.4444444444444444,
              "#bd3786"
             ],
             [
              0.5555555555555556,
              "#d8576b"
             ],
             [
              0.6666666666666666,
              "#ed7953"
             ],
             [
              0.7777777777777778,
              "#fb9f3a"
             ],
             [
              0.8888888888888888,
              "#fdca26"
             ],
             [
              1,
              "#f0f921"
             ]
            ],
            "type": "heatmap"
           }
          ],
          "histogram": [
           {
            "marker": {
             "pattern": {
              "fillmode": "overlay",
              "size": 10,
              "solidity": 0.2
             }
            },
            "type": "histogram"
           }
          ],
          "histogram2d": [
           {
            "colorbar": {
             "outlinewidth": 0,
             "ticks": ""
            },
            "colorscale": [
             [
              0,
              "#0d0887"
             ],
             [
              0.1111111111111111,
              "#46039f"
             ],
             [
              0.2222222222222222,
              "#7201a8"
             ],
             [
              0.3333333333333333,
              "#9c179e"
             ],
             [
              0.4444444444444444,
              "#bd3786"
             ],
             [
              0.5555555555555556,
              "#d8576b"
             ],
             [
              0.6666666666666666,
              "#ed7953"
             ],
             [
              0.7777777777777778,
              "#fb9f3a"
             ],
             [
              0.8888888888888888,
              "#fdca26"
             ],
             [
              1,
              "#f0f921"
             ]
            ],
            "type": "histogram2d"
           }
          ],
          "histogram2dcontour": [
           {
            "colorbar": {
             "outlinewidth": 0,
             "ticks": ""
            },
            "colorscale": [
             [
              0,
              "#0d0887"
             ],
             [
              0.1111111111111111,
              "#46039f"
             ],
             [
              0.2222222222222222,
              "#7201a8"
             ],
             [
              0.3333333333333333,
              "#9c179e"
             ],
             [
              0.4444444444444444,
              "#bd3786"
             ],
             [
              0.5555555555555556,
              "#d8576b"
             ],
             [
              0.6666666666666666,
              "#ed7953"
             ],
             [
              0.7777777777777778,
              "#fb9f3a"
             ],
             [
              0.8888888888888888,
              "#fdca26"
             ],
             [
              1,
              "#f0f921"
             ]
            ],
            "type": "histogram2dcontour"
           }
          ],
          "mesh3d": [
           {
            "colorbar": {
             "outlinewidth": 0,
             "ticks": ""
            },
            "type": "mesh3d"
           }
          ],
          "parcoords": [
           {
            "line": {
             "colorbar": {
              "outlinewidth": 0,
              "ticks": ""
             }
            },
            "type": "parcoords"
           }
          ],
          "pie": [
           {
            "automargin": true,
            "type": "pie"
           }
          ],
          "scatter": [
           {
            "fillpattern": {
             "fillmode": "overlay",
             "size": 10,
             "solidity": 0.2
            },
            "type": "scatter"
           }
          ],
          "scatter3d": [
           {
            "line": {
             "colorbar": {
              "outlinewidth": 0,
              "ticks": ""
             }
            },
            "marker": {
             "colorbar": {
              "outlinewidth": 0,
              "ticks": ""
             }
            },
            "type": "scatter3d"
           }
          ],
          "scattercarpet": [
           {
            "marker": {
             "colorbar": {
              "outlinewidth": 0,
              "ticks": ""
             }
            },
            "type": "scattercarpet"
           }
          ],
          "scattergeo": [
           {
            "marker": {
             "colorbar": {
              "outlinewidth": 0,
              "ticks": ""
             }
            },
            "type": "scattergeo"
           }
          ],
          "scattergl": [
           {
            "marker": {
             "colorbar": {
              "outlinewidth": 0,
              "ticks": ""
             }
            },
            "type": "scattergl"
           }
          ],
          "scattermap": [
           {
            "marker": {
             "colorbar": {
              "outlinewidth": 0,
              "ticks": ""
             }
            },
            "type": "scattermap"
           }
          ],
          "scattermapbox": [
           {
            "marker": {
             "colorbar": {
              "outlinewidth": 0,
              "ticks": ""
             }
            },
            "type": "scattermapbox"
           }
          ],
          "scatterpolar": [
           {
            "marker": {
             "colorbar": {
              "outlinewidth": 0,
              "ticks": ""
             }
            },
            "type": "scatterpolar"
           }
          ],
          "scatterpolargl": [
           {
            "marker": {
             "colorbar": {
              "outlinewidth": 0,
              "ticks": ""
             }
            },
            "type": "scatterpolargl"
           }
          ],
          "scatterternary": [
           {
            "marker": {
             "colorbar": {
              "outlinewidth": 0,
              "ticks": ""
             }
            },
            "type": "scatterternary"
           }
          ],
          "surface": [
           {
            "colorbar": {
             "outlinewidth": 0,
             "ticks": ""
            },
            "colorscale": [
             [
              0,
              "#0d0887"
             ],
             [
              0.1111111111111111,
              "#46039f"
             ],
             [
              0.2222222222222222,
              "#7201a8"
             ],
             [
              0.3333333333333333,
              "#9c179e"
             ],
             [
              0.4444444444444444,
              "#bd3786"
             ],
             [
              0.5555555555555556,
              "#d8576b"
             ],
             [
              0.6666666666666666,
              "#ed7953"
             ],
             [
              0.7777777777777778,
              "#fb9f3a"
             ],
             [
              0.8888888888888888,
              "#fdca26"
             ],
             [
              1,
              "#f0f921"
             ]
            ],
            "type": "surface"
           }
          ],
          "table": [
           {
            "cells": {
             "fill": {
              "color": "#EBF0F8"
             },
             "line": {
              "color": "white"
             }
            },
            "header": {
             "fill": {
              "color": "#C8D4E3"
             },
             "line": {
              "color": "white"
             }
            },
            "type": "table"
           }
          ]
         },
         "layout": {
          "annotationdefaults": {
           "arrowcolor": "#2a3f5f",
           "arrowhead": 0,
           "arrowwidth": 1
          },
          "autotypenumbers": "strict",
          "coloraxis": {
           "colorbar": {
            "outlinewidth": 0,
            "ticks": ""
           }
          },
          "colorscale": {
           "diverging": [
            [
             0,
             "#8e0152"
            ],
            [
             0.1,
             "#c51b7d"
            ],
            [
             0.2,
             "#de77ae"
            ],
            [
             0.3,
             "#f1b6da"
            ],
            [
             0.4,
             "#fde0ef"
            ],
            [
             0.5,
             "#f7f7f7"
            ],
            [
             0.6,
             "#e6f5d0"
            ],
            [
             0.7,
             "#b8e186"
            ],
            [
             0.8,
             "#7fbc41"
            ],
            [
             0.9,
             "#4d9221"
            ],
            [
             1,
             "#276419"
            ]
           ],
           "sequential": [
            [
             0,
             "#0d0887"
            ],
            [
             0.1111111111111111,
             "#46039f"
            ],
            [
             0.2222222222222222,
             "#7201a8"
            ],
            [
             0.3333333333333333,
             "#9c179e"
            ],
            [
             0.4444444444444444,
             "#bd3786"
            ],
            [
             0.5555555555555556,
             "#d8576b"
            ],
            [
             0.6666666666666666,
             "#ed7953"
            ],
            [
             0.7777777777777778,
             "#fb9f3a"
            ],
            [
             0.8888888888888888,
             "#fdca26"
            ],
            [
             1,
             "#f0f921"
            ]
           ],
           "sequentialminus": [
            [
             0,
             "#0d0887"
            ],
            [
             0.1111111111111111,
             "#46039f"
            ],
            [
             0.2222222222222222,
             "#7201a8"
            ],
            [
             0.3333333333333333,
             "#9c179e"
            ],
            [
             0.4444444444444444,
             "#bd3786"
            ],
            [
             0.5555555555555556,
             "#d8576b"
            ],
            [
             0.6666666666666666,
             "#ed7953"
            ],
            [
             0.7777777777777778,
             "#fb9f3a"
            ],
            [
             0.8888888888888888,
             "#fdca26"
            ],
            [
             1,
             "#f0f921"
            ]
           ]
          },
          "colorway": [
           "#636efa",
           "#EF553B",
           "#00cc96",
           "#ab63fa",
           "#FFA15A",
           "#19d3f3",
           "#FF6692",
           "#B6E880",
           "#FF97FF",
           "#FECB52"
          ],
          "font": {
           "color": "#2a3f5f"
          },
          "geo": {
           "bgcolor": "white",
           "lakecolor": "white",
           "landcolor": "white",
           "showlakes": true,
           "showland": true,
           "subunitcolor": "#C8D4E3"
          },
          "hoverlabel": {
           "align": "left"
          },
          "hovermode": "closest",
          "mapbox": {
           "style": "light"
          },
          "paper_bgcolor": "white",
          "plot_bgcolor": "white",
          "polar": {
           "angularaxis": {
            "gridcolor": "#EBF0F8",
            "linecolor": "#EBF0F8",
            "ticks": ""
           },
           "bgcolor": "white",
           "radialaxis": {
            "gridcolor": "#EBF0F8",
            "linecolor": "#EBF0F8",
            "ticks": ""
           }
          },
          "scene": {
           "xaxis": {
            "backgroundcolor": "white",
            "gridcolor": "#DFE8F3",
            "gridwidth": 2,
            "linecolor": "#EBF0F8",
            "showbackground": true,
            "ticks": "",
            "zerolinecolor": "#EBF0F8"
           },
           "yaxis": {
            "backgroundcolor": "white",
            "gridcolor": "#DFE8F3",
            "gridwidth": 2,
            "linecolor": "#EBF0F8",
            "showbackground": true,
            "ticks": "",
            "zerolinecolor": "#EBF0F8"
           },
           "zaxis": {
            "backgroundcolor": "white",
            "gridcolor": "#DFE8F3",
            "gridwidth": 2,
            "linecolor": "#EBF0F8",
            "showbackground": true,
            "ticks": "",
            "zerolinecolor": "#EBF0F8"
           }
          },
          "shapedefaults": {
           "line": {
            "color": "#2a3f5f"
           }
          },
          "ternary": {
           "aaxis": {
            "gridcolor": "#DFE8F3",
            "linecolor": "#A2B1C6",
            "ticks": ""
           },
           "baxis": {
            "gridcolor": "#DFE8F3",
            "linecolor": "#A2B1C6",
            "ticks": ""
           },
           "bgcolor": "white",
           "caxis": {
            "gridcolor": "#DFE8F3",
            "linecolor": "#A2B1C6",
            "ticks": ""
           }
          },
          "title": {
           "x": 0.05
          },
          "xaxis": {
           "automargin": true,
           "gridcolor": "#EBF0F8",
           "linecolor": "#EBF0F8",
           "ticks": "",
           "title": {
            "standoff": 15
           },
           "zerolinecolor": "#EBF0F8",
           "zerolinewidth": 2
          },
          "yaxis": {
           "automargin": true,
           "gridcolor": "#EBF0F8",
           "linecolor": "#EBF0F8",
           "ticks": "",
           "title": {
            "standoff": 15
           },
           "zerolinecolor": "#EBF0F8",
           "zerolinewidth": 2
          }
         }
        },
        "title": {
         "text": "CTGAN loss function"
        },
        "xaxis": {
         "anchor": "y",
         "domain": [
          0,
          1
         ],
         "title": {
          "text": "Epoch"
         }
        },
        "yaxis": {
         "anchor": "x",
         "domain": [
          0,
          1
         ],
         "title": {
          "text": "Loss"
         }
        }
       }
      }
     },
     "metadata": {},
     "output_type": "display_data"
    }
   ],
   "source": [
    "# Check loss function\n",
    "gen.get_loss_values_plot().show()"
   ]
  },
  {
   "cell_type": "code",
   "execution_count": 15,
   "metadata": {},
   "outputs": [
    {
     "name": "stdout",
     "output_type": "stream",
     "text": [
      "Generating report ...\n",
      "\n",
      "\n",
      "\u001b[A\n",
      "(1/2) Evaluating Data Validity: |██████████| 16/16 [00:00<00:00, 206.66it/s]|\n",
      "Data Validity Score: 100.0%\n",
      "\n",
      "\n",
      "\u001b[A\n",
      "(2/2) Evaluating Data Structure: |██████████| 1/1 [00:00<00:00, 330.89it/s]|\n",
      "Data Structure Score: 100.0%\n",
      "\n",
      "Overall Score (Average): 100.0%\n",
      "\n"
     ]
    }
   ],
   "source": [
    "# Check built in diagnostics\n",
    "gen_diagnostics = run_diagnostic(\n",
    "    real_data=real_df, synthetic_data=fake_df, metadata=gen.get_metadata()\n",
    ")"
   ]
  },
  {
   "cell_type": "code",
   "execution_count": 16,
   "metadata": {},
   "outputs": [
    {
     "data": {
      "application/vnd.plotly.v1+json": {
       "config": {
        "plotlyServerURL": "https://plot.ly"
       },
       "data": [
        {
         "customdata": [
          [
           "BoundaryAdherence"
          ],
          [
           "BoundaryAdherence"
          ],
          [
           "BoundaryAdherence"
          ],
          [
           "BoundaryAdherence"
          ],
          [
           "BoundaryAdherence"
          ],
          [
           "BoundaryAdherence"
          ]
         ],
         "hovertemplate": "<b>%{hovertext}</b><br><br>Metric=%{customdata[0]}<br>Score=%{y}<extra></extra>",
         "hovertext": [
          "age",
          "fnlwgt",
          "education_num",
          "capital_gain",
          "capital_loss",
          "minutes_per_week"
         ],
         "legendgroup": "BoundaryAdherence",
         "marker": {
          "color": "#000036",
          "pattern": {
           "shape": ""
          }
         },
         "name": "BoundaryAdherence",
         "orientation": "v",
         "showlegend": true,
         "textposition": "auto",
         "type": "bar",
         "x": [
          "age",
          "fnlwgt",
          "education_num",
          "capital_gain",
          "capital_loss",
          "minutes_per_week"
         ],
         "xaxis": "x",
         "y": {
          "bdata": "AAAAAAAA8D8AAAAAAADwPwAAAAAAAPA/AAAAAAAA8D8AAAAAAADwPwAAAAAAAPA/",
          "dtype": "f8"
         },
         "yaxis": "y"
        },
        {
         "customdata": [
          [
           "CategoryAdherence"
          ],
          [
           "CategoryAdherence"
          ],
          [
           "CategoryAdherence"
          ],
          [
           "CategoryAdherence"
          ],
          [
           "CategoryAdherence"
          ],
          [
           "CategoryAdherence"
          ],
          [
           "CategoryAdherence"
          ],
          [
           "CategoryAdherence"
          ],
          [
           "CategoryAdherence"
          ],
          [
           "CategoryAdherence"
          ]
         ],
         "hovertemplate": "<b>%{hovertext}</b><br><br>Metric=%{customdata[0]}<br>Score=%{y}<extra></extra>",
         "hovertext": [
          "workclass",
          "education",
          "marital_status",
          "occupation",
          "relationship",
          "race",
          "sex",
          "native_country",
          "Income_Category",
          "rand10"
         ],
         "legendgroup": "CategoryAdherence",
         "marker": {
          "color": "#03AFF1",
          "pattern": {
           "shape": "/"
          }
         },
         "name": "CategoryAdherence",
         "orientation": "v",
         "showlegend": true,
         "textposition": "auto",
         "type": "bar",
         "x": [
          "workclass",
          "education",
          "marital_status",
          "occupation",
          "relationship",
          "race",
          "sex",
          "native_country",
          "Income_Category",
          "rand10"
         ],
         "xaxis": "x",
         "y": {
          "bdata": "AAAAAAAA8D8AAAAAAADwPwAAAAAAAPA/AAAAAAAA8D8AAAAAAADwPwAAAAAAAPA/AAAAAAAA8D8AAAAAAADwPwAAAAAAAPA/AAAAAAAA8D8=",
          "dtype": "f8"
         },
         "yaxis": "y"
        }
       ],
       "layout": {
        "barmode": "relative",
        "font": {
         "size": 18
        },
        "legend": {
         "title": {
          "text": "Metric"
         },
         "tracegroupgap": 0
        },
        "margin": {
         "t": 150
        },
        "plot_bgcolor": "#F5F5F8",
        "template": {
         "data": {
          "bar": [
           {
            "error_x": {
             "color": "#2a3f5f"
            },
            "error_y": {
             "color": "#2a3f5f"
            },
            "marker": {
             "line": {
              "color": "#E5ECF6",
              "width": 0.5
             },
             "pattern": {
              "fillmode": "overlay",
              "size": 10,
              "solidity": 0.2
             }
            },
            "type": "bar"
           }
          ],
          "barpolar": [
           {
            "marker": {
             "line": {
              "color": "#E5ECF6",
              "width": 0.5
             },
             "pattern": {
              "fillmode": "overlay",
              "size": 10,
              "solidity": 0.2
             }
            },
            "type": "barpolar"
           }
          ],
          "carpet": [
           {
            "aaxis": {
             "endlinecolor": "#2a3f5f",
             "gridcolor": "white",
             "linecolor": "white",
             "minorgridcolor": "white",
             "startlinecolor": "#2a3f5f"
            },
            "baxis": {
             "endlinecolor": "#2a3f5f",
             "gridcolor": "white",
             "linecolor": "white",
             "minorgridcolor": "white",
             "startlinecolor": "#2a3f5f"
            },
            "type": "carpet"
           }
          ],
          "choropleth": [
           {
            "colorbar": {
             "outlinewidth": 0,
             "ticks": ""
            },
            "type": "choropleth"
           }
          ],
          "contour": [
           {
            "colorbar": {
             "outlinewidth": 0,
             "ticks": ""
            },
            "colorscale": [
             [
              0,
              "#0d0887"
             ],
             [
              0.1111111111111111,
              "#46039f"
             ],
             [
              0.2222222222222222,
              "#7201a8"
             ],
             [
              0.3333333333333333,
              "#9c179e"
             ],
             [
              0.4444444444444444,
              "#bd3786"
             ],
             [
              0.5555555555555556,
              "#d8576b"
             ],
             [
              0.6666666666666666,
              "#ed7953"
             ],
             [
              0.7777777777777778,
              "#fb9f3a"
             ],
             [
              0.8888888888888888,
              "#fdca26"
             ],
             [
              1,
              "#f0f921"
             ]
            ],
            "type": "contour"
           }
          ],
          "contourcarpet": [
           {
            "colorbar": {
             "outlinewidth": 0,
             "ticks": ""
            },
            "type": "contourcarpet"
           }
          ],
          "heatmap": [
           {
            "colorbar": {
             "outlinewidth": 0,
             "ticks": ""
            },
            "colorscale": [
             [
              0,
              "#0d0887"
             ],
             [
              0.1111111111111111,
              "#46039f"
             ],
             [
              0.2222222222222222,
              "#7201a8"
             ],
             [
              0.3333333333333333,
              "#9c179e"
             ],
             [
              0.4444444444444444,
              "#bd3786"
             ],
             [
              0.5555555555555556,
              "#d8576b"
             ],
             [
              0.6666666666666666,
              "#ed7953"
             ],
             [
              0.7777777777777778,
              "#fb9f3a"
             ],
             [
              0.8888888888888888,
              "#fdca26"
             ],
             [
              1,
              "#f0f921"
             ]
            ],
            "type": "heatmap"
           }
          ],
          "histogram": [
           {
            "marker": {
             "pattern": {
              "fillmode": "overlay",
              "size": 10,
              "solidity": 0.2
             }
            },
            "type": "histogram"
           }
          ],
          "histogram2d": [
           {
            "colorbar": {
             "outlinewidth": 0,
             "ticks": ""
            },
            "colorscale": [
             [
              0,
              "#0d0887"
             ],
             [
              0.1111111111111111,
              "#46039f"
             ],
             [
              0.2222222222222222,
              "#7201a8"
             ],
             [
              0.3333333333333333,
              "#9c179e"
             ],
             [
              0.4444444444444444,
              "#bd3786"
             ],
             [
              0.5555555555555556,
              "#d8576b"
             ],
             [
              0.6666666666666666,
              "#ed7953"
             ],
             [
              0.7777777777777778,
              "#fb9f3a"
             ],
             [
              0.8888888888888888,
              "#fdca26"
             ],
             [
              1,
              "#f0f921"
             ]
            ],
            "type": "histogram2d"
           }
          ],
          "histogram2dcontour": [
           {
            "colorbar": {
             "outlinewidth": 0,
             "ticks": ""
            },
            "colorscale": [
             [
              0,
              "#0d0887"
             ],
             [
              0.1111111111111111,
              "#46039f"
             ],
             [
              0.2222222222222222,
              "#7201a8"
             ],
             [
              0.3333333333333333,
              "#9c179e"
             ],
             [
              0.4444444444444444,
              "#bd3786"
             ],
             [
              0.5555555555555556,
              "#d8576b"
             ],
             [
              0.6666666666666666,
              "#ed7953"
             ],
             [
              0.7777777777777778,
              "#fb9f3a"
             ],
             [
              0.8888888888888888,
              "#fdca26"
             ],
             [
              1,
              "#f0f921"
             ]
            ],
            "type": "histogram2dcontour"
           }
          ],
          "mesh3d": [
           {
            "colorbar": {
             "outlinewidth": 0,
             "ticks": ""
            },
            "type": "mesh3d"
           }
          ],
          "parcoords": [
           {
            "line": {
             "colorbar": {
              "outlinewidth": 0,
              "ticks": ""
             }
            },
            "type": "parcoords"
           }
          ],
          "pie": [
           {
            "automargin": true,
            "type": "pie"
           }
          ],
          "scatter": [
           {
            "fillpattern": {
             "fillmode": "overlay",
             "size": 10,
             "solidity": 0.2
            },
            "type": "scatter"
           }
          ],
          "scatter3d": [
           {
            "line": {
             "colorbar": {
              "outlinewidth": 0,
              "ticks": ""
             }
            },
            "marker": {
             "colorbar": {
              "outlinewidth": 0,
              "ticks": ""
             }
            },
            "type": "scatter3d"
           }
          ],
          "scattercarpet": [
           {
            "marker": {
             "colorbar": {
              "outlinewidth": 0,
              "ticks": ""
             }
            },
            "type": "scattercarpet"
           }
          ],
          "scattergeo": [
           {
            "marker": {
             "colorbar": {
              "outlinewidth": 0,
              "ticks": ""
             }
            },
            "type": "scattergeo"
           }
          ],
          "scattergl": [
           {
            "marker": {
             "colorbar": {
              "outlinewidth": 0,
              "ticks": ""
             }
            },
            "type": "scattergl"
           }
          ],
          "scattermap": [
           {
            "marker": {
             "colorbar": {
              "outlinewidth": 0,
              "ticks": ""
             }
            },
            "type": "scattermap"
           }
          ],
          "scattermapbox": [
           {
            "marker": {
             "colorbar": {
              "outlinewidth": 0,
              "ticks": ""
             }
            },
            "type": "scattermapbox"
           }
          ],
          "scatterpolar": [
           {
            "marker": {
             "colorbar": {
              "outlinewidth": 0,
              "ticks": ""
             }
            },
            "type": "scatterpolar"
           }
          ],
          "scatterpolargl": [
           {
            "marker": {
             "colorbar": {
              "outlinewidth": 0,
              "ticks": ""
             }
            },
            "type": "scatterpolargl"
           }
          ],
          "scatterternary": [
           {
            "marker": {
             "colorbar": {
              "outlinewidth": 0,
              "ticks": ""
             }
            },
            "type": "scatterternary"
           }
          ],
          "surface": [
           {
            "colorbar": {
             "outlinewidth": 0,
             "ticks": ""
            },
            "colorscale": [
             [
              0,
              "#0d0887"
             ],
             [
              0.1111111111111111,
              "#46039f"
             ],
             [
              0.2222222222222222,
              "#7201a8"
             ],
             [
              0.3333333333333333,
              "#9c179e"
             ],
             [
              0.4444444444444444,
              "#bd3786"
             ],
             [
              0.5555555555555556,
              "#d8576b"
             ],
             [
              0.6666666666666666,
              "#ed7953"
             ],
             [
              0.7777777777777778,
              "#fb9f3a"
             ],
             [
              0.8888888888888888,
              "#fdca26"
             ],
             [
              1,
              "#f0f921"
             ]
            ],
            "type": "surface"
           }
          ],
          "table": [
           {
            "cells": {
             "fill": {
              "color": "#EBF0F8"
             },
             "line": {
              "color": "white"
             }
            },
            "header": {
             "fill": {
              "color": "#C8D4E3"
             },
             "line": {
              "color": "white"
             }
            },
            "type": "table"
           }
          ]
         },
         "layout": {
          "annotationdefaults": {
           "arrowcolor": "#2a3f5f",
           "arrowhead": 0,
           "arrowwidth": 1
          },
          "autotypenumbers": "strict",
          "coloraxis": {
           "colorbar": {
            "outlinewidth": 0,
            "ticks": ""
           }
          },
          "colorscale": {
           "diverging": [
            [
             0,
             "#8e0152"
            ],
            [
             0.1,
             "#c51b7d"
            ],
            [
             0.2,
             "#de77ae"
            ],
            [
             0.3,
             "#f1b6da"
            ],
            [
             0.4,
             "#fde0ef"
            ],
            [
             0.5,
             "#f7f7f7"
            ],
            [
             0.6,
             "#e6f5d0"
            ],
            [
             0.7,
             "#b8e186"
            ],
            [
             0.8,
             "#7fbc41"
            ],
            [
             0.9,
             "#4d9221"
            ],
            [
             1,
             "#276419"
            ]
           ],
           "sequential": [
            [
             0,
             "#0d0887"
            ],
            [
             0.1111111111111111,
             "#46039f"
            ],
            [
             0.2222222222222222,
             "#7201a8"
            ],
            [
             0.3333333333333333,
             "#9c179e"
            ],
            [
             0.4444444444444444,
             "#bd3786"
            ],
            [
             0.5555555555555556,
             "#d8576b"
            ],
            [
             0.6666666666666666,
             "#ed7953"
            ],
            [
             0.7777777777777778,
             "#fb9f3a"
            ],
            [
             0.8888888888888888,
             "#fdca26"
            ],
            [
             1,
             "#f0f921"
            ]
           ],
           "sequentialminus": [
            [
             0,
             "#0d0887"
            ],
            [
             0.1111111111111111,
             "#46039f"
            ],
            [
             0.2222222222222222,
             "#7201a8"
            ],
            [
             0.3333333333333333,
             "#9c179e"
            ],
            [
             0.4444444444444444,
             "#bd3786"
            ],
            [
             0.5555555555555556,
             "#d8576b"
            ],
            [
             0.6666666666666666,
             "#ed7953"
            ],
            [
             0.7777777777777778,
             "#fb9f3a"
            ],
            [
             0.8888888888888888,
             "#fdca26"
            ],
            [
             1,
             "#f0f921"
            ]
           ]
          },
          "colorway": [
           "#636efa",
           "#EF553B",
           "#00cc96",
           "#ab63fa",
           "#FFA15A",
           "#19d3f3",
           "#FF6692",
           "#B6E880",
           "#FF97FF",
           "#FECB52"
          ],
          "font": {
           "color": "#2a3f5f"
          },
          "geo": {
           "bgcolor": "white",
           "lakecolor": "white",
           "landcolor": "#E5ECF6",
           "showlakes": true,
           "showland": true,
           "subunitcolor": "white"
          },
          "hoverlabel": {
           "align": "left"
          },
          "hovermode": "closest",
          "mapbox": {
           "style": "light"
          },
          "paper_bgcolor": "white",
          "plot_bgcolor": "#E5ECF6",
          "polar": {
           "angularaxis": {
            "gridcolor": "white",
            "linecolor": "white",
            "ticks": ""
           },
           "bgcolor": "#E5ECF6",
           "radialaxis": {
            "gridcolor": "white",
            "linecolor": "white",
            "ticks": ""
           }
          },
          "scene": {
           "xaxis": {
            "backgroundcolor": "#E5ECF6",
            "gridcolor": "white",
            "gridwidth": 2,
            "linecolor": "white",
            "showbackground": true,
            "ticks": "",
            "zerolinecolor": "white"
           },
           "yaxis": {
            "backgroundcolor": "#E5ECF6",
            "gridcolor": "white",
            "gridwidth": 2,
            "linecolor": "white",
            "showbackground": true,
            "ticks": "",
            "zerolinecolor": "white"
           },
           "zaxis": {
            "backgroundcolor": "#E5ECF6",
            "gridcolor": "white",
            "gridwidth": 2,
            "linecolor": "white",
            "showbackground": true,
            "ticks": "",
            "zerolinecolor": "white"
           }
          },
          "shapedefaults": {
           "line": {
            "color": "#2a3f5f"
           }
          },
          "ternary": {
           "aaxis": {
            "gridcolor": "white",
            "linecolor": "white",
            "ticks": ""
           },
           "baxis": {
            "gridcolor": "white",
            "linecolor": "white",
            "ticks": ""
           },
           "bgcolor": "#E5ECF6",
           "caxis": {
            "gridcolor": "white",
            "linecolor": "white",
            "ticks": ""
           }
          },
          "title": {
           "x": 0.05
          },
          "xaxis": {
           "automargin": true,
           "gridcolor": "white",
           "linecolor": "white",
           "ticks": "",
           "title": {
            "standoff": 15
           },
           "zerolinecolor": "white",
           "zerolinewidth": 2
          },
          "yaxis": {
           "automargin": true,
           "gridcolor": "white",
           "linecolor": "white",
           "ticks": "",
           "title": {
            "standoff": 15
           },
           "zerolinecolor": "white",
           "zerolinewidth": 2
          }
         }
        },
        "title": {
         "text": "Data Diagnostic: Data Validity (Average Score=1.0)"
        },
        "xaxis": {
         "anchor": "y",
         "categoryorder": "total ascending",
         "domain": [
          0,
          1
         ],
         "title": {
          "text": "Column"
         }
        },
        "yaxis": {
         "anchor": "x",
         "domain": [
          0,
          1
         ],
         "range": [
          0,
          1
         ],
         "title": {
          "text": "Score"
         }
        }
       }
      }
     },
     "metadata": {},
     "output_type": "display_data"
    }
   ],
   "source": [
    "gen_diagnostics.get_visualization(property_name=\"Data Validity\")"
   ]
  },
  {
   "cell_type": "code",
   "execution_count": 17,
   "metadata": {},
   "outputs": [
    {
     "name": "stdout",
     "output_type": "stream",
     "text": [
      "Generating report ...\n",
      "\n",
      "\n",
      "\u001b[A\n",
      "\u001b[A\n",
      "(1/2) Evaluating Column Shapes: |██████████| 16/16 [00:00<00:00, 76.44it/s]|\n",
      "Column Shapes Score: 89.41%\n",
      "\n",
      "\n",
      "\u001b[A\n",
      "\u001b[A\n",
      "\u001b[A\n",
      "\u001b[A\n",
      "\u001b[A\n",
      "\u001b[A\n",
      "\u001b[A\n",
      "\u001b[A\n",
      "\u001b[A\n",
      "\u001b[A\n",
      "\u001b[A\n",
      "\u001b[A\n",
      "\u001b[A\n",
      "\u001b[A\n",
      "\u001b[A\n",
      "\u001b[A\n",
      "\u001b[A\n",
      "\u001b[A\n",
      "(2/2) Evaluating Column Pair Trends: |██████████| 120/120 [00:02<00:00, 59.60it/s]|\n",
      "Column Pair Trends Score: 81.89%\n",
      "\n",
      "Overall Score (Average): 85.65%\n",
      "\n"
     ]
    }
   ],
   "source": [
    "# check built in quality\n",
    "gen_quality = evaluate_quality(\n",
    "    real_data=real_df, synthetic_data=fake_df, metadata=gen.get_metadata()\n",
    ")"
   ]
  },
  {
   "cell_type": "code",
   "execution_count": null,
   "metadata": {},
   "outputs": [
    {
     "data": {
      "application/vnd.plotly.v1+json": {
       "config": {
        "plotlyServerURL": "https://plot.ly"
       },
       "data": [
        {
         "coloraxis": "coloraxis",
         "hovertemplate": "<b>Column Pair</b><br>(%{x},%{y})<br><br>Similarity: %{z}<extra></extra>",
         "type": "heatmap",
         "x": [
          "age",
          "workclass",
          "fnlwgt",
          "education",
          "education_num",
          "marital_status",
          "occupation",
          "relationship",
          "race",
          "sex",
          "capital_gain",
          "capital_loss",
          "minutes_per_week",
          "native_country",
          "Income_Category",
          "rand10"
         ],
         "xaxis": "x",
         "y": [
          "age",
          "workclass",
          "fnlwgt",
          "education",
          "education_num",
          "marital_status",
          "occupation",
          "relationship",
          "race",
          "sex",
          "capital_gain",
          "capital_loss",
          "minutes_per_week",
          "native_country",
          "Income_Category",
          "rand10"
         ],
         "yaxis": "y",
         "z": {
          "bdata": "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",
          "dtype": "f8",
          "shape": "16, 16"
         }
        },
        {
         "coloraxis": "coloraxis2",
         "customdata": {
          "bdata": "AAAAAAAA8D97FK5H4XqEP9nO91PjpZs/AAAAAAAAwD9qvHSTGASmPxBYObTIdr4/exSuR+F6hD8AAAAAAADwP3sUrkfheoS/uB6F61G4nj9MN4lBYOWgP5qZmZmZmZk/2c73U+Olmz97FK5H4XqEvwAAAAAAAPA/CtejcD0Kxz+cxCCwcmixP/p+arx0k8g/AAAAAAAAwD+4HoXrUbiePwrXo3A9Csc/AAAAAAAA8D97FK5H4XqkP4/C9Shcj8I/arx0kxgEpj9MN4lBYOWgP5zEILByaLE/exSuR+F6pD8AAAAAAADwPxkEVg4tsp0/EFg5tMh2vj+amZmZmZmZP/p+arx0k8g/j8L1KFyPwj8ZBFYOLbKdPwAAAAAAAPA/",
          "dtype": "f8",
          "shape": "6, 6"
         },
         "hovertemplate": "<b>Correlation</b><br>(%{x},%{y})<br><br>Synthetic: %{z}<br>(vs. Real: %{customdata})<extra></extra>",
         "type": "heatmap",
         "x": [
          "age",
          "fnlwgt",
          "education_num",
          "capital_gain",
          "capital_loss",
          "minutes_per_week"
         ],
         "xaxis": "x2",
         "y": [
          "age",
          "fnlwgt",
          "education_num",
          "capital_gain",
          "capital_loss",
          "minutes_per_week"
         ],
         "yaxis": "y2",
         "z": {
          "bdata": "AAAAAAAA8D+DwMqhRbazv4ts5/up8aI/K4cW2c73sz8ZBFYOLbKtP0SLbOf7qbE/g8DKoUW2s78AAAAAAADwP2q8dJMYBKa/AAAAAAAAAAB7FK5H4XqEv9v5fmq8dJO/i2zn+6nxoj9qvHSTGASmvwAAAAAAAPA/sHJoke18vz97FK5H4Xq0P4ts5/up8cI/K4cW2c73sz8AAAAAAAAAALByaJHtfL8/AAAAAAAA8D/8qfHSTWKgvyuHFtnO97M/GQRWDi2yrT97FK5H4XqEv3sUrkfherQ//Knx0k1ioL8AAAAAAADwP9nO91Pjpas/RIts5/upsT/b+X5qvHSTv4ts5/up8cI/K4cW2c73sz/ZzvdT46WrPwAAAAAAAPA/",
          "dtype": "f8",
          "shape": "6, 6"
         }
        },
        {
         "coloraxis": "coloraxis2",
         "customdata": {
          "bdata": "AAAAAAAA8D+DwMqhRbazv4ts5/up8aI/K4cW2c73sz8ZBFYOLbKtP0SLbOf7qbE/g8DKoUW2s78AAAAAAADwP2q8dJMYBKa/AAAAAAAAAAB7FK5H4XqEv9v5fmq8dJO/i2zn+6nxoj9qvHSTGASmvwAAAAAAAPA/sHJoke18vz97FK5H4Xq0P4ts5/up8cI/K4cW2c73sz8AAAAAAAAAALByaJHtfL8/AAAAAAAA8D/8qfHSTWKgvyuHFtnO97M/GQRWDi2yrT97FK5H4XqEv3sUrkfherQ//Knx0k1ioL8AAAAAAADwP9nO91Pjpas/RIts5/upsT/b+X5qvHSTv4ts5/up8cI/K4cW2c73sz/ZzvdT46WrPwAAAAAAAPA/",
          "dtype": "f8",
          "shape": "6, 6"
         },
         "hovertemplate": "<b>Correlation</b><br>(%{x},%{y})<br><br>Synthetic: %{z}<br>(vs. Real: %{customdata})<extra></extra>",
         "type": "heatmap",
         "x": [
          "age",
          "fnlwgt",
          "education_num",
          "capital_gain",
          "capital_loss",
          "minutes_per_week"
         ],
         "xaxis": "x3",
         "y": [
          "age",
          "fnlwgt",
          "education_num",
          "capital_gain",
          "capital_loss",
          "minutes_per_week"
         ],
         "yaxis": "y3",
         "z": {
          "bdata": "AAAAAAAA8D97FK5H4XqEP9nO91PjpZs/AAAAAAAAwD9qvHSTGASmPxBYObTIdr4/exSuR+F6hD8AAAAAAADwP3sUrkfheoS/uB6F61G4nj9MN4lBYOWgP5qZmZmZmZk/2c73U+Olmz97FK5H4XqEvwAAAAAAAPA/CtejcD0Kxz+cxCCwcmixP/p+arx0k8g/AAAAAAAAwD+4HoXrUbiePwrXo3A9Csc/AAAAAAAA8D97FK5H4XqkP4/C9Shcj8I/arx0kxgEpj9MN4lBYOWgP5zEILByaLE/exSuR+F6pD8AAAAAAADwPxkEVg4tsp0/EFg5tMh2vj+amZmZmZmZP/p+arx0k8g/j8L1KFyPwj8ZBFYOLbKdPwAAAAAAAPA/",
          "dtype": "f8",
          "shape": "6, 6"
         }
        }
       ],
       "layout": {
        "annotations": [
         {
          "font": {
           "size": 16
          },
          "showarrow": false,
          "text": "Real vs. Synthetic Similarity",
          "x": 0.5,
          "xanchor": "center",
          "xref": "paper",
          "y": 1,
          "yanchor": "bottom",
          "yref": "paper"
         },
         {
          "font": {
           "size": 16
          },
          "showarrow": false,
          "text": "Numerical Correlation (Real Data)",
          "x": 0.225,
          "xanchor": "center",
          "xref": "paper",
          "y": 0.375,
          "yanchor": "bottom",
          "yref": "paper"
         },
         {
          "font": {
           "size": 16
          },
          "showarrow": false,
          "text": "Numerical Correlation (Synthetic Data)",
          "x": 0.775,
          "xanchor": "center",
          "xref": "paper",
          "y": 0.375,
          "yanchor": "bottom",
          "yref": "paper"
         }
        ],
        "coloraxis": {
         "cmax": 1,
         "cmin": 0,
         "colorbar": {
          "len": 0.5,
          "x": 0.8,
          "y": 0.8
         },
         "colorscale": [
          [
           0,
           "#FF0000"
          ],
          [
           0.5,
           "#F16141"
          ],
          [
           1,
           "#36B37E"
          ]
         ]
        },
        "coloraxis2": {
         "cmax": 1,
         "cmin": -1,
         "colorbar": {
          "len": 0.5,
          "y": 0.2
         },
         "colorscale": [
          [
           0,
           "#03AFF1"
          ],
          [
           0.5,
           "#000036"
          ],
          [
           1,
           "#01E0C9"
          ]
         ]
        },
        "font": {
         "size": 18
        },
        "height": 900,
        "template": {
         "data": {
          "bar": [
           {
            "error_x": {
             "color": "#2a3f5f"
            },
            "error_y": {
             "color": "#2a3f5f"
            },
            "marker": {
             "line": {
              "color": "#E5ECF6",
              "width": 0.5
             },
             "pattern": {
              "fillmode": "overlay",
              "size": 10,
              "solidity": 0.2
             }
            },
            "type": "bar"
           }
          ],
          "barpolar": [
           {
            "marker": {
             "line": {
              "color": "#E5ECF6",
              "width": 0.5
             },
             "pattern": {
              "fillmode": "overlay",
              "size": 10,
              "solidity": 0.2
             }
            },
            "type": "barpolar"
           }
          ],
          "carpet": [
           {
            "aaxis": {
             "endlinecolor": "#2a3f5f",
             "gridcolor": "white",
             "linecolor": "white",
             "minorgridcolor": "white",
             "startlinecolor": "#2a3f5f"
            },
            "baxis": {
             "endlinecolor": "#2a3f5f",
             "gridcolor": "white",
             "linecolor": "white",
             "minorgridcolor": "white",
             "startlinecolor": "#2a3f5f"
            },
            "type": "carpet"
           }
          ],
          "choropleth": [
           {
            "colorbar": {
             "outlinewidth": 0,
             "ticks": ""
            },
            "type": "choropleth"
           }
          ],
          "contour": [
           {
            "colorbar": {
             "outlinewidth": 0,
             "ticks": ""
            },
            "colorscale": [
             [
              0,
              "#0d0887"
             ],
             [
              0.1111111111111111,
              "#46039f"
             ],
             [
              0.2222222222222222,
              "#7201a8"
             ],
             [
              0.3333333333333333,
              "#9c179e"
             ],
             [
              0.4444444444444444,
              "#bd3786"
             ],
             [
              0.5555555555555556,
              "#d8576b"
             ],
             [
              0.6666666666666666,
              "#ed7953"
             ],
             [
              0.7777777777777778,
              "#fb9f3a"
             ],
             [
              0.8888888888888888,
              "#fdca26"
             ],
             [
              1,
              "#f0f921"
             ]
            ],
            "type": "contour"
           }
          ],
          "contourcarpet": [
           {
            "colorbar": {
             "outlinewidth": 0,
             "ticks": ""
            },
            "type": "contourcarpet"
           }
          ],
          "heatmap": [
           {
            "colorbar": {
             "outlinewidth": 0,
             "ticks": ""
            },
            "colorscale": [
             [
              0,
              "#0d0887"
             ],
             [
              0.1111111111111111,
              "#46039f"
             ],
             [
              0.2222222222222222,
              "#7201a8"
             ],
             [
              0.3333333333333333,
              "#9c179e"
             ],
             [
              0.4444444444444444,
              "#bd3786"
             ],
             [
              0.5555555555555556,
              "#d8576b"
             ],
             [
              0.6666666666666666,
              "#ed7953"
             ],
             [
              0.7777777777777778,
              "#fb9f3a"
             ],
             [
              0.8888888888888888,
              "#fdca26"
             ],
             [
              1,
              "#f0f921"
             ]
            ],
            "type": "heatmap"
           }
          ],
          "histogram": [
           {
            "marker": {
             "pattern": {
              "fillmode": "overlay",
              "size": 10,
              "solidity": 0.2
             }
            },
            "type": "histogram"
           }
          ],
          "histogram2d": [
           {
            "colorbar": {
             "outlinewidth": 0,
             "ticks": ""
            },
            "colorscale": [
             [
              0,
              "#0d0887"
             ],
             [
              0.1111111111111111,
              "#46039f"
             ],
             [
              0.2222222222222222,
              "#7201a8"
             ],
             [
              0.3333333333333333,
              "#9c179e"
             ],
             [
              0.4444444444444444,
              "#bd3786"
             ],
             [
              0.5555555555555556,
              "#d8576b"
             ],
             [
              0.6666666666666666,
              "#ed7953"
             ],
             [
              0.7777777777777778,
              "#fb9f3a"
             ],
             [
              0.8888888888888888,
              "#fdca26"
             ],
             [
              1,
              "#f0f921"
             ]
            ],
            "type": "histogram2d"
           }
          ],
          "histogram2dcontour": [
           {
            "colorbar": {
             "outlinewidth": 0,
             "ticks": ""
            },
            "colorscale": [
             [
              0,
              "#0d0887"
             ],
             [
              0.1111111111111111,
              "#46039f"
             ],
             [
              0.2222222222222222,
              "#7201a8"
             ],
             [
              0.3333333333333333,
              "#9c179e"
             ],
             [
              0.4444444444444444,
              "#bd3786"
             ],
             [
              0.5555555555555556,
              "#d8576b"
             ],
             [
              0.6666666666666666,
              "#ed7953"
             ],
             [
              0.7777777777777778,
              "#fb9f3a"
             ],
             [
              0.8888888888888888,
              "#fdca26"
             ],
             [
              1,
              "#f0f921"
             ]
            ],
            "type": "histogram2dcontour"
           }
          ],
          "mesh3d": [
           {
            "colorbar": {
             "outlinewidth": 0,
             "ticks": ""
            },
            "type": "mesh3d"
           }
          ],
          "parcoords": [
           {
            "line": {
             "colorbar": {
              "outlinewidth": 0,
              "ticks": ""
             }
            },
            "type": "parcoords"
           }
          ],
          "pie": [
           {
            "automargin": true,
            "type": "pie"
           }
          ],
          "scatter": [
           {
            "fillpattern": {
             "fillmode": "overlay",
             "size": 10,
             "solidity": 0.2
            },
            "type": "scatter"
           }
          ],
          "scatter3d": [
           {
            "line": {
             "colorbar": {
              "outlinewidth": 0,
              "ticks": ""
             }
            },
            "marker": {
             "colorbar": {
              "outlinewidth": 0,
              "ticks": ""
             }
            },
            "type": "scatter3d"
           }
          ],
          "scattercarpet": [
           {
            "marker": {
             "colorbar": {
              "outlinewidth": 0,
              "ticks": ""
             }
            },
            "type": "scattercarpet"
           }
          ],
          "scattergeo": [
           {
            "marker": {
             "colorbar": {
              "outlinewidth": 0,
              "ticks": ""
             }
            },
            "type": "scattergeo"
           }
          ],
          "scattergl": [
           {
            "marker": {
             "colorbar": {
              "outlinewidth": 0,
              "ticks": ""
             }
            },
            "type": "scattergl"
           }
          ],
          "scattermap": [
           {
            "marker": {
             "colorbar": {
              "outlinewidth": 0,
              "ticks": ""
             }
            },
            "type": "scattermap"
           }
          ],
          "scattermapbox": [
           {
            "marker": {
             "colorbar": {
              "outlinewidth": 0,
              "ticks": ""
             }
            },
            "type": "scattermapbox"
           }
          ],
          "scatterpolar": [
           {
            "marker": {
             "colorbar": {
              "outlinewidth": 0,
              "ticks": ""
             }
            },
            "type": "scatterpolar"
           }
          ],
          "scatterpolargl": [
           {
            "marker": {
             "colorbar": {
              "outlinewidth": 0,
              "ticks": ""
             }
            },
            "type": "scatterpolargl"
           }
          ],
          "scatterternary": [
           {
            "marker": {
             "colorbar": {
              "outlinewidth": 0,
              "ticks": ""
             }
            },
            "type": "scatterternary"
           }
          ],
          "surface": [
           {
            "colorbar": {
             "outlinewidth": 0,
             "ticks": ""
            },
            "colorscale": [
             [
              0,
              "#0d0887"
             ],
             [
              0.1111111111111111,
              "#46039f"
             ],
             [
              0.2222222222222222,
              "#7201a8"
             ],
             [
              0.3333333333333333,
              "#9c179e"
             ],
             [
              0.4444444444444444,
              "#bd3786"
             ],
             [
              0.5555555555555556,
              "#d8576b"
             ],
             [
              0.6666666666666666,
              "#ed7953"
             ],
             [
              0.7777777777777778,
              "#fb9f3a"
             ],
             [
              0.8888888888888888,
              "#fdca26"
             ],
             [
              1,
              "#f0f921"
             ]
            ],
            "type": "surface"
           }
          ],
          "table": [
           {
            "cells": {
             "fill": {
              "color": "#EBF0F8"
             },
             "line": {
              "color": "white"
             }
            },
            "header": {
             "fill": {
              "color": "#C8D4E3"
             },
             "line": {
              "color": "white"
             }
            },
            "type": "table"
           }
          ]
         },
         "layout": {
          "annotationdefaults": {
           "arrowcolor": "#2a3f5f",
           "arrowhead": 0,
           "arrowwidth": 1
          },
          "autotypenumbers": "strict",
          "coloraxis": {
           "colorbar": {
            "outlinewidth": 0,
            "ticks": ""
           }
          },
          "colorscale": {
           "diverging": [
            [
             0,
             "#8e0152"
            ],
            [
             0.1,
             "#c51b7d"
            ],
            [
             0.2,
             "#de77ae"
            ],
            [
             0.3,
             "#f1b6da"
            ],
            [
             0.4,
             "#fde0ef"
            ],
            [
             0.5,
             "#f7f7f7"
            ],
            [
             0.6,
             "#e6f5d0"
            ],
            [
             0.7,
             "#b8e186"
            ],
            [
             0.8,
             "#7fbc41"
            ],
            [
             0.9,
             "#4d9221"
            ],
            [
             1,
             "#276419"
            ]
           ],
           "sequential": [
            [
             0,
             "#0d0887"
            ],
            [
             0.1111111111111111,
             "#46039f"
            ],
            [
             0.2222222222222222,
             "#7201a8"
            ],
            [
             0.3333333333333333,
             "#9c179e"
            ],
            [
             0.4444444444444444,
             "#bd3786"
            ],
            [
             0.5555555555555556,
             "#d8576b"
            ],
            [
             0.6666666666666666,
             "#ed7953"
            ],
            [
             0.7777777777777778,
             "#fb9f3a"
            ],
            [
             0.8888888888888888,
             "#fdca26"
            ],
            [
             1,
             "#f0f921"
            ]
           ],
           "sequentialminus": [
            [
             0,
             "#0d0887"
            ],
            [
             0.1111111111111111,
             "#46039f"
            ],
            [
             0.2222222222222222,
             "#7201a8"
            ],
            [
             0.3333333333333333,
             "#9c179e"
            ],
            [
             0.4444444444444444,
             "#bd3786"
            ],
            [
             0.5555555555555556,
             "#d8576b"
            ],
            [
             0.6666666666666666,
             "#ed7953"
            ],
            [
             0.7777777777777778,
             "#fb9f3a"
            ],
            [
             0.8888888888888888,
             "#fdca26"
            ],
            [
             1,
             "#f0f921"
            ]
           ]
          },
          "colorway": [
           "#636efa",
           "#EF553B",
           "#00cc96",
           "#ab63fa",
           "#FFA15A",
           "#19d3f3",
           "#FF6692",
           "#B6E880",
           "#FF97FF",
           "#FECB52"
          ],
          "font": {
           "color": "#2a3f5f"
          },
          "geo": {
           "bgcolor": "white",
           "lakecolor": "white",
           "landcolor": "#E5ECF6",
           "showlakes": true,
           "showland": true,
           "subunitcolor": "white"
          },
          "hoverlabel": {
           "align": "left"
          },
          "hovermode": "closest",
          "mapbox": {
           "style": "light"
          },
          "paper_bgcolor": "white",
          "plot_bgcolor": "#E5ECF6",
          "polar": {
           "angularaxis": {
            "gridcolor": "white",
            "linecolor": "white",
            "ticks": ""
           },
           "bgcolor": "#E5ECF6",
           "radialaxis": {
            "gridcolor": "white",
            "linecolor": "white",
            "ticks": ""
           }
          },
          "scene": {
           "xaxis": {
            "backgroundcolor": "#E5ECF6",
            "gridcolor": "white",
            "gridwidth": 2,
            "linecolor": "white",
            "showbackground": true,
            "ticks": "",
            "zerolinecolor": "white"
           },
           "yaxis": {
            "backgroundcolor": "#E5ECF6",
            "gridcolor": "white",
            "gridwidth": 2,
            "linecolor": "white",
            "showbackground": true,
            "ticks": "",
            "zerolinecolor": "white"
           },
           "zaxis": {
            "backgroundcolor": "#E5ECF6",
            "gridcolor": "white",
            "gridwidth": 2,
            "linecolor": "white",
            "showbackground": true,
            "ticks": "",
            "zerolinecolor": "white"
           }
          },
          "shapedefaults": {
           "line": {
            "color": "#2a3f5f"
           }
          },
          "ternary": {
           "aaxis": {
            "gridcolor": "white",
            "linecolor": "white",
            "ticks": ""
           },
           "baxis": {
            "gridcolor": "white",
            "linecolor": "white",
            "ticks": ""
           },
           "bgcolor": "#E5ECF6",
           "caxis": {
            "gridcolor": "white",
            "linecolor": "white",
            "ticks": ""
           }
          },
          "title": {
           "x": 0.05
          },
          "xaxis": {
           "automargin": true,
           "gridcolor": "white",
           "linecolor": "white",
           "ticks": "",
           "title": {
            "standoff": 15
           },
           "zerolinecolor": "white",
           "zerolinewidth": 2
          },
          "yaxis": {
           "automargin": true,
           "gridcolor": "white",
           "linecolor": "white",
           "ticks": "",
           "title": {
            "standoff": 15
           },
           "zerolinecolor": "white",
           "zerolinewidth": 2
          }
         }
        },
        "title": {
         "text": "Data Quality: Column Pair Trends (Average Score=0.82)"
        },
        "width": 900,
        "xaxis": {
         "anchor": "y",
         "domain": [
          0.26,
          0.74
         ],
         "tickangle": 45
        },
        "xaxis2": {
         "anchor": "y2",
         "domain": [
          0,
          0.45
         ],
         "tickangle": 45
        },
        "xaxis3": {
         "anchor": "y3",
         "domain": [
          0.55,
          1
         ],
         "matches": "x2",
         "tickangle": 45
        },
        "yaxis": {
         "anchor": "x",
         "autorange": "reversed",
         "domain": [
          0.625,
          1
         ]
        },
        "yaxis2": {
         "anchor": "x2",
         "autorange": "reversed",
         "domain": [
          0,
          0.375
         ]
        },
        "yaxis3": {
         "anchor": "x3",
         "autorange": "reversed",
         "domain": [
          0,
          0.375
         ],
         "matches": "y2",
         "visible": false
        }
       }
      }
     },
     "metadata": {},
     "output_type": "display_data"
    },
    {
     "name": "stdout",
     "output_type": "stream",
     "text": []
    }
   ],
   "source": [
    "gen_quality.get_visualization(property_name=\"Column Shapes\")\n",
    "gen_quality.get_visualization(property_name=\"Column Pair Trends\")"
   ]
  }
 ],
 "metadata": {
  "kernelspec": {
   "display_name": ".venv",
   "language": "python",
   "name": "python3"
  },
  "language_info": {
   "codemirror_mode": {
    "name": "ipython",
    "version": 3
   },
   "file_extension": ".py",
   "mimetype": "text/x-python",
   "name": "python",
   "nbconvert_exporter": "python",
   "pygments_lexer": "ipython3",
   "version": "3.12.3"
  }
 },
 "nbformat": 4,
 "nbformat_minor": 2
}
