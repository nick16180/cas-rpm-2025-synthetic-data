{
 "cells": [
  {
   "cell_type": "code",
   "execution_count": 45,
   "metadata": {},
   "outputs": [],
   "source": [
    "import pickle\n",
    "import re\n",
    "from pathlib import Path\n",
    "\n",
    "import pandas as pd\n",
    "from sdv.evaluation.single_table import (\n",
    "    evaluate_quality,\n",
    ")\n",
    "from tqdm import tqdm\n",
    "\n",
    "PROJECT_ROOT = Path(__name__).resolve().parent.parent.parent\n",
    "INPUT_FOLDER = PROJECT_ROOT / \"data/input\"\n",
    "OUTPUT_FOLDER = PROJECT_ROOT / \"data/output\"\n",
    "OUTPUT_FOLDER.mkdir(parents=True, exist_ok=True)"
   ]
  },
  {
   "cell_type": "code",
   "execution_count": 31,
   "metadata": {},
   "outputs": [],
   "source": [
    "# Get folders and pkl files to loop through\n",
    "#  Will create data for a plot in excel\n",
    "ifolder = INPUT_FOLDER / \"UCI_winequality\"\n",
    "ofolder = OUTPUT_FOLDER / \"UCI_winequality\"\n",
    "\n",
    "# Get original data\n",
    "real_df = pd.read_pickle(ofolder / \"real_df.pkl\")\n",
    "\n",
    "# Create table of metadata based on folder name\n",
    "folders = (ofolder / \"grid\").glob(\"*\")\n",
    "folders_meta = []\n",
    "\n",
    "for folder in folders:\n",
    "    e = re.sub(\"batch.*\", \"\", folder.stem)\n",
    "    e = re.sub(\"epoch\", \"\", e)\n",
    "    e = int(e.strip())\n",
    "    b = re.sub(\".*batch\", \"\", folder.stem)\n",
    "    b = int(b.strip())\n",
    "    folders_meta.append({\"epoch\": e, \"batch\": b, \"pkl\": folder / \"ctgan.pkl\"})"
   ]
  },
  {
   "cell_type": "code",
   "execution_count": 40,
   "metadata": {},
   "outputs": [
    {
     "name": "stderr",
     "output_type": "stream",
     "text": [
      "100%|██████████| 45/45 [00:24<00:00,  1.81it/s]\n"
     ]
    }
   ],
   "source": [
    "# Loop through each model and find the overall data quality score\n",
    "for item in tqdm(folders_meta):\n",
    "    gen = None\n",
    "    with open(item.get(\"pkl\"), \"rb\") as io:\n",
    "        gen = pickle.load(io)\n",
    "    fake_df = gen.sample(num_rows=real_df.shape[0])\n",
    "    gen_quality = evaluate_quality(\n",
    "        real_data=real_df, synthetic_data=fake_df, metadata=gen.get_metadata(), verbose = False\n",
    "    )\n",
    "    temp = gen_quality.get_properties()\n",
    "    res = {\n",
    "        \"OverallScore\": float(gen_quality.get_score()),\n",
    "        \"Column Shapes\": float(temp[temp.Property == \"Column Shapes\"].iloc[0, 1]),\n",
    "        \"Column Pair Trends\": float(temp[temp.Property == \"Column Pair Trends\"].iloc[0, 1]),\n",
    "    }\n",
    "    item.update(res)\n"
   ]
  },
  {
   "cell_type": "code",
   "execution_count": 55,
   "metadata": {},
   "outputs": [],
   "source": [
    "folders_df = pd.DataFrame(folders_meta)\n",
    "folders_df.drop([\"pkl\"], inplace = True, axis=1)\n",
    "folders_df.head()\n",
    "folders_df.to_csv(ofolder / \"grid_results.csv\", index=False)"
   ]
  }
 ],
 "metadata": {
  "kernelspec": {
   "display_name": ".venv",
   "language": "python",
   "name": "python3"
  },
  "language_info": {
   "codemirror_mode": {
    "name": "ipython",
    "version": 3
   },
   "file_extension": ".py",
   "mimetype": "text/x-python",
   "name": "python",
   "nbconvert_exporter": "python",
   "pygments_lexer": "ipython3",
   "version": "3.12.3"
  }
 },
 "nbformat": 4,
 "nbformat_minor": 2
}
